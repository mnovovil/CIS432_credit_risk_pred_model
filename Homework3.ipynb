{
 "cells": [
  {
   "cell_type": "markdown",
   "metadata": {
    "deletable": false,
    "editable": false,
    "nbgrader": {
     "grade": false,
     "grade_id": "cell-beb82d1cf0e76f0e",
     "locked": true,
     "schema_version": 3,
     "solution": false,
     "task": false
    }
   },
   "source": [
    "<h1>Homework 3: Training and evaluating predictive models</h1>\n",
    "<h2>Predictive Analytics using Python (CIS432)</h2>\n",
    "<h3>Simon Business School</h3>\n",
    "\n",
    "__Instructor__: Yaron Shaposhnik\n",
    "\n",
    "\n"
   ]
  },
  {
   "cell_type": "markdown",
   "metadata": {
    "deletable": false,
    "editable": false,
    "nbgrader": {
     "grade": false,
     "grade_id": "cell-bf47835b7a801cc7",
     "locked": true,
     "schema_version": 3,
     "solution": false,
     "task": false
    }
   },
   "source": [
    "### Instructions\n",
    "\n",
    "In this homework assignment, we will train and evaluate predictive models based on the HELOC dataset. We will reinforce the following concepts and techniques: \n",
    "* Preprocessing, imputers, and pipelines\n",
    "* Model training, Hyper-parameter tuning, grid search, and prediction\n",
    "* The validation set and cross validation methods\n",
    "* Confusion matrix\n",
    "* Performance metrics"
   ]
  },
  {
   "cell_type": "markdown",
   "metadata": {
    "deletable": false,
    "editable": false,
    "nbgrader": {
     "grade": false,
     "grade_id": "cell-c9473db3b6b0d741",
     "locked": true,
     "schema_version": 3,
     "solution": false,
     "task": false
    }
   },
   "source": [
    "## Answer key\n",
    "\n",
    "This assignment (as well as others) is graded by comparing your answers (that is, the variables and Python objects you create) with precomputed answers. This allows you to get immediate feedback in order to find your errors and correct them. The downside of this approach is that the grading code is strict and even slight deviations from the desired outputs could result in reduction of points. \n",
    "\n",
    "To make this learning experience more efficient, the objects that you are asked to generate are provided to you in the variable `ANSWER_KEY`. Questions may ask you to assign a value (like a number or object such as data frame) to a variable. For example, in the second question you are asked to assign the variable `n_rows` with a certain value. To view the correct answer simply run the command `ANSWER_KEY['n_rows']`. \n",
    "\n",
    "Note that the answer key is provided to you __for debugging purposes only__. Using it in your final submission or hard-coding solutions __will be considered plagiarism__ and be reported to the student disciplinary committee."
   ]
  },
  {
   "cell_type": "code",
   "execution_count": 1,
   "metadata": {
    "collapsed": true,
    "deletable": false,
    "editable": false,
    "nbgrader": {
     "grade": true,
     "grade_id": "imports",
     "locked": true,
     "points": 10,
     "schema_version": 3,
     "solution": false,
     "task": false
    }
   },
   "outputs": [],
   "source": [
    "# you may ignore this cell\n",
    "import os\n",
    "import pandas as pd\n",
    "import numpy as np\n",
    "import matplotlib.pyplot as plt\n",
    "import pickle\n",
    "\n",
    "if os.name == 'nt':\n",
    "    ANSWER_KEY_FILE_NAME = \"answer_key(win).p\"\n",
    "elif os.name == 'posix':\n",
    "    ANSWER_KEY_FILE_NAME = \"answer_key(unix).p\"\n",
    "else:\n",
    "    raise Exception('The code was not tested on',os.name)\n",
    "\n",
    "GENERATE_ANSWER_KEY=False\n",
    "\n",
    "if GENERATE_ANSWER_KEY: \n",
    "    ANSWER_KEY = {} \n",
    "else:        \n",
    "    with open(ANSWER_KEY_FILE_NAME, \"rb\") as f:\n",
    "        ANSWER_KEY = pickle.load( f )       "
   ]
  },
  {
   "cell_type": "code",
   "execution_count": 2,
   "metadata": {
    "deletable": false,
    "editable": false,
    "nbgrader": {
     "grade": false,
     "grade_id": "cell-8219ebfbd84c42d7",
     "locked": true,
     "schema_version": 3,
     "solution": false,
     "task": false
    }
   },
   "outputs": [
    {
     "name": "stdout",
     "output_type": "stream",
     "text": [
      "[[598 354]\n",
      " [240 780]]\n"
     ]
    }
   ],
   "source": [
    "# An example for using answer key\n",
    "if GENERATE_ANSWER_KEY==False: \n",
    "    print(ANSWER_KEY['conf_matrix'])"
   ]
  },
  {
   "cell_type": "markdown",
   "metadata": {
    "deletable": false,
    "editable": false,
    "nbgrader": {
     "grade": false,
     "grade_id": "cell-8654293b8a6657dx",
     "locked": true,
     "schema_version": 3,
     "solution": false,
     "task": false
    }
   },
   "source": [
    "# Beginning of homework 3"
   ]
  },
  {
   "cell_type": "markdown",
   "metadata": {
    "deletable": false,
    "editable": false,
    "nbgrader": {
     "grade": false,
     "grade_id": "cell-086a03c61637ee62",
     "locked": true,
     "schema_version": 3,
     "solution": false,
     "task": false
    }
   },
   "source": [
    "# Part 1: Formulating a prediction problem\n",
    "\n",
    "In the the previous assignment we explored the HELOC dataset. \n",
    "\n",
    "Load the csv file `heloc_dataset_v1(exc empty rows.).csv_pre(-1,asis).csv` into the variable `df`"
   ]
  },
  {
   "cell_type": "code",
   "execution_count": 3,
   "metadata": {
    "collapsed": true,
    "nbgrader": {
     "grade": false,
     "grade_id": "cell-370df72e75f92728",
     "locked": false,
     "schema_version": 3,
     "solution": true,
     "task": false
    }
   },
   "outputs": [],
   "source": [
    "df = pd.read_csv(\"heloc_dataset_v1(exc empty rows.).csv_pre(-1,asis).csv\")\n",
    "###\n",
    "### YOUR CODE HERE\n",
    "###\n"
   ]
  },
  {
   "cell_type": "code",
   "execution_count": 4,
   "metadata": {
    "collapsed": true,
    "deletable": false,
    "editable": false,
    "nbgrader": {
     "grade": true,
     "grade_id": "q1a_",
     "locked": true,
     "points": 3,
     "schema_version": 3,
     "solution": false,
     "task": false
    }
   },
   "outputs": [],
   "source": [
    "### BEGIN TEST (DO NOT REMOVE CELL)\n",
    "sol = ANSWER_KEY['df']\n",
    "diff = sol.compare(df, keep_equal=False, align_axis=0)\n",
    "assert(len(diff)==0), 'testing df'\n",
    "### END TEST "
   ]
  },
  {
   "cell_type": "code",
   "execution_count": 5,
   "metadata": {
    "deletable": false,
    "editable": false,
    "nbgrader": {
     "grade": false,
     "grade_id": "cell-6a313d11d9f6d457",
     "locked": true,
     "schema_version": 3,
     "solution": false,
     "task": false
    },
    "scrolled": true
   },
   "outputs": [
    {
     "data": {
      "text/html": [
       "<div>\n",
       "<style scoped>\n",
       "    .dataframe tbody tr th:only-of-type {\n",
       "        vertical-align: middle;\n",
       "    }\n",
       "\n",
       "    .dataframe tbody tr th {\n",
       "        vertical-align: top;\n",
       "    }\n",
       "\n",
       "    .dataframe thead th {\n",
       "        text-align: right;\n",
       "    }\n",
       "</style>\n",
       "<table border=\"1\" class=\"dataframe\">\n",
       "  <thead>\n",
       "    <tr style=\"text-align: right;\">\n",
       "      <th></th>\n",
       "      <th>ExternalRiskEstimate</th>\n",
       "      <th>MSinceOldestTradeOpen</th>\n",
       "      <th>MSinceMostRecentTradeOpen</th>\n",
       "      <th>AverageMInFile</th>\n",
       "      <th>NumSatisfactoryTrades</th>\n",
       "      <th>NumTrades60Ever2DerogPubRec</th>\n",
       "      <th>NumTrades90Ever2DerogPubRec</th>\n",
       "      <th>PercentTradesNeverDelq</th>\n",
       "      <th>MSinceMostRecentDelq</th>\n",
       "      <th>MaxDelq2PublicRecLast12M</th>\n",
       "      <th>...</th>\n",
       "      <th>MSinceMostRecentInqexcl7days</th>\n",
       "      <th>NumInqLast6M</th>\n",
       "      <th>NumInqLast6Mexcl7days</th>\n",
       "      <th>NetFractionRevolvingBurden</th>\n",
       "      <th>NetFractionInstallBurden</th>\n",
       "      <th>NumRevolvingTradesWBalance</th>\n",
       "      <th>NumInstallTradesWBalance</th>\n",
       "      <th>NumBank2NatlTradesWHighUtilization</th>\n",
       "      <th>PercentTradesWBalance</th>\n",
       "      <th>RiskPerformance</th>\n",
       "    </tr>\n",
       "  </thead>\n",
       "  <tbody>\n",
       "    <tr>\n",
       "      <th>0</th>\n",
       "      <td>55</td>\n",
       "      <td>144</td>\n",
       "      <td>4</td>\n",
       "      <td>84</td>\n",
       "      <td>20</td>\n",
       "      <td>3</td>\n",
       "      <td>0</td>\n",
       "      <td>83</td>\n",
       "      <td>2</td>\n",
       "      <td>3</td>\n",
       "      <td>...</td>\n",
       "      <td>0</td>\n",
       "      <td>0</td>\n",
       "      <td>0</td>\n",
       "      <td>33</td>\n",
       "      <td>-8</td>\n",
       "      <td>8</td>\n",
       "      <td>1</td>\n",
       "      <td>1</td>\n",
       "      <td>69</td>\n",
       "      <td>Bad</td>\n",
       "    </tr>\n",
       "    <tr>\n",
       "      <th>1</th>\n",
       "      <td>61</td>\n",
       "      <td>58</td>\n",
       "      <td>15</td>\n",
       "      <td>41</td>\n",
       "      <td>2</td>\n",
       "      <td>4</td>\n",
       "      <td>4</td>\n",
       "      <td>100</td>\n",
       "      <td>-7</td>\n",
       "      <td>0</td>\n",
       "      <td>...</td>\n",
       "      <td>0</td>\n",
       "      <td>0</td>\n",
       "      <td>0</td>\n",
       "      <td>0</td>\n",
       "      <td>-8</td>\n",
       "      <td>0</td>\n",
       "      <td>-8</td>\n",
       "      <td>-8</td>\n",
       "      <td>0</td>\n",
       "      <td>Bad</td>\n",
       "    </tr>\n",
       "    <tr>\n",
       "      <th>2</th>\n",
       "      <td>67</td>\n",
       "      <td>66</td>\n",
       "      <td>5</td>\n",
       "      <td>24</td>\n",
       "      <td>9</td>\n",
       "      <td>0</td>\n",
       "      <td>0</td>\n",
       "      <td>100</td>\n",
       "      <td>-7</td>\n",
       "      <td>7</td>\n",
       "      <td>...</td>\n",
       "      <td>0</td>\n",
       "      <td>4</td>\n",
       "      <td>4</td>\n",
       "      <td>53</td>\n",
       "      <td>66</td>\n",
       "      <td>4</td>\n",
       "      <td>2</td>\n",
       "      <td>1</td>\n",
       "      <td>86</td>\n",
       "      <td>Bad</td>\n",
       "    </tr>\n",
       "    <tr>\n",
       "      <th>3</th>\n",
       "      <td>66</td>\n",
       "      <td>169</td>\n",
       "      <td>1</td>\n",
       "      <td>73</td>\n",
       "      <td>28</td>\n",
       "      <td>1</td>\n",
       "      <td>1</td>\n",
       "      <td>93</td>\n",
       "      <td>76</td>\n",
       "      <td>6</td>\n",
       "      <td>...</td>\n",
       "      <td>0</td>\n",
       "      <td>5</td>\n",
       "      <td>4</td>\n",
       "      <td>72</td>\n",
       "      <td>83</td>\n",
       "      <td>6</td>\n",
       "      <td>4</td>\n",
       "      <td>3</td>\n",
       "      <td>91</td>\n",
       "      <td>Bad</td>\n",
       "    </tr>\n",
       "    <tr>\n",
       "      <th>4</th>\n",
       "      <td>81</td>\n",
       "      <td>333</td>\n",
       "      <td>27</td>\n",
       "      <td>132</td>\n",
       "      <td>12</td>\n",
       "      <td>0</td>\n",
       "      <td>0</td>\n",
       "      <td>100</td>\n",
       "      <td>-7</td>\n",
       "      <td>7</td>\n",
       "      <td>...</td>\n",
       "      <td>0</td>\n",
       "      <td>1</td>\n",
       "      <td>1</td>\n",
       "      <td>51</td>\n",
       "      <td>89</td>\n",
       "      <td>3</td>\n",
       "      <td>1</td>\n",
       "      <td>0</td>\n",
       "      <td>80</td>\n",
       "      <td>Bad</td>\n",
       "    </tr>\n",
       "  </tbody>\n",
       "</table>\n",
       "<p>5 rows × 24 columns</p>\n",
       "</div>"
      ],
      "text/plain": [
       "   ExternalRiskEstimate  MSinceOldestTradeOpen  MSinceMostRecentTradeOpen  \\\n",
       "0                    55                    144                          4   \n",
       "1                    61                     58                         15   \n",
       "2                    67                     66                          5   \n",
       "3                    66                    169                          1   \n",
       "4                    81                    333                         27   \n",
       "\n",
       "   AverageMInFile  NumSatisfactoryTrades  NumTrades60Ever2DerogPubRec  \\\n",
       "0              84                     20                            3   \n",
       "1              41                      2                            4   \n",
       "2              24                      9                            0   \n",
       "3              73                     28                            1   \n",
       "4             132                     12                            0   \n",
       "\n",
       "   NumTrades90Ever2DerogPubRec  PercentTradesNeverDelq  MSinceMostRecentDelq  \\\n",
       "0                            0                      83                     2   \n",
       "1                            4                     100                    -7   \n",
       "2                            0                     100                    -7   \n",
       "3                            1                      93                    76   \n",
       "4                            0                     100                    -7   \n",
       "\n",
       "   MaxDelq2PublicRecLast12M  ...  MSinceMostRecentInqexcl7days  NumInqLast6M  \\\n",
       "0                         3  ...                             0             0   \n",
       "1                         0  ...                             0             0   \n",
       "2                         7  ...                             0             4   \n",
       "3                         6  ...                             0             5   \n",
       "4                         7  ...                             0             1   \n",
       "\n",
       "   NumInqLast6Mexcl7days  NetFractionRevolvingBurden  \\\n",
       "0                      0                          33   \n",
       "1                      0                           0   \n",
       "2                      4                          53   \n",
       "3                      4                          72   \n",
       "4                      1                          51   \n",
       "\n",
       "   NetFractionInstallBurden  NumRevolvingTradesWBalance  \\\n",
       "0                        -8                           8   \n",
       "1                        -8                           0   \n",
       "2                        66                           4   \n",
       "3                        83                           6   \n",
       "4                        89                           3   \n",
       "\n",
       "   NumInstallTradesWBalance  NumBank2NatlTradesWHighUtilization  \\\n",
       "0                         1                                   1   \n",
       "1                        -8                                  -8   \n",
       "2                         2                                   1   \n",
       "3                         4                                   3   \n",
       "4                         1                                   0   \n",
       "\n",
       "   PercentTradesWBalance  RiskPerformance  \n",
       "0                     69              Bad  \n",
       "1                      0              Bad  \n",
       "2                     86              Bad  \n",
       "3                     91              Bad  \n",
       "4                     80              Bad  \n",
       "\n",
       "[5 rows x 24 columns]"
      ]
     },
     "execution_count": 5,
     "metadata": {},
     "output_type": "execute_result"
    }
   ],
   "source": [
    "ANSWER_KEY['df'].head()"
   ]
  },
  {
   "cell_type": "code",
   "execution_count": 6,
   "metadata": {},
   "outputs": [
    {
     "data": {
      "text/plain": [
       "(9871, 24)"
      ]
     },
     "execution_count": 6,
     "metadata": {},
     "output_type": "execute_result"
    }
   ],
   "source": [
    "df.shape"
   ]
  },
  {
   "cell_type": "markdown",
   "metadata": {},
   "source": [
    "## df.shape"
   ]
  },
  {
   "cell_type": "markdown",
   "metadata": {
    "deletable": false,
    "editable": false,
    "nbgrader": {
     "grade": false,
     "grade_id": "cell-0dd34c0bcca3fac2",
     "locked": true,
     "schema_version": 3,
     "solution": false,
     "task": false
    }
   },
   "source": [
    "It has 9871 rows and 24 columns. Each row represents a loan taken by a customer, and columns provide information about each customer and loan (for additional information, see the file `heloc_data_dictionary-2.xlsx`). The first 23 columns contain information known to the company prior to the approval of the application based on his/her credit history (i.e., observable information), while the last column (`RiskPerformance`) holds the outcome of granting the loan, specifically, whether or not the customer was late in his/her payments. \n",
    "\n",
    "Our goal in this assignment is to predict `RiskPerformance` based on the observable information. \n",
    "\n"
   ]
  },
  {
   "cell_type": "markdown",
   "metadata": {
    "deletable": false,
    "editable": false,
    "nbgrader": {
     "grade": false,
     "grade_id": "cell-ff35003c2c5b3ca9",
     "locked": true,
     "schema_version": 3,
     "solution": false,
     "task": false
    }
   },
   "source": [
    "### (q1)\n",
    "Initialize the variables `X` to hold the data/design matrix (the first 23 columns containing the features) and `Y` to hold the labels (the last column). Convert the values in `Y` to 1 and 0 for the labels \"Bad\" and \"Good\", respectively. This conversion allows us to compute the average value in the column `Y` to estimate the probability of defaulting. For example, averaging over the entire data frame would tell us the percentage of customers who defaulted, while averaging on a subset of customer would tell us the probability that a customer within this group defaults. "
   ]
  },
  {
   "cell_type": "code",
   "execution_count": 7,
   "metadata": {
    "collapsed": true,
    "nbgrader": {
     "grade": false,
     "grade_id": "cell-633d6b4b8fd9d97b",
     "locked": false,
     "schema_version": 3,
     "solution": true,
     "task": false
    }
   },
   "outputs": [],
   "source": [
    "X = df.iloc[:,0:23] #INDEPENDENT\n",
    "Y = df.iloc[:,[23]].replace(to_replace=['Good', 'Bad'], value=[0, 1]).squeeze()"
   ]
  },
  {
   "cell_type": "code",
   "execution_count": 8,
   "metadata": {
    "collapsed": true,
    "deletable": false,
    "editable": false,
    "nbgrader": {
     "grade": true,
     "grade_id": "q1b_",
     "locked": true,
     "points": 3,
     "schema_version": 3,
     "solution": false,
     "task": false
    }
   },
   "outputs": [],
   "source": [
    "### BEGIN TEST (DO NOT REMOVE CELL)\n",
    "sol = ANSWER_KEY['X']\n",
    "diff = sol.compare(X, keep_equal=False, align_axis=0)\n",
    "assert(len(diff)==0), 'testing X'\n",
    "### END TEST "
   ]
  },
  {
   "cell_type": "code",
   "execution_count": 9,
   "metadata": {
    "collapsed": true,
    "deletable": false,
    "editable": false,
    "nbgrader": {
     "grade": true,
     "grade_id": "q1c_",
     "locked": true,
     "points": 3,
     "schema_version": 3,
     "solution": false,
     "task": false
    },
    "scrolled": true
   },
   "outputs": [],
   "source": [
    "### BEGIN TEST (DO NOT REMOVE CELL)\n",
    "sol = ANSWER_KEY['Y']\n",
    "diff = sol.compare(Y, keep_equal=False, align_axis=0)\n",
    "assert(len(diff)==0), 'testing Y'\n",
    "### END TEST "
   ]
  },
  {
   "cell_type": "code",
   "execution_count": 10,
   "metadata": {},
   "outputs": [
    {
     "data": {
      "text/plain": [
       "0       1\n",
       "1       1\n",
       "2       1\n",
       "3       1\n",
       "4       1\n",
       "       ..\n",
       "9866    0\n",
       "9867    1\n",
       "9868    1\n",
       "9869    1\n",
       "9870    1\n",
       "Name: RiskPerformance, Length: 9871, dtype: int64"
      ]
     },
     "execution_count": 10,
     "metadata": {},
     "output_type": "execute_result"
    }
   ],
   "source": [
    "### BEGIN TEST (DO NOT REMOVE CELL)\n",
    "sol = ANSWER_KEY['Y']\n",
    "sol"
   ]
  },
  {
   "cell_type": "markdown",
   "metadata": {
    "deletable": false,
    "editable": false,
    "nbgrader": {
     "grade": false,
     "grade_id": "cell-c2658d2b3fe75d04",
     "locked": true,
     "schema_version": 3,
     "solution": false,
     "task": false
    }
   },
   "source": [
    "`X` should be a matrix (data frame) with 9871 rows and 23 columns, while `Y` is a vector (series) with 9871 values."
   ]
  },
  {
   "cell_type": "code",
   "execution_count": 11,
   "metadata": {
    "deletable": false,
    "editable": false,
    "nbgrader": {
     "grade": false,
     "grade_id": "cell-2e06ec52b45ad054",
     "locked": true,
     "schema_version": 3,
     "solution": false,
     "task": false
    }
   },
   "outputs": [
    {
     "data": {
      "text/html": [
       "<div>\n",
       "<style scoped>\n",
       "    .dataframe tbody tr th:only-of-type {\n",
       "        vertical-align: middle;\n",
       "    }\n",
       "\n",
       "    .dataframe tbody tr th {\n",
       "        vertical-align: top;\n",
       "    }\n",
       "\n",
       "    .dataframe thead th {\n",
       "        text-align: right;\n",
       "    }\n",
       "</style>\n",
       "<table border=\"1\" class=\"dataframe\">\n",
       "  <thead>\n",
       "    <tr style=\"text-align: right;\">\n",
       "      <th></th>\n",
       "      <th>ExternalRiskEstimate</th>\n",
       "      <th>MSinceOldestTradeOpen</th>\n",
       "      <th>MSinceMostRecentTradeOpen</th>\n",
       "      <th>AverageMInFile</th>\n",
       "      <th>NumSatisfactoryTrades</th>\n",
       "      <th>NumTrades60Ever2DerogPubRec</th>\n",
       "      <th>NumTrades90Ever2DerogPubRec</th>\n",
       "      <th>PercentTradesNeverDelq</th>\n",
       "      <th>MSinceMostRecentDelq</th>\n",
       "      <th>MaxDelq2PublicRecLast12M</th>\n",
       "      <th>...</th>\n",
       "      <th>PercentInstallTrades</th>\n",
       "      <th>MSinceMostRecentInqexcl7days</th>\n",
       "      <th>NumInqLast6M</th>\n",
       "      <th>NumInqLast6Mexcl7days</th>\n",
       "      <th>NetFractionRevolvingBurden</th>\n",
       "      <th>NetFractionInstallBurden</th>\n",
       "      <th>NumRevolvingTradesWBalance</th>\n",
       "      <th>NumInstallTradesWBalance</th>\n",
       "      <th>NumBank2NatlTradesWHighUtilization</th>\n",
       "      <th>PercentTradesWBalance</th>\n",
       "    </tr>\n",
       "  </thead>\n",
       "  <tbody>\n",
       "    <tr>\n",
       "      <th>0</th>\n",
       "      <td>55</td>\n",
       "      <td>144</td>\n",
       "      <td>4</td>\n",
       "      <td>84</td>\n",
       "      <td>20</td>\n",
       "      <td>3</td>\n",
       "      <td>0</td>\n",
       "      <td>83</td>\n",
       "      <td>2</td>\n",
       "      <td>3</td>\n",
       "      <td>...</td>\n",
       "      <td>43</td>\n",
       "      <td>0</td>\n",
       "      <td>0</td>\n",
       "      <td>0</td>\n",
       "      <td>33</td>\n",
       "      <td>-8</td>\n",
       "      <td>8</td>\n",
       "      <td>1</td>\n",
       "      <td>1</td>\n",
       "      <td>69</td>\n",
       "    </tr>\n",
       "    <tr>\n",
       "      <th>1</th>\n",
       "      <td>61</td>\n",
       "      <td>58</td>\n",
       "      <td>15</td>\n",
       "      <td>41</td>\n",
       "      <td>2</td>\n",
       "      <td>4</td>\n",
       "      <td>4</td>\n",
       "      <td>100</td>\n",
       "      <td>-7</td>\n",
       "      <td>0</td>\n",
       "      <td>...</td>\n",
       "      <td>67</td>\n",
       "      <td>0</td>\n",
       "      <td>0</td>\n",
       "      <td>0</td>\n",
       "      <td>0</td>\n",
       "      <td>-8</td>\n",
       "      <td>0</td>\n",
       "      <td>-8</td>\n",
       "      <td>-8</td>\n",
       "      <td>0</td>\n",
       "    </tr>\n",
       "  </tbody>\n",
       "</table>\n",
       "<p>2 rows × 23 columns</p>\n",
       "</div>"
      ],
      "text/plain": [
       "   ExternalRiskEstimate  MSinceOldestTradeOpen  MSinceMostRecentTradeOpen  \\\n",
       "0                    55                    144                          4   \n",
       "1                    61                     58                         15   \n",
       "\n",
       "   AverageMInFile  NumSatisfactoryTrades  NumTrades60Ever2DerogPubRec  \\\n",
       "0              84                     20                            3   \n",
       "1              41                      2                            4   \n",
       "\n",
       "   NumTrades90Ever2DerogPubRec  PercentTradesNeverDelq  MSinceMostRecentDelq  \\\n",
       "0                            0                      83                     2   \n",
       "1                            4                     100                    -7   \n",
       "\n",
       "   MaxDelq2PublicRecLast12M  ...  PercentInstallTrades  \\\n",
       "0                         3  ...                    43   \n",
       "1                         0  ...                    67   \n",
       "\n",
       "   MSinceMostRecentInqexcl7days  NumInqLast6M  NumInqLast6Mexcl7days  \\\n",
       "0                             0             0                      0   \n",
       "1                             0             0                      0   \n",
       "\n",
       "   NetFractionRevolvingBurden  NetFractionInstallBurden  \\\n",
       "0                          33                        -8   \n",
       "1                           0                        -8   \n",
       "\n",
       "   NumRevolvingTradesWBalance  NumInstallTradesWBalance  \\\n",
       "0                           8                         1   \n",
       "1                           0                        -8   \n",
       "\n",
       "   NumBank2NatlTradesWHighUtilization  PercentTradesWBalance  \n",
       "0                                   1                     69  \n",
       "1                                  -8                      0  \n",
       "\n",
       "[2 rows x 23 columns]"
      ]
     },
     "execution_count": 11,
     "metadata": {},
     "output_type": "execute_result"
    }
   ],
   "source": [
    "ANSWER_KEY['X'].head(2) # illustrate the output"
   ]
  },
  {
   "cell_type": "code",
   "execution_count": 12,
   "metadata": {
    "deletable": false,
    "editable": false,
    "nbgrader": {
     "grade": false,
     "grade_id": "cell-6988e04962b0cf1f",
     "locked": true,
     "schema_version": 3,
     "solution": false,
     "task": false
    }
   },
   "outputs": [
    {
     "data": {
      "text/plain": [
       "0    1\n",
       "1    1\n",
       "Name: RiskPerformance, dtype: int64"
      ]
     },
     "execution_count": 12,
     "metadata": {},
     "output_type": "execute_result"
    }
   ],
   "source": [
    "ANSWER_KEY['Y'].head(2) # illustrate the output"
   ]
  },
  {
   "cell_type": "code",
   "execution_count": 13,
   "metadata": {
    "deletable": false,
    "editable": false,
    "nbgrader": {
     "grade": false,
     "grade_id": "cell-c6692ec7f4f2c193",
     "locked": true,
     "schema_version": 3,
     "solution": false,
     "task": false
    }
   },
   "outputs": [
    {
     "name": "stdout",
     "output_type": "stream",
     "text": [
      "(9871, 23) (9871,)\n"
     ]
    }
   ],
   "source": [
    "print(ANSWER_KEY['X'].shape, ANSWER_KEY['Y'].shape)"
   ]
  },
  {
   "cell_type": "markdown",
   "metadata": {
    "deletable": false,
    "editable": false,
    "nbgrader": {
     "grade": false,
     "grade_id": "cell-c9007daf35f7b7a5",
     "locked": true,
     "schema_version": 3,
     "solution": false,
     "task": false
    }
   },
   "source": [
    "### (q2) \n",
    "\n",
    "Use the function `train_test_split` to split the data into train and test sets. Allocate 20% of your data to the test set (`test_size=0.2`), and set the parameter `random_state` to 1234. This number was arbitrarily chosen and its purpose is to guarantee that whenever the command  `train_test_split` is executed, the data will be partitioned the same way. This is important for replicability (so that you and others could replicate the analysis) and to prevent contamination of the test set.\n",
    "\n",
    "Specifically, initialize the following variables `X_train, X_test, Y_train, Y_test` according to their names (whether they hold the train or test set, of the data matrix `X` or the labels `Y`)."
   ]
  },
  {
   "cell_type": "code",
   "execution_count": 14,
   "metadata": {
    "collapsed": true,
    "nbgrader": {
     "grade": false,
     "grade_id": "cell-81ad5020e7326ddf",
     "locked": false,
     "schema_version": 3,
     "solution": true,
     "task": false
    }
   },
   "outputs": [],
   "source": [
    "from sklearn.model_selection import train_test_split\n",
    "\n",
    "X_train, X_test, Y_train, Y_test = train_test_split(X, Y, test_size=0.2, random_state=1234)\n",
    "#Insted of doing it in part I did it all in one single line of code\n",
    "\n",
    "###\n",
    "### YOUR CODE HERE\n",
    "###\n"
   ]
  },
  {
   "cell_type": "code",
   "execution_count": 15,
   "metadata": {},
   "outputs": [
    {
     "data": {
      "text/plain": [
       "pandas.core.series.Series"
      ]
     },
     "execution_count": 15,
     "metadata": {},
     "output_type": "execute_result"
    }
   ],
   "source": [
    "type(Y_test)"
   ]
  },
  {
   "cell_type": "code",
   "execution_count": 16,
   "metadata": {
    "collapsed": true,
    "deletable": false,
    "editable": false,
    "nbgrader": {
     "grade": true,
     "grade_id": "q2a_",
     "locked": true,
     "points": 3,
     "schema_version": 3,
     "solution": false,
     "task": false
    }
   },
   "outputs": [],
   "source": [
    "### BEGIN TEST (DO NOT REMOVE CELL)\n",
    "sol = ANSWER_KEY['X_train']\n",
    "diff = sol.compare(X_train, keep_equal=False, align_axis=0)\n",
    "assert(len(diff)==0), 'testing X_train'\n",
    "### END TEST "
   ]
  },
  {
   "cell_type": "code",
   "execution_count": 17,
   "metadata": {
    "collapsed": true,
    "deletable": false,
    "editable": false,
    "nbgrader": {
     "grade": true,
     "grade_id": "q2b_",
     "locked": true,
     "points": 3,
     "schema_version": 3,
     "solution": false,
     "task": false
    }
   },
   "outputs": [],
   "source": [
    "### BEGIN TEST (DO NOT REMOVE CELL)\n",
    "sol = ANSWER_KEY['X_test']\n",
    "diff = sol.compare(X_test, keep_equal=False, align_axis=0)\n",
    "assert(len(diff)==0), 'testing X_test'\n",
    "### END TEST "
   ]
  },
  {
   "cell_type": "code",
   "execution_count": 18,
   "metadata": {
    "collapsed": true,
    "deletable": false,
    "editable": false,
    "nbgrader": {
     "grade": true,
     "grade_id": "q2c_",
     "locked": true,
     "points": 3,
     "schema_version": 3,
     "solution": false,
     "task": false
    }
   },
   "outputs": [],
   "source": [
    "### BEGIN TEST (DO NOT REMOVE CELL)\n",
    "sol = ANSWER_KEY['Y_train']\n",
    "diff = sol.compare(Y_train, keep_equal=False, align_axis=0)\n",
    "assert(len(diff)==0), 'testing Y_train'\n",
    "### END TEST "
   ]
  },
  {
   "cell_type": "code",
   "execution_count": 19,
   "metadata": {
    "collapsed": true,
    "deletable": false,
    "editable": false,
    "nbgrader": {
     "grade": true,
     "grade_id": "q2d_",
     "locked": true,
     "points": 3,
     "schema_version": 3,
     "solution": false,
     "task": false
    }
   },
   "outputs": [],
   "source": [
    "### BEGIN TEST (DO NOT REMOVE CELL)\n",
    "sol = ANSWER_KEY['Y_test']\n",
    "diff = sol.compare(Y_test, keep_equal=False, align_axis=0)\n",
    "assert(len(diff)==0), 'testing Y_test'\n",
    "### END TEST "
   ]
  },
  {
   "cell_type": "code",
   "execution_count": 20,
   "metadata": {
    "deletable": false,
    "editable": false,
    "nbgrader": {
     "grade": false,
     "grade_id": "cell-5ebb550b59e2cf9f",
     "locked": true,
     "schema_version": 3,
     "solution": false,
     "task": false
    }
   },
   "outputs": [
    {
     "name": "stdout",
     "output_type": "stream",
     "text": [
      "The shapes of X_train, X_test, Y_train, Y_test:\n",
      "(7896, 23) (1975, 23) (7896,) (1975,)\n"
     ]
    }
   ],
   "source": [
    "print('The shapes of X_train, X_test, Y_train, Y_test:')\n",
    "print(ANSWER_KEY['X_train'].shape, ANSWER_KEY['X_test'].shape, ANSWER_KEY['Y_train'].shape, ANSWER_KEY['Y_test'].shape)"
   ]
  },
  {
   "cell_type": "markdown",
   "metadata": {
    "deletable": false,
    "editable": false,
    "nbgrader": {
     "grade": false,
     "grade_id": "cell-26cf8e389924e514",
     "locked": true,
     "schema_version": 3,
     "solution": false,
     "task": false
    }
   },
   "source": [
    "# Part 2: Preprocessing\n",
    "\n",
    "Recall from previous assignments that our data contains missing values encoded by -7,-8, and -9. We next discuss and apply different techniques to handle missing values and transform our data matrix to become more amenable to learning. \n",
    "\n",
    "### (q3)\n",
    "To facilitate the visualization, combine  `X_train` and `Y_train` to a data frame called `df_train`. "
   ]
  },
  {
   "cell_type": "code",
   "execution_count": 21,
   "metadata": {
    "collapsed": true,
    "nbgrader": {
     "grade": false,
     "grade_id": "cell-c8373a60761a41cc",
     "locked": false,
     "schema_version": 3,
     "solution": true,
     "task": false
    }
   },
   "outputs": [],
   "source": [
    "df_train = X_train.join(Y_train) #The join function simply pastes the col at the end\n",
    "###\n",
    "### YOUR CODE HERE\n",
    "###\n"
   ]
  },
  {
   "cell_type": "code",
   "execution_count": 22,
   "metadata": {
    "scrolled": true
   },
   "outputs": [
    {
     "data": {
      "text/html": [
       "<div>\n",
       "<style scoped>\n",
       "    .dataframe tbody tr th:only-of-type {\n",
       "        vertical-align: middle;\n",
       "    }\n",
       "\n",
       "    .dataframe tbody tr th {\n",
       "        vertical-align: top;\n",
       "    }\n",
       "\n",
       "    .dataframe thead th {\n",
       "        text-align: right;\n",
       "    }\n",
       "</style>\n",
       "<table border=\"1\" class=\"dataframe\">\n",
       "  <thead>\n",
       "    <tr style=\"text-align: right;\">\n",
       "      <th></th>\n",
       "      <th>ExternalRiskEstimate</th>\n",
       "      <th>MSinceOldestTradeOpen</th>\n",
       "      <th>MSinceMostRecentTradeOpen</th>\n",
       "      <th>AverageMInFile</th>\n",
       "      <th>NumSatisfactoryTrades</th>\n",
       "      <th>NumTrades60Ever2DerogPubRec</th>\n",
       "      <th>NumTrades90Ever2DerogPubRec</th>\n",
       "      <th>PercentTradesNeverDelq</th>\n",
       "      <th>MSinceMostRecentDelq</th>\n",
       "      <th>MaxDelq2PublicRecLast12M</th>\n",
       "      <th>...</th>\n",
       "      <th>MSinceMostRecentInqexcl7days</th>\n",
       "      <th>NumInqLast6M</th>\n",
       "      <th>NumInqLast6Mexcl7days</th>\n",
       "      <th>NetFractionRevolvingBurden</th>\n",
       "      <th>NetFractionInstallBurden</th>\n",
       "      <th>NumRevolvingTradesWBalance</th>\n",
       "      <th>NumInstallTradesWBalance</th>\n",
       "      <th>NumBank2NatlTradesWHighUtilization</th>\n",
       "      <th>PercentTradesWBalance</th>\n",
       "      <th>RiskPerformance</th>\n",
       "    </tr>\n",
       "  </thead>\n",
       "  <tbody>\n",
       "    <tr>\n",
       "      <th>720</th>\n",
       "      <td>68</td>\n",
       "      <td>60</td>\n",
       "      <td>7</td>\n",
       "      <td>31</td>\n",
       "      <td>11</td>\n",
       "      <td>1</td>\n",
       "      <td>0</td>\n",
       "      <td>92</td>\n",
       "      <td>27</td>\n",
       "      <td>6</td>\n",
       "      <td>...</td>\n",
       "      <td>0</td>\n",
       "      <td>1</td>\n",
       "      <td>1</td>\n",
       "      <td>50</td>\n",
       "      <td>77</td>\n",
       "      <td>5</td>\n",
       "      <td>2</td>\n",
       "      <td>1</td>\n",
       "      <td>88</td>\n",
       "      <td>1</td>\n",
       "    </tr>\n",
       "    <tr>\n",
       "      <th>1759</th>\n",
       "      <td>60</td>\n",
       "      <td>123</td>\n",
       "      <td>1</td>\n",
       "      <td>47</td>\n",
       "      <td>18</td>\n",
       "      <td>0</td>\n",
       "      <td>0</td>\n",
       "      <td>100</td>\n",
       "      <td>-7</td>\n",
       "      <td>7</td>\n",
       "      <td>...</td>\n",
       "      <td>0</td>\n",
       "      <td>1</td>\n",
       "      <td>1</td>\n",
       "      <td>90</td>\n",
       "      <td>-8</td>\n",
       "      <td>6</td>\n",
       "      <td>1</td>\n",
       "      <td>5</td>\n",
       "      <td>70</td>\n",
       "      <td>1</td>\n",
       "    </tr>\n",
       "    <tr>\n",
       "      <th>3964</th>\n",
       "      <td>65</td>\n",
       "      <td>56</td>\n",
       "      <td>3</td>\n",
       "      <td>21</td>\n",
       "      <td>7</td>\n",
       "      <td>0</td>\n",
       "      <td>0</td>\n",
       "      <td>86</td>\n",
       "      <td>38</td>\n",
       "      <td>6</td>\n",
       "      <td>...</td>\n",
       "      <td>0</td>\n",
       "      <td>3</td>\n",
       "      <td>3</td>\n",
       "      <td>23</td>\n",
       "      <td>98</td>\n",
       "      <td>3</td>\n",
       "      <td>1</td>\n",
       "      <td>1</td>\n",
       "      <td>80</td>\n",
       "      <td>0</td>\n",
       "    </tr>\n",
       "  </tbody>\n",
       "</table>\n",
       "<p>3 rows × 24 columns</p>\n",
       "</div>"
      ],
      "text/plain": [
       "      ExternalRiskEstimate  MSinceOldestTradeOpen  MSinceMostRecentTradeOpen  \\\n",
       "720                     68                     60                          7   \n",
       "1759                    60                    123                          1   \n",
       "3964                    65                     56                          3   \n",
       "\n",
       "      AverageMInFile  NumSatisfactoryTrades  NumTrades60Ever2DerogPubRec  \\\n",
       "720               31                     11                            1   \n",
       "1759              47                     18                            0   \n",
       "3964              21                      7                            0   \n",
       "\n",
       "      NumTrades90Ever2DerogPubRec  PercentTradesNeverDelq  \\\n",
       "720                             0                      92   \n",
       "1759                            0                     100   \n",
       "3964                            0                      86   \n",
       "\n",
       "      MSinceMostRecentDelq  MaxDelq2PublicRecLast12M  ...  \\\n",
       "720                     27                         6  ...   \n",
       "1759                    -7                         7  ...   \n",
       "3964                    38                         6  ...   \n",
       "\n",
       "      MSinceMostRecentInqexcl7days  NumInqLast6M  NumInqLast6Mexcl7days  \\\n",
       "720                              0             1                      1   \n",
       "1759                             0             1                      1   \n",
       "3964                             0             3                      3   \n",
       "\n",
       "      NetFractionRevolvingBurden  NetFractionInstallBurden  \\\n",
       "720                           50                        77   \n",
       "1759                          90                        -8   \n",
       "3964                          23                        98   \n",
       "\n",
       "      NumRevolvingTradesWBalance  NumInstallTradesWBalance  \\\n",
       "720                            5                         2   \n",
       "1759                           6                         1   \n",
       "3964                           3                         1   \n",
       "\n",
       "      NumBank2NatlTradesWHighUtilization  PercentTradesWBalance  \\\n",
       "720                                    1                     88   \n",
       "1759                                   5                     70   \n",
       "3964                                   1                     80   \n",
       "\n",
       "      RiskPerformance  \n",
       "720                 1  \n",
       "1759                1  \n",
       "3964                0  \n",
       "\n",
       "[3 rows x 24 columns]"
      ]
     },
     "execution_count": 22,
     "metadata": {},
     "output_type": "execute_result"
    }
   ],
   "source": [
    "# example of output\n",
    "ANSWER_KEY['df_train'].head(3)"
   ]
  },
  {
   "cell_type": "code",
   "execution_count": 23,
   "metadata": {
    "collapsed": true,
    "deletable": false,
    "editable": false,
    "nbgrader": {
     "grade": true,
     "grade_id": "q3_0",
     "locked": true,
     "points": 2,
     "schema_version": 3,
     "solution": false,
     "task": false
    }
   },
   "outputs": [],
   "source": [
    "### BEGIN TEST (DO NOT REMOVE CELL)\n",
    "sol = ANSWER_KEY['df_train']\n",
    "diff = sol.compare(df_train, keep_equal=False, align_axis=0)\n",
    "assert(len(diff)==0), 'testing df_train'\n",
    "### END TEST "
   ]
  },
  {
   "cell_type": "markdown",
   "metadata": {},
   "source": [
    "Let's plot the default risk as a function of the feature `ExternalRiskEstimate`. To this end, aggregate the values in the data frame `df_train` by computing the average risk (average value of `RiskPerformance`) per `ExternalRiskEstimate`. Store the results in the series `means` where the values are the risk estimates and indexes are the corresponding values of the `ExternalRiskEstimate`.\n",
    "\n",
    "Hint: use the function `.groupby()`"
   ]
  },
  {
   "cell_type": "code",
   "execution_count": 24,
   "metadata": {
    "collapsed": true
   },
   "outputs": [],
   "source": [
    "means = df_train.groupby(by = \"ExternalRiskEstimate\").mean()[\"RiskPerformance\"]"
   ]
  },
  {
   "cell_type": "code",
   "execution_count": 25,
   "metadata": {
    "collapsed": true,
    "deletable": false,
    "editable": false,
    "nbgrader": {
     "grade": true,
     "grade_id": "q3_1",
     "locked": true,
     "points": 3,
     "schema_version": 3,
     "solution": false,
     "task": false
    }
   },
   "outputs": [],
   "source": [
    "### BEGIN TEST (DO NOT REMOVE CELL)\n",
    "sol = ANSWER_KEY['means']\n",
    "diff = sol.compare(means, keep_equal=False, align_axis=0)\n",
    "assert(len(diff)==0), 'testing means'\n",
    "### END TEST "
   ]
  },
  {
   "cell_type": "code",
   "execution_count": 26,
   "metadata": {},
   "outputs": [
    {
     "name": "stdout",
     "output_type": "stream",
     "text": [
      "ExternalRiskEstimate\n",
      "-9     0.875000\n",
      " 34    0.000000\n",
      " 36    1.000000\n",
      " 37    1.000000\n",
      " 39    1.000000\n",
      " 40    1.000000\n",
      " 41    1.000000\n",
      " 43    0.600000\n",
      " 44    1.000000\n",
      " 45    0.666667\n",
      " 46    1.000000\n",
      " 47    1.000000\n",
      " 48    0.666667\n",
      " 49    0.750000\n",
      " 50    0.857143\n",
      " 51    0.875000\n",
      " 52    0.727273\n",
      " 53    0.500000\n",
      " 54    0.829268\n",
      " 55    0.877551\n",
      " 56    0.849057\n",
      " 57    0.846154\n",
      " 58    0.851064\n",
      " 59    0.885870\n",
      " 60    0.743316\n",
      " 61    0.816594\n",
      " 62    0.811224\n",
      " 63    0.780303\n",
      " 64    0.730612\n",
      " 65    0.719178\n",
      " 66    0.690554\n",
      " 67    0.713636\n",
      " 68    0.648387\n",
      " 69    0.644898\n",
      " 70    0.605263\n",
      " 71    0.482759\n",
      " 72    0.532872\n",
      " 73    0.545139\n",
      " 74    0.493274\n",
      " 75    0.417625\n",
      " 76    0.383178\n",
      " 77    0.368201\n",
      " 78    0.344262\n",
      " 79    0.313305\n",
      " 80    0.309013\n",
      " 81    0.253589\n",
      " 82    0.235023\n",
      " 83    0.260116\n",
      " 84    0.207965\n",
      " 85    0.176136\n",
      " 86    0.170854\n",
      " 87    0.142857\n",
      " 88    0.165714\n",
      " 89    0.114754\n",
      " 90    0.129412\n",
      " 91    0.150000\n",
      " 92    0.193548\n",
      " 93    0.153846\n",
      " 94    1.000000\n",
      "Name: RiskPerformance, dtype: float64\n"
     ]
    }
   ],
   "source": [
    "# example of output\n",
    "print(ANSWER_KEY['means'])"
   ]
  },
  {
   "cell_type": "markdown",
   "metadata": {},
   "source": [
    "For example, we see 0.875 of the customers whose `ExternalRiskEstimate` is equal to 51 were late on their payments.\n",
    "\n",
    "Similarly to `means`, create the variable `counts` which counts the number of customers with a certain `ExternalRiskEstimate`."
   ]
  },
  {
   "cell_type": "code",
   "execution_count": 27,
   "metadata": {},
   "outputs": [
    {
     "data": {
      "text/html": [
       "<div>\n",
       "<style scoped>\n",
       "    .dataframe tbody tr th:only-of-type {\n",
       "        vertical-align: middle;\n",
       "    }\n",
       "\n",
       "    .dataframe tbody tr th {\n",
       "        vertical-align: top;\n",
       "    }\n",
       "\n",
       "    .dataframe thead th {\n",
       "        text-align: right;\n",
       "    }\n",
       "</style>\n",
       "<table border=\"1\" class=\"dataframe\">\n",
       "  <thead>\n",
       "    <tr style=\"text-align: right;\">\n",
       "      <th></th>\n",
       "      <th>ExternalRiskEstimate</th>\n",
       "      <th>MSinceOldestTradeOpen</th>\n",
       "      <th>MSinceMostRecentTradeOpen</th>\n",
       "      <th>AverageMInFile</th>\n",
       "      <th>NumSatisfactoryTrades</th>\n",
       "      <th>NumTrades60Ever2DerogPubRec</th>\n",
       "      <th>NumTrades90Ever2DerogPubRec</th>\n",
       "      <th>PercentTradesNeverDelq</th>\n",
       "      <th>MSinceMostRecentDelq</th>\n",
       "      <th>MaxDelq2PublicRecLast12M</th>\n",
       "      <th>...</th>\n",
       "      <th>MSinceMostRecentInqexcl7days</th>\n",
       "      <th>NumInqLast6M</th>\n",
       "      <th>NumInqLast6Mexcl7days</th>\n",
       "      <th>NetFractionRevolvingBurden</th>\n",
       "      <th>NetFractionInstallBurden</th>\n",
       "      <th>NumRevolvingTradesWBalance</th>\n",
       "      <th>NumInstallTradesWBalance</th>\n",
       "      <th>NumBank2NatlTradesWHighUtilization</th>\n",
       "      <th>PercentTradesWBalance</th>\n",
       "      <th>RiskPerformance</th>\n",
       "    </tr>\n",
       "  </thead>\n",
       "  <tbody>\n",
       "    <tr>\n",
       "      <th>720</th>\n",
       "      <td>68</td>\n",
       "      <td>60</td>\n",
       "      <td>7</td>\n",
       "      <td>31</td>\n",
       "      <td>11</td>\n",
       "      <td>1</td>\n",
       "      <td>0</td>\n",
       "      <td>92</td>\n",
       "      <td>27</td>\n",
       "      <td>6</td>\n",
       "      <td>...</td>\n",
       "      <td>0</td>\n",
       "      <td>1</td>\n",
       "      <td>1</td>\n",
       "      <td>50</td>\n",
       "      <td>77</td>\n",
       "      <td>5</td>\n",
       "      <td>2</td>\n",
       "      <td>1</td>\n",
       "      <td>88</td>\n",
       "      <td>1</td>\n",
       "    </tr>\n",
       "    <tr>\n",
       "      <th>1759</th>\n",
       "      <td>60</td>\n",
       "      <td>123</td>\n",
       "      <td>1</td>\n",
       "      <td>47</td>\n",
       "      <td>18</td>\n",
       "      <td>0</td>\n",
       "      <td>0</td>\n",
       "      <td>100</td>\n",
       "      <td>-7</td>\n",
       "      <td>7</td>\n",
       "      <td>...</td>\n",
       "      <td>0</td>\n",
       "      <td>1</td>\n",
       "      <td>1</td>\n",
       "      <td>90</td>\n",
       "      <td>-8</td>\n",
       "      <td>6</td>\n",
       "      <td>1</td>\n",
       "      <td>5</td>\n",
       "      <td>70</td>\n",
       "      <td>1</td>\n",
       "    </tr>\n",
       "  </tbody>\n",
       "</table>\n",
       "<p>2 rows × 24 columns</p>\n",
       "</div>"
      ],
      "text/plain": [
       "      ExternalRiskEstimate  MSinceOldestTradeOpen  MSinceMostRecentTradeOpen  \\\n",
       "720                     68                     60                          7   \n",
       "1759                    60                    123                          1   \n",
       "\n",
       "      AverageMInFile  NumSatisfactoryTrades  NumTrades60Ever2DerogPubRec  \\\n",
       "720               31                     11                            1   \n",
       "1759              47                     18                            0   \n",
       "\n",
       "      NumTrades90Ever2DerogPubRec  PercentTradesNeverDelq  \\\n",
       "720                             0                      92   \n",
       "1759                            0                     100   \n",
       "\n",
       "      MSinceMostRecentDelq  MaxDelq2PublicRecLast12M  ...  \\\n",
       "720                     27                         6  ...   \n",
       "1759                    -7                         7  ...   \n",
       "\n",
       "      MSinceMostRecentInqexcl7days  NumInqLast6M  NumInqLast6Mexcl7days  \\\n",
       "720                              0             1                      1   \n",
       "1759                             0             1                      1   \n",
       "\n",
       "      NetFractionRevolvingBurden  NetFractionInstallBurden  \\\n",
       "720                           50                        77   \n",
       "1759                          90                        -8   \n",
       "\n",
       "      NumRevolvingTradesWBalance  NumInstallTradesWBalance  \\\n",
       "720                            5                         2   \n",
       "1759                           6                         1   \n",
       "\n",
       "      NumBank2NatlTradesWHighUtilization  PercentTradesWBalance  \\\n",
       "720                                    1                     88   \n",
       "1759                                   5                     70   \n",
       "\n",
       "      RiskPerformance  \n",
       "720                 1  \n",
       "1759                1  \n",
       "\n",
       "[2 rows x 24 columns]"
      ]
     },
     "execution_count": 27,
     "metadata": {},
     "output_type": "execute_result"
    }
   ],
   "source": [
    "df_train.head(2)"
   ]
  },
  {
   "cell_type": "code",
   "execution_count": 28,
   "metadata": {
    "collapsed": true,
    "nbgrader": {
     "grade": false,
     "grade_id": "cell-017adfb324619d35",
     "locked": false,
     "schema_version": 3,
     "solution": true,
     "task": false
    }
   },
   "outputs": [],
   "source": [
    "counts =df_train.groupby(by =\"ExternalRiskEstimate\").count()[\"RiskPerformance\"]\n",
    "###\n",
    "### YOUR CODE HERE\n",
    "###\n"
   ]
  },
  {
   "cell_type": "code",
   "execution_count": 29,
   "metadata": {
    "collapsed": true,
    "deletable": false,
    "editable": false,
    "nbgrader": {
     "grade": true,
     "grade_id": "q3_2",
     "locked": true,
     "points": 3,
     "schema_version": 3,
     "solution": false,
     "task": false
    }
   },
   "outputs": [],
   "source": [
    "### BEGIN TEST (DO NOT REMOVE CELL)\n",
    "sol = ANSWER_KEY['counts']\n",
    "diff = sol.compare(counts, keep_equal=False, align_axis=0)\n",
    "assert(len(diff)==0), 'testing counts'\n",
    "### END TEST "
   ]
  },
  {
   "cell_type": "code",
   "execution_count": 30,
   "metadata": {},
   "outputs": [
    {
     "name": "stdout",
     "output_type": "stream",
     "text": [
      "ExternalRiskEstimate\n",
      "-9       8\n",
      " 34      1\n",
      " 36      1\n",
      " 37      1\n",
      " 39      1\n",
      " 40      2\n",
      " 41      1\n",
      " 43      5\n",
      " 44      2\n",
      " 45      3\n",
      " 46      1\n",
      " 47      5\n",
      " 48      3\n",
      " 49      4\n",
      " 50     14\n",
      " 51      8\n",
      " 52     11\n",
      " 53      2\n",
      " 54     82\n",
      " 55     98\n",
      " 56    159\n",
      " 57    156\n",
      " 58    141\n",
      " 59    184\n",
      " 60    187\n",
      " 61    229\n",
      " 62    196\n",
      " 63    264\n",
      " 64    245\n",
      " 65    292\n",
      " 66    307\n",
      " 67    220\n",
      " 68    310\n",
      " 69    245\n",
      " 70    266\n",
      " 71    232\n",
      " 72    289\n",
      " 73    288\n",
      " 74    223\n",
      " 75    261\n",
      " 76    214\n",
      " 77    239\n",
      " 78    183\n",
      " 79    233\n",
      " 80    233\n",
      " 81    209\n",
      " 82    217\n",
      " 83    173\n",
      " 84    226\n",
      " 85    176\n",
      " 86    199\n",
      " 87    140\n",
      " 88    175\n",
      " 89    122\n",
      " 90     85\n",
      " 91     80\n",
      " 92     31\n",
      " 93     13\n",
      " 94      1\n",
      "Name: RiskPerformance, dtype: int64\n"
     ]
    }
   ],
   "source": [
    "# example of output\n",
    "print(ANSWER_KEY['counts'])"
   ]
  },
  {
   "cell_type": "markdown",
   "metadata": {
    "deletable": false,
    "editable": false,
    "nbgrader": {
     "grade": false,
     "grade_id": "cell-9d26ffea4fcb18dd",
     "locked": true,
     "schema_version": 3,
     "solution": false,
     "task": false
    }
   },
   "source": [
    "For example, there are 14 customers in the train data for whom `ExternalRiskEstimate=50`.\n",
    "\n",
    "Let's plot the default risk as a function of the `ExternalRiskEstimate` and the corresponding counts."
   ]
  },
  {
   "cell_type": "code",
   "execution_count": 31,
   "metadata": {
    "deletable": false,
    "editable": false,
    "nbgrader": {
     "grade": false,
     "grade_id": "cell-4f37173d95668e2d",
     "locked": true,
     "schema_version": 3,
     "solution": false,
     "task": false
    },
    "scrolled": true
   },
   "outputs": [
    {
     "data": {
      "image/png": "[encoded data removed]",
      "text/plain": [
       "<Figure size 1440x504 with 2 Axes>"
      ]
     },
     "metadata": {
      "needs_background": "light"
     },
     "output_type": "display_data"
    }
   ],
   "source": [
    "fig, axes = plt.subplots(1,2, figsize=(20,7))\n",
    "ANSWER_KEY['means'].plot.bar(ax=axes[0], title='Probability of defaulting vs. ExternalRiskEstimate')\n",
    "ANSWER_KEY['counts'].plot.bar(ax=axes[1], title='Number of observations vs. ExternalRiskEstimate')\n",
    "plt.tight_layout()"
   ]
  },
  {
   "cell_type": "markdown",
   "metadata": {
    "deletable": false,
    "editable": false,
    "nbgrader": {
     "grade": false,
     "grade_id": "cell-854c80e6a84ba3b2",
     "locked": true,
     "schema_version": 3,
     "solution": false,
     "task": false
    }
   },
   "source": [
    "We observe that\n",
    "- The risk of defaulting is, generally, monotoincally decreaing in the `ExternalRiskEstimate` (left figure). This is to be expected from the documentation of the data (see `heloc_data_dictionary-2.xlsx`).\n",
    "- The number of observations whose `ExternalRiskEstimate` are smaller than 54 or larger than 91 is small (right figure). Therefore, the risk estimate is more noisy in those ranges. Focusing on the interval [54,91] reveals an even stronger trend.\n",
    "- There is a small number of missing values of `ExternalRiskEstimate` (8 to be exact, see below), and most of them defaulted. \n",
    "- Encoding missing values as a small value (-9) makes some sense in that according to the plot, smaller values of  `ExternalRiskEstimate` have higher risk. One is left to wonder why -9? This choice is rather arbitrary (why not -100 or -1000?)"
   ]
  },
  {
   "cell_type": "code",
   "execution_count": 32,
   "metadata": {
    "deletable": false,
    "editable": false,
    "nbgrader": {
     "grade": false,
     "grade_id": "cell-63a11e43dffd0e0c",
     "locked": true,
     "schema_version": 3,
     "solution": false,
     "task": false
    }
   },
   "outputs": [
    {
     "data": {
      "text/plain": [
       "(8, 0.875)"
      ]
     },
     "execution_count": 32,
     "metadata": {},
     "output_type": "execute_result"
    }
   ],
   "source": [
    "ANSWER_KEY['counts'].loc[-9], ANSWER_KEY['means'].loc[-9] # count the number of observations in the training data where ExternalRiskEstimate is missing, and estimate the probability of defaulting using simple average"
   ]
  },
  {
   "cell_type": "markdown",
   "metadata": {
    "deletable": false,
    "editable": false,
    "nbgrader": {
     "grade": false,
     "grade_id": "cell-a9c802086ea19dab",
     "locked": true,
     "schema_version": 3,
     "solution": false,
     "task": false
    }
   },
   "source": [
    "__Preprocessing__\n",
    "\n",
    "In the feature preprocessing stage, we transform the values of the data matrix to facilitate learning. We could replace missing values, apply functions to transform features, and/or add additional features. "
   ]
  },
  {
   "cell_type": "markdown",
   "metadata": {
    "deletable": false,
    "editable": false,
    "nbgrader": {
     "grade": false,
     "grade_id": "cell-c425d7ce62223f33",
     "locked": true,
     "schema_version": 3,
     "solution": false,
     "task": false
    }
   },
   "source": [
    "So what should we do about the missing values in the column `ExternalRiskEstimate`? \n",
    "* We could remove rows (observations) or columns (features)    \n",
    "    - if we remove rows we will lose data from 8 rows out of ~8000. Not too bad if we don't need to remove additional rows because of missing values in other features.\n",
    "    - removing the column `ExternalRiskEstimate` does not make sense here.\n",
    "* We could replace missing values\n",
    "    - with mean/median value of the feature? \n",
    "    - with minimal value of the feature? (in our 8 observations the risk was quite high)\n",
    "    - with a value corresponding to the respective percentile (0.875)?\n",
    "    - use more sophisticated methods? \n",
    "\n",
    "\n",
    "When deciding between the above options, we need to know why the value is missing from our data in the first place. Is it a random glitch in the system? should we expect similar behavior in the future? would we want our model to make predictions when there are missing values in this (or other) features? \n",
    "\n",
    "\n",
    "For simplicity, let's assume that whenever the `ExternalRiskEstimate` is missing, we don't want our model to make predictions. Based on this, we will remove from our data any rows where the the `ExternalRiskEstimate` is missing."
   ]
  },
  {
   "cell_type": "markdown",
   "metadata": {
    "deletable": false,
    "editable": false,
    "nbgrader": {
     "grade": false,
     "grade_id": "cell-8270709c9c71a8e1",
     "locked": true,
     "schema_version": 3,
     "solution": false,
     "task": false
    }
   },
   "source": [
    "Update the variable `X_train, X_test, Y_train, Y_test` by removing any observation where the feature `ExternalRiskEstimate` is missing."
   ]
  },
  {
   "cell_type": "code",
   "execution_count": 33,
   "metadata": {
    "collapsed": true
   },
   "outputs": [],
   "source": [
    "#Merge again\n",
    "df_train = X_train.join(Y_train)\n",
    "df_test = X_test.join(Y_test)\n",
    "\n",
    "#drop from merge\n",
    "df_train = df_train.drop((df_train.loc[df['ExternalRiskEstimate']==-9]).index)\n",
    "df_test = df_test.drop((df_test.loc[df['ExternalRiskEstimate']==-9]).index)\n",
    "\n",
    "#Split XY in train\n",
    "X_train = df_train.iloc[:,0:23]\n",
    "Y_train = df_train.iloc[:,23]\n",
    "\n",
    "#Split XY in test\n",
    "X_test = df_test.iloc[:,0:23]\n",
    "Y_test = df_test.iloc[:,23]"
   ]
  },
  {
   "cell_type": "code",
   "execution_count": 34,
   "metadata": {
    "collapsed": true,
    "deletable": false,
    "editable": false,
    "nbgrader": {
     "grade": true,
     "grade_id": "q3a_",
     "locked": true,
     "points": 3,
     "schema_version": 3,
     "solution": false,
     "task": false
    }
   },
   "outputs": [],
   "source": [
    "### BEGIN TEST (DO NOT REMOVE CELL)\n",
    "sol = ANSWER_KEY['X_train_updated']\n",
    "diff = sol.compare(X_train, keep_equal=False, align_axis=0)\n",
    "assert(len(diff)==0), 'testing X_train'\n",
    "### END TEST "
   ]
  },
  {
   "cell_type": "code",
   "execution_count": 35,
   "metadata": {
    "collapsed": true,
    "deletable": false,
    "editable": false,
    "nbgrader": {
     "grade": true,
     "grade_id": "q3b_",
     "locked": true,
     "points": 3,
     "schema_version": 3,
     "solution": false,
     "task": false
    }
   },
   "outputs": [],
   "source": [
    "### BEGIN TEST (DO NOT REMOVE CELL)\n",
    "sol = ANSWER_KEY['X_test_updated']\n",
    "diff = sol.compare(X_test, keep_equal=False, align_axis=0)\n",
    "assert(len(diff)==0), 'testing X_test'\n",
    "### END TEST "
   ]
  },
  {
   "cell_type": "code",
   "execution_count": 36,
   "metadata": {
    "collapsed": true,
    "deletable": false,
    "editable": false,
    "nbgrader": {
     "grade": true,
     "grade_id": "q3c_",
     "locked": true,
     "points": 3,
     "schema_version": 3,
     "solution": false,
     "task": false
    }
   },
   "outputs": [],
   "source": [
    "### BEGIN TEST (DO NOT REMOVE CELL)\n",
    "sol = ANSWER_KEY['Y_train_updated']\n",
    "diff = sol.compare(Y_train, keep_equal=False, align_axis=0)\n",
    "assert(len(diff)==0), 'testing Y_train'\n",
    "### END TEST "
   ]
  },
  {
   "cell_type": "code",
   "execution_count": 37,
   "metadata": {
    "collapsed": true,
    "deletable": false,
    "editable": false,
    "nbgrader": {
     "grade": true,
     "grade_id": "q3d_",
     "locked": true,
     "points": 3,
     "schema_version": 3,
     "solution": false,
     "task": false
    }
   },
   "outputs": [],
   "source": [
    "### BEGIN TEST (DO NOT REMOVE CELL)\n",
    "sol = ANSWER_KEY['Y_test_updated']\n",
    "diff = sol.compare(Y_test, keep_equal=False, align_axis=0)\n",
    "assert(len(diff)==0), 'testing Y_test'\n",
    "### END TEST "
   ]
  },
  {
   "cell_type": "code",
   "execution_count": 38,
   "metadata": {
    "deletable": false,
    "editable": false,
    "nbgrader": {
     "grade": false,
     "grade_id": "cell-b63a1f9ef313abd8",
     "locked": true,
     "schema_version": 3,
     "solution": false,
     "task": false
    }
   },
   "outputs": [
    {
     "name": "stdout",
     "output_type": "stream",
     "text": [
      "Before removing observations\n",
      "The shapes of X_train, X_test, Y_train, Y_test:\n",
      "(7896, 23) (1975, 23) (7896,) (1975,)\n"
     ]
    }
   ],
   "source": [
    "print('Before removing observations\\nThe shapes of X_train, X_test, Y_train, Y_test:')\n",
    "print(ANSWER_KEY['X_train'].shape, ANSWER_KEY['X_test'].shape, ANSWER_KEY['Y_train'].shape, ANSWER_KEY['Y_test'].shape)"
   ]
  },
  {
   "cell_type": "code",
   "execution_count": 39,
   "metadata": {
    "deletable": false,
    "editable": false,
    "nbgrader": {
     "grade": false,
     "grade_id": "cell-2e8a3c3831272806",
     "locked": true,
     "schema_version": 3,
     "solution": false,
     "task": false
    }
   },
   "outputs": [
    {
     "name": "stdout",
     "output_type": "stream",
     "text": [
      "After removing observations\n",
      "The shapes of X_train, X_test, Y_train, Y_test:\n",
      "(7888, 23) (1973, 23) (7888,) (1973,)\n"
     ]
    }
   ],
   "source": [
    "print('After removing observations\\nThe shapes of X_train, X_test, Y_train, Y_test:')\n",
    "print(ANSWER_KEY['X_train_updated'].shape, ANSWER_KEY['X_test_updated'].shape, ANSWER_KEY['Y_train_updated'].shape, ANSWER_KEY['Y_test_updated'].shape)"
   ]
  },
  {
   "cell_type": "markdown",
   "metadata": {
    "deletable": false,
    "editable": false,
    "nbgrader": {
     "grade": false,
     "grade_id": "cell-63ba842980bda8db",
     "locked": true,
     "schema_version": 3,
     "solution": false,
     "task": false
    }
   },
   "source": [
    "We see that a total of 10 rows were removed from our data (train and test).\n",
    "\n",
    "Let's look at the remaining missing values."
   ]
  },
  {
   "cell_type": "code",
   "execution_count": 40,
   "metadata": {
    "deletable": false,
    "editable": false,
    "nbgrader": {
     "grade": false,
     "grade_id": "cell-aee8edfb81f51ad6",
     "locked": true,
     "schema_version": 3,
     "solution": false,
     "task": false
    },
    "scrolled": true
   },
   "outputs": [
    {
     "data": {
      "text/html": [
       "<div>\n",
       "<style scoped>\n",
       "    .dataframe tbody tr th:only-of-type {\n",
       "        vertical-align: middle;\n",
       "    }\n",
       "\n",
       "    .dataframe tbody tr th {\n",
       "        vertical-align: top;\n",
       "    }\n",
       "\n",
       "    .dataframe thead th {\n",
       "        text-align: right;\n",
       "    }\n",
       "</style>\n",
       "<table border=\"1\" class=\"dataframe\">\n",
       "  <thead>\n",
       "    <tr style=\"text-align: right;\">\n",
       "      <th></th>\n",
       "      <th>-7</th>\n",
       "      <th>-8</th>\n",
       "      <th>-9</th>\n",
       "    </tr>\n",
       "  </thead>\n",
       "  <tbody>\n",
       "    <tr>\n",
       "      <th>ExternalRiskEstimate</th>\n",
       "      <td>0</td>\n",
       "      <td>0</td>\n",
       "      <td>0</td>\n",
       "    </tr>\n",
       "    <tr>\n",
       "      <th>MSinceOldestTradeOpen</th>\n",
       "      <td>0</td>\n",
       "      <td>199</td>\n",
       "      <td>0</td>\n",
       "    </tr>\n",
       "    <tr>\n",
       "      <th>MSinceMostRecentTradeOpen</th>\n",
       "      <td>0</td>\n",
       "      <td>0</td>\n",
       "      <td>0</td>\n",
       "    </tr>\n",
       "    <tr>\n",
       "      <th>AverageMInFile</th>\n",
       "      <td>0</td>\n",
       "      <td>0</td>\n",
       "      <td>0</td>\n",
       "    </tr>\n",
       "    <tr>\n",
       "      <th>NumSatisfactoryTrades</th>\n",
       "      <td>0</td>\n",
       "      <td>0</td>\n",
       "      <td>0</td>\n",
       "    </tr>\n",
       "    <tr>\n",
       "      <th>NumTrades60Ever2DerogPubRec</th>\n",
       "      <td>0</td>\n",
       "      <td>0</td>\n",
       "      <td>0</td>\n",
       "    </tr>\n",
       "    <tr>\n",
       "      <th>NumTrades90Ever2DerogPubRec</th>\n",
       "      <td>0</td>\n",
       "      <td>0</td>\n",
       "      <td>0</td>\n",
       "    </tr>\n",
       "    <tr>\n",
       "      <th>PercentTradesNeverDelq</th>\n",
       "      <td>0</td>\n",
       "      <td>0</td>\n",
       "      <td>0</td>\n",
       "    </tr>\n",
       "    <tr>\n",
       "      <th>MSinceMostRecentDelq</th>\n",
       "      <td>3727</td>\n",
       "      <td>130</td>\n",
       "      <td>0</td>\n",
       "    </tr>\n",
       "    <tr>\n",
       "      <th>MaxDelq2PublicRecLast12M</th>\n",
       "      <td>0</td>\n",
       "      <td>0</td>\n",
       "      <td>0</td>\n",
       "    </tr>\n",
       "    <tr>\n",
       "      <th>MaxDelqEver</th>\n",
       "      <td>0</td>\n",
       "      <td>0</td>\n",
       "      <td>0</td>\n",
       "    </tr>\n",
       "    <tr>\n",
       "      <th>NumTotalTrades</th>\n",
       "      <td>0</td>\n",
       "      <td>0</td>\n",
       "      <td>0</td>\n",
       "    </tr>\n",
       "    <tr>\n",
       "      <th>NumTradesOpeninLast12M</th>\n",
       "      <td>0</td>\n",
       "      <td>0</td>\n",
       "      <td>0</td>\n",
       "    </tr>\n",
       "    <tr>\n",
       "      <th>PercentInstallTrades</th>\n",
       "      <td>0</td>\n",
       "      <td>0</td>\n",
       "      <td>0</td>\n",
       "    </tr>\n",
       "    <tr>\n",
       "      <th>MSinceMostRecentInqexcl7days</th>\n",
       "      <td>1462</td>\n",
       "      <td>371</td>\n",
       "      <td>0</td>\n",
       "    </tr>\n",
       "    <tr>\n",
       "      <th>NumInqLast6M</th>\n",
       "      <td>0</td>\n",
       "      <td>0</td>\n",
       "      <td>0</td>\n",
       "    </tr>\n",
       "    <tr>\n",
       "      <th>NumInqLast6Mexcl7days</th>\n",
       "      <td>0</td>\n",
       "      <td>0</td>\n",
       "      <td>0</td>\n",
       "    </tr>\n",
       "    <tr>\n",
       "      <th>NetFractionRevolvingBurden</th>\n",
       "      <td>0</td>\n",
       "      <td>142</td>\n",
       "      <td>0</td>\n",
       "    </tr>\n",
       "    <tr>\n",
       "      <th>NetFractionInstallBurden</th>\n",
       "      <td>0</td>\n",
       "      <td>2741</td>\n",
       "      <td>0</td>\n",
       "    </tr>\n",
       "    <tr>\n",
       "      <th>NumRevolvingTradesWBalance</th>\n",
       "      <td>0</td>\n",
       "      <td>122</td>\n",
       "      <td>0</td>\n",
       "    </tr>\n",
       "    <tr>\n",
       "      <th>NumInstallTradesWBalance</th>\n",
       "      <td>0</td>\n",
       "      <td>686</td>\n",
       "      <td>0</td>\n",
       "    </tr>\n",
       "    <tr>\n",
       "      <th>NumBank2NatlTradesWHighUtilization</th>\n",
       "      <td>0</td>\n",
       "      <td>466</td>\n",
       "      <td>0</td>\n",
       "    </tr>\n",
       "    <tr>\n",
       "      <th>PercentTradesWBalance</th>\n",
       "      <td>0</td>\n",
       "      <td>7</td>\n",
       "      <td>0</td>\n",
       "    </tr>\n",
       "  </tbody>\n",
       "</table>\n",
       "</div>"
      ],
      "text/plain": [
       "                                      -7    -8  -9\n",
       "ExternalRiskEstimate                   0     0   0\n",
       "MSinceOldestTradeOpen                  0   199   0\n",
       "MSinceMostRecentTradeOpen              0     0   0\n",
       "AverageMInFile                         0     0   0\n",
       "NumSatisfactoryTrades                  0     0   0\n",
       "NumTrades60Ever2DerogPubRec            0     0   0\n",
       "NumTrades90Ever2DerogPubRec            0     0   0\n",
       "PercentTradesNeverDelq                 0     0   0\n",
       "MSinceMostRecentDelq                3727   130   0\n",
       "MaxDelq2PublicRecLast12M               0     0   0\n",
       "MaxDelqEver                            0     0   0\n",
       "NumTotalTrades                         0     0   0\n",
       "NumTradesOpeninLast12M                 0     0   0\n",
       "PercentInstallTrades                   0     0   0\n",
       "MSinceMostRecentInqexcl7days        1462   371   0\n",
       "NumInqLast6M                           0     0   0\n",
       "NumInqLast6Mexcl7days                  0     0   0\n",
       "NetFractionRevolvingBurden             0   142   0\n",
       "NetFractionInstallBurden               0  2741   0\n",
       "NumRevolvingTradesWBalance             0   122   0\n",
       "NumInstallTradesWBalance               0   686   0\n",
       "NumBank2NatlTradesWHighUtilization     0   466   0\n",
       "PercentTradesWBalance                  0     7   0"
      ]
     },
     "execution_count": 40,
     "metadata": {},
     "output_type": "execute_result"
    }
   ],
   "source": [
    "# you implemented similar code in the previous assignment\n",
    "df_count_missing = pd.concat([(X_train==-7).sum(), (X_train==-8).sum(), (X_train==-9).sum()], axis=1)\n",
    "df_count_missing.columns = [-7,-8,-9]\n",
    "df_count_missing"
   ]
  },
  {
   "cell_type": "markdown",
   "metadata": {
    "deletable": false,
    "editable": false,
    "nbgrader": {
     "grade": false,
     "grade_id": "cell-25e7aae9eaad6c38",
     "locked": true,
     "schema_version": 3,
     "solution": false,
     "task": false
    }
   },
   "source": [
    "We see that there are no longer `-9` (missing) values in the data. \n",
    "\n",
    "We turn to handling the other missing values `-7` and `-8`. Let's assume for simplicity that these values are informative and that whatever generated them in the data that we have would generate them also in the future. This could be a reasonable assumption, for example, for the feature `MSinceMostRecentDelq` that indicates the number of months since last delinquency, where for customers who were never late on their payments the corresponding values is missing. "
   ]
  },
  {
   "cell_type": "code",
   "execution_count": 41,
   "metadata": {
    "collapsed": true,
    "deletable": false,
    "editable": false,
    "nbgrader": {
     "grade": true,
     "grade_id": "cell-c4a825a282dbd7fd",
     "locked": true,
     "points": 0,
     "schema_version": 3,
     "solution": false,
     "task": false
    }
   },
   "outputs": [],
   "source": [
    "### BEGIN HIDDEN TEST\n",
    "if GENERATE_ANSWER_KEY and 0: \n",
    "    feature = 'MSinceMostRecentDelq'\n",
    "    means = df_train.groupby(feature)['RiskPerformance'].mean()\n",
    "    counts = df_train.groupby(feature)['RiskPerformance'].count()\n",
    "    fig, axes = plt.subplots(1,2, figsize=(20,7))\n",
    "    means.plot.bar(ax=axes[0], title='Probability of defaulting vs. ExternalRiskEstimate')\n",
    "    counts.plot.bar(ax=axes[1], title='Number of observations vs. ExternalRiskEstimate')\n",
    "    plt.tight_layout()\n",
    "    plt.savefig('Risk vs MSinceMostRecentDelq.png')\n",
    "### END HIDDEN TEST"
   ]
  },
  {
   "cell_type": "markdown",
   "metadata": {
    "deletable": false,
    "editable": false,
    "nbgrader": {
     "grade": false,
     "grade_id": "cell-a856a65e80316fc7",
     "locked": true,
     "schema_version": 3,
     "solution": false,
     "task": false
    }
   },
   "source": [
    "Let's create a similar plot of risk vs. `MSinceMostRecentDelq`:\n",
    "<img src='Risk vs MSinceMostRecentDelq.png'>"
   ]
  },
  {
   "cell_type": "markdown",
   "metadata": {
    "deletable": false,
    "editable": false,
    "nbgrader": {
     "grade": false,
     "grade_id": "cell-f69a27f030294fbe",
     "locked": true,
     "schema_version": 3,
     "solution": false,
     "task": false
    }
   },
   "source": [
    "We observe that\n",
    "- Risk is generally decreasing in `MSinceMostRecentDelq` (as the data documentation suggests `heloc_data_dictionary-2.xlsx`).\n",
    "- The risk at -7 and -8 seems to behave differently from the rest. It is not clear that setting the missing values to -7 and -8 is right (these values seem to break the trend).\n",
    "- The number of observations drops as `MSinceMostRecentDelq` increases.\n",
    "\n",
    "Let's focus on the non-negative values."
   ]
  },
  {
   "cell_type": "code",
   "execution_count": 42,
   "metadata": {
    "collapsed": true,
    "deletable": false,
    "editable": false,
    "nbgrader": {
     "grade": false,
     "grade_id": "cell-54e2ef12ee134d2c",
     "locked": true,
     "schema_version": 3,
     "solution": false,
     "task": false
    }
   },
   "outputs": [],
   "source": [
    "### BEGIN HIDDEN TEST\n",
    "if GENERATE_ANSWER_KEY and 0: \n",
    "    feature = 'MSinceMostRecentDelq'\n",
    "    means = df_train.groupby(feature)['RiskPerformance'].mean()\n",
    "    counts = df_train.groupby(feature)['RiskPerformance'].count()\n",
    "    fig, axes = plt.subplots(1,2, figsize=(20,7))\n",
    "    means[means.index>=0].plot.bar(ax=axes[0], title='Probability of defaulting vs. ExternalRiskEstimate')\n",
    "    counts[counts.index>=0].plot.bar(ax=axes[1], title='Number of observations vs. ExternalRiskEstimate')\n",
    "    plt.tight_layout()\n",
    "    plt.savefig('Risk vs MSinceMostRecentDelq - no missing.png')\n",
    "### END HIDDEN TEST"
   ]
  },
  {
   "cell_type": "markdown",
   "metadata": {
    "deletable": false,
    "editable": false,
    "nbgrader": {
     "grade": false,
     "grade_id": "cell-a856a65e80316fcx",
     "locked": true,
     "schema_version": 3,
     "solution": false,
     "task": false
    }
   },
   "source": [
    "<img src='Risk vs MSinceMostRecentDelq - no missing.png'>"
   ]
  },
  {
   "cell_type": "markdown",
   "metadata": {
    "deletable": false,
    "editable": false,
    "nbgrader": {
     "grade": false,
     "grade_id": "cell-cd6318afc8c797c1",
     "locked": true,
     "schema_version": 3,
     "solution": false,
     "task": false
    }
   },
   "source": [
    "The trend seems stronger now (especially when `MSinceMostRecentDelq` is not too large where the number customers' count is relatively larger)\n",
    "\n",
    "So how should we transform the values of the feature `MSinceMostRecentDelq`? \n",
    "* We could add dummy variables to indicate the values -7 and -8. This way our predictive models could adjust to these special values. \n",
    "* In some cases, it could make sense to replace the missing values with average/median values of each column. \n",
    "* There are more sophisticated methods, some of which are implemented in scikit-learn (https://scikit-learn.org/stable/modules/classes.html#module-sklearn.impute). Additional methods can be found in the academic literature (e.g., you could search for \"impute missing values\" on Google Scholar: https://scholar.google.com/scholar?hl=en&as_sdt=0%2C33&q=impute+missing+values&btnG=).\n",
    "* Another approach is to manually inspect the figure above. For example, we might conjecture that the functional relation between risk and `MSinceMostRecentDelq` is monotonically decreasing up to a certain point (perhaps 50?) and then it is constant. We might try to add a binary feature such as `MSinceMostRecentDelq>50` and/or `max(50-MSinceMostRecentDelq,0)`. As another example, if we're trying to fit a linear model, we might apply a transformation using the logarithmic or exponential function to make this function more linear or more evenly distributed.\n",
    "\n"
   ]
  },
  {
   "cell_type": "markdown",
   "metadata": {
    "deletable": false,
    "editable": false,
    "nbgrader": {
     "grade": false,
     "grade_id": "cell-1827a2c355b64f3e",
     "locked": true,
     "schema_version": 3,
     "solution": false,
     "task": false
    }
   },
   "source": [
    "In practice, one should think carefully when transforming each feature and understand the causes of missing values. Due to lack of access to the process that generated this data, and for our educational purposes, we will apply the following transformation:\n",
    "1. For every column with missing values (-7 or -8), we add a feature with the same name, concatenated by the term \"=-7\" or \"=-8\". For example, for the feature `MSinceMostRecentDelq`, we will add the binary features `MSinceMostRecentDelq=-7` and `MSinceMostRecentDelq=-8`, which are equal to 1 when the value under   `MSinceMostRecentDelq` is equal to `-7` and `-8`, respectively.\n",
    "2. We will replace the missing values of each feature by the average value of the respective feature.  \n",
    "\n",
    "\n",
    "To this end, we will use scikit-learn preprocessing functions. Let's start with a small example:"
   ]
  },
  {
   "cell_type": "code",
   "execution_count": 43,
   "metadata": {
    "deletable": false,
    "editable": false,
    "nbgrader": {
     "grade": false,
     "grade_id": "cell-33f4fd0a1a18937d",
     "locked": true,
     "schema_version": 3,
     "solution": false,
     "task": false
    }
   },
   "outputs": [
    {
     "data": {
      "text/html": [
       "<div>\n",
       "<style scoped>\n",
       "    .dataframe tbody tr th:only-of-type {\n",
       "        vertical-align: middle;\n",
       "    }\n",
       "\n",
       "    .dataframe tbody tr th {\n",
       "        vertical-align: top;\n",
       "    }\n",
       "\n",
       "    .dataframe thead th {\n",
       "        text-align: right;\n",
       "    }\n",
       "</style>\n",
       "<table border=\"1\" class=\"dataframe\">\n",
       "  <thead>\n",
       "    <tr style=\"text-align: right;\">\n",
       "      <th></th>\n",
       "      <th>A</th>\n",
       "      <th>B</th>\n",
       "      <th>C</th>\n",
       "    </tr>\n",
       "  </thead>\n",
       "  <tbody>\n",
       "    <tr>\n",
       "      <th>0</th>\n",
       "      <td>-7</td>\n",
       "      <td>1</td>\n",
       "      <td>2</td>\n",
       "    </tr>\n",
       "    <tr>\n",
       "      <th>1</th>\n",
       "      <td>4</td>\n",
       "      <td>0</td>\n",
       "      <td>-7</td>\n",
       "    </tr>\n",
       "    <tr>\n",
       "      <th>2</th>\n",
       "      <td>-8</td>\n",
       "      <td>1</td>\n",
       "      <td>-7</td>\n",
       "    </tr>\n",
       "    <tr>\n",
       "      <th>3</th>\n",
       "      <td>10</td>\n",
       "      <td>20</td>\n",
       "      <td>30</td>\n",
       "    </tr>\n",
       "  </tbody>\n",
       "</table>\n",
       "</div>"
      ],
      "text/plain": [
       "    A   B   C\n",
       "0  -7   1   2\n",
       "1   4   0  -7\n",
       "2  -8   1  -7\n",
       "3  10  20  30"
      ]
     },
     "execution_count": 43,
     "metadata": {},
     "output_type": "execute_result"
    }
   ],
   "source": [
    "X1 = np.array([[ -7,  1,  2],\n",
    "               [  4,  0, -7],\n",
    "               [ -8,  1, -7],\n",
    "               [ 10, 20, 30]])\n",
    "df1 = pd.DataFrame(X1, columns=['A','B','C'])\n",
    "df1"
   ]
  },
  {
   "cell_type": "markdown",
   "metadata": {
    "deletable": false,
    "editable": false,
    "nbgrader": {
     "grade": false,
     "grade_id": "cell-fe71151317f3e826",
     "locked": true,
     "schema_version": 3,
     "solution": false,
     "task": false
    }
   },
   "source": [
    "We created the dataframe `df1` that has three columns \"A\",\"B\",\"C\", which contains some missing values indicated by `-7` and `-8`. \n",
    "\n",
    "We next use the scikit-learn object `MissingIndicator` to transform the dataframe into a dataframe that only contain indicators for missing values."
   ]
  },
  {
   "cell_type": "code",
   "execution_count": 44,
   "metadata": {
    "deletable": false,
    "editable": false,
    "nbgrader": {
     "grade": false,
     "grade_id": "cell-78a07f884ef165c0",
     "locked": true,
     "schema_version": 3,
     "solution": false,
     "task": false
    }
   },
   "outputs": [
    {
     "data": {
      "text/plain": [
       "MissingIndicator(missing_values=-7)"
      ]
     },
     "execution_count": 44,
     "metadata": {},
     "output_type": "execute_result"
    }
   ],
   "source": [
    "from sklearn.impute import MissingIndicator\n",
    "minus_7_indicator_transformer = MissingIndicator(missing_values=-7, features='missing-only').fit(df1)\n",
    "minus_7_indicator_transformer"
   ]
  },
  {
   "cell_type": "markdown",
   "metadata": {
    "deletable": false,
    "editable": false,
    "nbgrader": {
     "grade": false,
     "grade_id": "cell-6f0e1ddc78daceac",
     "locked": true,
     "schema_version": 3,
     "solution": false,
     "task": false
    }
   },
   "source": [
    "The above code created a transformer (an objects that transforms data matrixes and features) called `minus_7_indicators`. Using the parameters `missing_values=-7`, we specified that  -7 is the value being used to denote missing values. The other parameter `features='missing-only`  specifies that we will only keep columns with missing values. In our case, Columns A and C contain missing values but not column B. If we apply the transformation we would get two columns, one indicating missing values in column A and the second indicating missing values in column C:"
   ]
  },
  {
   "cell_type": "code",
   "execution_count": 45,
   "metadata": {
    "deletable": false,
    "editable": false,
    "nbgrader": {
     "grade": false,
     "grade_id": "cell-2c7e8ab862b101db",
     "locked": true,
     "schema_version": 3,
     "solution": false,
     "task": false
    }
   },
   "outputs": [
    {
     "data": {
      "text/plain": [
       "array([[ True, False],\n",
       "       [False,  True],\n",
       "       [False,  True],\n",
       "       [False, False]])"
      ]
     },
     "execution_count": 45,
     "metadata": {},
     "output_type": "execute_result"
    }
   ],
   "source": [
    "arr1_t = minus_7_indicator_transformer.transform(df1)\n",
    "arr1_t"
   ]
  },
  {
   "cell_type": "markdown",
   "metadata": {
    "deletable": false,
    "editable": false,
    "nbgrader": {
     "grade": false,
     "grade_id": "cell-27885ca6c23480c2",
     "locked": true,
     "schema_version": 3,
     "solution": false,
     "task": false
    }
   },
   "source": [
    "The variable `arr1_t` (which stands for array 1 transformed) contains the transformed values. Notice that the value `-8` has not been transformed since we only specified -7 as missing value (by setting `missing_values=-7`).\n",
    "Running `minus_7_indicators.features_` will tell us which of the columns were transformed:"
   ]
  },
  {
   "cell_type": "code",
   "execution_count": 46,
   "metadata": {
    "deletable": false,
    "editable": false,
    "nbgrader": {
     "grade": false,
     "grade_id": "cell-83026aac2fd469e7",
     "locked": true,
     "schema_version": 3,
     "solution": false,
     "task": false
    }
   },
   "outputs": [
    {
     "data": {
      "text/plain": [
       "array([0, 2])"
      ]
     },
     "execution_count": 46,
     "metadata": {},
     "output_type": "execute_result"
    }
   ],
   "source": [
    "minus_7_indicator_transformer.features_"
   ]
  },
  {
   "cell_type": "markdown",
   "metadata": {
    "deletable": false,
    "editable": false,
    "nbgrader": {
     "grade": false,
     "grade_id": "cell-44b232aa99647489",
     "locked": true,
     "schema_version": 3,
     "solution": false,
     "task": false
    }
   },
   "source": [
    "These are the first and last columns of `df1`, which correspond to A and C:"
   ]
  },
  {
   "cell_type": "code",
   "execution_count": 47,
   "metadata": {
    "deletable": false,
    "editable": false,
    "nbgrader": {
     "grade": false,
     "grade_id": "cell-15b594ec32014d7a",
     "locked": true,
     "schema_version": 3,
     "solution": false,
     "task": false
    }
   },
   "outputs": [
    {
     "data": {
      "text/plain": [
       "array(['A', 'C'], dtype=object)"
      ]
     },
     "execution_count": 47,
     "metadata": {},
     "output_type": "execute_result"
    }
   ],
   "source": [
    "df1.columns.values[minus_7_indicator_transformer.features_]"
   ]
  },
  {
   "cell_type": "markdown",
   "metadata": {
    "deletable": false,
    "editable": false,
    "nbgrader": {
     "grade": false,
     "grade_id": "cell-1e9df02dd2e5672b",
     "locked": true,
     "schema_version": 3,
     "solution": false,
     "task": false
    }
   },
   "source": [
    "An advantage of defining this transformer is that it can be applied to new data points: "
   ]
  },
  {
   "cell_type": "code",
   "execution_count": 48,
   "metadata": {
    "deletable": false,
    "editable": false,
    "nbgrader": {
     "grade": false,
     "grade_id": "cell-cf82b46e6d9b46cc",
     "locked": true,
     "schema_version": 3,
     "solution": false,
     "task": false
    }
   },
   "outputs": [
    {
     "name": "stderr",
     "output_type": "stream",
     "text": [
      "/usr/lib/python3.7/site-packages/sklearn/base.py:446: UserWarning: X does not have valid feature names, but MissingIndicator was fitted with feature names\n",
      "  \"X does not have valid feature names, but\"\n"
     ]
    },
    {
     "data": {
      "text/plain": [
       "array([[False,  True]])"
      ]
     },
     "execution_count": 48,
     "metadata": {},
     "output_type": "execute_result"
    }
   ],
   "source": [
    "minus_7_indicator_transformer.transform([[1,1,-7]]) # A is not missing here, and C is missing (this is the output of transforming this new observation)"
   ]
  },
  {
   "cell_type": "markdown",
   "metadata": {
    "deletable": false,
    "editable": false,
    "nbgrader": {
     "grade": false,
     "grade_id": "cell-b829220169b63d4d",
     "locked": true,
     "schema_version": 3,
     "solution": false,
     "task": false
    }
   },
   "source": [
    "Similarly, let's create additional features for the missing value -8: "
   ]
  },
  {
   "cell_type": "code",
   "execution_count": 49,
   "metadata": {
    "deletable": false,
    "editable": false,
    "nbgrader": {
     "grade": false,
     "grade_id": "cell-7d46b294a6caccbc",
     "locked": true,
     "schema_version": 3,
     "solution": false,
     "task": false
    }
   },
   "outputs": [
    {
     "data": {
      "text/plain": [
       "array([[False],\n",
       "       [False],\n",
       "       [ True],\n",
       "       [False]])"
      ]
     },
     "execution_count": 49,
     "metadata": {},
     "output_type": "execute_result"
    }
   ],
   "source": [
    "minus_8_indicator_transformer = MissingIndicator(missing_values=-8, features='missing-only').fit(df1) # notice the -8\n",
    "arr2_t = minus_8_indicator_transformer.transform(df1)\n",
    "arr2_t"
   ]
  },
  {
   "cell_type": "code",
   "execution_count": 50,
   "metadata": {
    "deletable": false,
    "editable": false,
    "nbgrader": {
     "grade": false,
     "grade_id": "cell-093b84e215aea6e5",
     "locked": true,
     "schema_version": 3,
     "solution": false,
     "task": false
    }
   },
   "outputs": [
    {
     "data": {
      "text/plain": [
       "array([0])"
      ]
     },
     "execution_count": 50,
     "metadata": {},
     "output_type": "execute_result"
    }
   ],
   "source": [
    "minus_8_indicator_transformer.features_"
   ]
  },
  {
   "cell_type": "code",
   "execution_count": 51,
   "metadata": {
    "deletable": false,
    "editable": false,
    "nbgrader": {
     "grade": false,
     "grade_id": "cell-8334e8673636d507",
     "locked": true,
     "schema_version": 3,
     "solution": false,
     "task": false
    }
   },
   "outputs": [
    {
     "data": {
      "text/plain": [
       "array(['A'], dtype=object)"
      ]
     },
     "execution_count": 51,
     "metadata": {},
     "output_type": "execute_result"
    }
   ],
   "source": [
    "df1.columns.values[minus_8_indicator_transformer.features_]"
   ]
  },
  {
   "cell_type": "markdown",
   "metadata": {
    "deletable": false,
    "editable": false,
    "nbgrader": {
     "grade": false,
     "grade_id": "cell-bec7d9218acd53e4",
     "locked": true,
     "schema_version": 3,
     "solution": false,
     "task": false
    }
   },
   "source": [
    "The dataframe `df1` only contains 1 value of -8 in the column A, which is why the transformer `minus_8_indicator_transformer` returns a single column.\n",
    "\n",
    "There are a few more steps that we are left to do: \n",
    "1. combine df1, arr1_t, and arr2_t into a single dataframe or array\n",
    "2. set the appropriate feature names (for convenience)\n",
    "3. replace missing values with average values in each column\n",
    "\n",
    "To combine the original data frame (`df1`) and the new features (`arr1_t` and `arr2_t`), we will use scikit-learn's `FeatureUnion` object. Before we do that, we define another transformer (which takes a dataframe and returns one transformed according to some logic), which in our case does nothing. We will call it `do_nothing_imputer`."
   ]
  },
  {
   "cell_type": "code",
   "execution_count": 52,
   "metadata": {
    "deletable": false,
    "editable": false,
    "nbgrader": {
     "grade": false,
     "grade_id": "cell-d84ef59138c5eb7c",
     "locked": true,
     "schema_version": 3,
     "solution": false,
     "task": false
    }
   },
   "outputs": [
    {
     "data": {
      "text/plain": [
       "array([[-7,  1,  2],\n",
       "       [ 4,  0, -7],\n",
       "       [-8,  1, -7],\n",
       "       [10, 20, 30]])"
      ]
     },
     "execution_count": 52,
     "metadata": {},
     "output_type": "execute_result"
    }
   ],
   "source": [
    "# a \"do nothing\" imputer (will be useful later in this exercise)\n",
    "from sklearn.compose import ColumnTransformer\n",
    "from sklearn.impute import SimpleImputer\n",
    "do_nothing_imputer = ColumnTransformer([(\"Imputer -7 to mean\", SimpleImputer(missing_values=-7, strategy='mean'), [])], remainder='passthrough')\n",
    "do_nothing_imputer.fit_transform(df1)"
   ]
  },
  {
   "cell_type": "code",
   "execution_count": 53,
   "metadata": {
    "deletable": false,
    "editable": false,
    "nbgrader": {
     "grade": false,
     "grade_id": "cell-6d2523e27d2d0346",
     "locked": true,
     "schema_version": 3,
     "solution": false,
     "task": false
    }
   },
   "outputs": [
    {
     "name": "stdout",
     "output_type": "stream",
     "text": [
      "    A   B   C\n",
      "0  -7   1   2\n",
      "1   4   0  -7\n",
      "2  -8   1  -7\n",
      "3  10  20  30\n"
     ]
    }
   ],
   "source": [
    "print(df1)"
   ]
  },
  {
   "cell_type": "markdown",
   "metadata": {
    "deletable": false,
    "editable": false,
    "nbgrader": {
     "grade": false,
     "grade_id": "cell-560a6bf203ad1e5c",
     "locked": true,
     "schema_version": 3,
     "solution": false,
     "task": false
    }
   },
   "source": [
    "We see that we get the exact same output, with the exception of the data being returned as a numpy array."
   ]
  },
  {
   "cell_type": "code",
   "execution_count": 54,
   "metadata": {
    "deletable": false,
    "editable": false,
    "nbgrader": {
     "grade": false,
     "grade_id": "cell-218ae96da9d4f1e8",
     "locked": true,
     "schema_version": 3,
     "solution": false,
     "task": false
    }
   },
   "outputs": [
    {
     "data": {
      "text/plain": [
       "array([[-7,  1,  2,  1,  0,  0],\n",
       "       [ 4,  0, -7,  0,  1,  0],\n",
       "       [-8,  1, -7,  0,  1,  1],\n",
       "       [10, 20, 30,  0,  0,  0]])"
      ]
     },
     "execution_count": 54,
     "metadata": {},
     "output_type": "execute_result"
    }
   ],
   "source": [
    "from sklearn.pipeline import FeatureUnion\n",
    "union = FeatureUnion([(\"do nothing\", do_nothing_imputer),\n",
    "                      (\"missing_minus_7\", MissingIndicator(missing_values=-7, features='missing-only')),\n",
    "                      (\"missing_minus_8\", MissingIndicator(missing_values=-8, features='missing-only'))])\n",
    "arr1_extended = union.fit_transform(df1)\n",
    "arr1_extended"
   ]
  },
  {
   "cell_type": "markdown",
   "metadata": {
    "deletable": false,
    "editable": false,
    "nbgrader": {
     "grade": false,
     "grade_id": "cell-d79c0942d13eaebe",
     "locked": true,
     "schema_version": 3,
     "solution": false,
     "task": false
    }
   },
   "source": [
    "FeatureUnion takes a dataframe (or array) and creates multiple copies of it (3 above, one corresponding to each element of the list given to it as a parameter). Each copy is sent through a transformer that transforms the datamatrix (such as `minus_8_indicator_transformer` we defined earlier). Finally, the transformed copies are combined (the union operation in math combines sets of elements, and in this case, sets of features). \n",
    "\n",
    "The first transformer which we call \"do nothing\" only passes the copied data it received. This is because we would like to extend the features space, but also keep the original features. The second and third transformers add binary features for columns with missing values of -7 and -8, respectively (this is equivalent to what we've done earlier).\n",
    "\n",
    "The result is stored in `arr1_extended`. The first 3 columns are the original features, the next two columns indicate missing values of -7 in columns A and C, and the last column indicates missing values in column A. The information about the column names, however, is not shown above as the returned value is an array. We will therefore add columns manually."
   ]
  },
  {
   "cell_type": "markdown",
   "metadata": {
    "deletable": false,
    "editable": false,
    "nbgrader": {
     "grade": false,
     "grade_id": "cell-f50d1e15e0eb2c60",
     "locked": true,
     "schema_version": 3,
     "solution": false,
     "task": false
    }
   },
   "source": [
    "We can obtain the original features names from the dataframe `df1`:"
   ]
  },
  {
   "cell_type": "code",
   "execution_count": 55,
   "metadata": {
    "deletable": false,
    "editable": false,
    "nbgrader": {
     "grade": false,
     "grade_id": "cell-32d0b4f61e515cdc",
     "locked": true,
     "schema_version": 3,
     "solution": false,
     "task": false
    }
   },
   "outputs": [
    {
     "name": "stdout",
     "output_type": "stream",
     "text": [
      "['A', 'B', 'C']\n"
     ]
    }
   ],
   "source": [
    "print(df1.columns.values.tolist()) # these are the original features"
   ]
  },
  {
   "cell_type": "markdown",
   "metadata": {
    "deletable": false,
    "editable": false,
    "nbgrader": {
     "grade": false,
     "grade_id": "cell-718725590b464496",
     "locked": true,
     "schema_version": 3,
     "solution": false,
     "task": false
    }
   },
   "source": [
    "We can obtain the next two features from the transformer `minus_7_indicator_transformer`, mapping the column indexes to feature names:"
   ]
  },
  {
   "cell_type": "code",
   "execution_count": 56,
   "metadata": {
    "deletable": false,
    "editable": false,
    "nbgrader": {
     "grade": false,
     "grade_id": "cell-28039edfd2ce2dd5",
     "locked": true,
     "schema_version": 3,
     "solution": false,
     "task": false
    }
   },
   "outputs": [
    {
     "data": {
      "text/plain": [
       "['A', 'C']"
      ]
     },
     "execution_count": 56,
     "metadata": {},
     "output_type": "execute_result"
    }
   ],
   "source": [
    "col_names_minus_7 = df1.columns.values[minus_7_indicator_transformer.features_].tolist() \n",
    "col_names_minus_7  # these two columns indicate missing value of -7"
   ]
  },
  {
   "cell_type": "markdown",
   "metadata": {
    "deletable": false,
    "editable": false,
    "nbgrader": {
     "grade": false,
     "grade_id": "cell-202b0d86622e3332",
     "locked": true,
     "schema_version": 3,
     "solution": false,
     "task": false
    }
   },
   "source": [
    "We add the text \"-7\" to indicate that these binary columns represent missing values of -7. We use Python's built-in function `map` to apply a function to each element of a list. In this case, the function simply concatenates the string '=-7' to each element in list of column names."
   ]
  },
  {
   "cell_type": "code",
   "execution_count": 57,
   "metadata": {
    "deletable": false,
    "editable": false,
    "nbgrader": {
     "grade": false,
     "grade_id": "cell-e053fca6a7ce79d9",
     "locked": true,
     "schema_version": 3,
     "solution": false,
     "task": false
    }
   },
   "outputs": [
    {
     "data": {
      "text/plain": [
       "['A=-7', 'C=-7']"
      ]
     },
     "execution_count": 57,
     "metadata": {},
     "output_type": "execute_result"
    }
   ],
   "source": [
    "col_names_minus_7 = list(map(lambda s:str(s)+'=-7',col_names_minus_7)) # we run over the pervious value\n",
    "col_names_minus_7"
   ]
  },
  {
   "cell_type": "markdown",
   "metadata": {
    "deletable": false,
    "editable": false,
    "nbgrader": {
     "grade": false,
     "grade_id": "cell-1027451f15201afb",
     "locked": true,
     "schema_version": 3,
     "solution": false,
     "task": false
    }
   },
   "source": [
    "We do the same for the last column, which corresponds to missing values of -8:"
   ]
  },
  {
   "cell_type": "code",
   "execution_count": 58,
   "metadata": {
    "deletable": false,
    "editable": false,
    "nbgrader": {
     "grade": false,
     "grade_id": "cell-e37001ed38b384b7",
     "locked": true,
     "schema_version": 3,
     "solution": false,
     "task": false
    }
   },
   "outputs": [
    {
     "data": {
      "text/plain": [
       "['A=-8']"
      ]
     },
     "execution_count": 58,
     "metadata": {},
     "output_type": "execute_result"
    }
   ],
   "source": [
    "col_names_minus_8 = df1.columns.values[minus_8_indicator_transformer.features_].tolist() \n",
    "col_names_minus_8 = list(map(lambda s:str(s)+'=-8',col_names_minus_8))\n",
    "col_names_minus_8"
   ]
  },
  {
   "cell_type": "markdown",
   "metadata": {
    "deletable": false,
    "editable": false,
    "nbgrader": {
     "grade": false,
     "grade_id": "cell-02ef344c684ec9af",
     "locked": true,
     "schema_version": 3,
     "solution": false,
     "task": false
    }
   },
   "source": [
    "Putting it all together, we get the following list of column names:"
   ]
  },
  {
   "cell_type": "code",
   "execution_count": 59,
   "metadata": {
    "deletable": false,
    "editable": false,
    "nbgrader": {
     "grade": false,
     "grade_id": "cell-e57310f09a01f4bc",
     "locked": true,
     "schema_version": 3,
     "solution": false,
     "task": false
    }
   },
   "outputs": [
    {
     "data": {
      "text/plain": [
       "['A', 'B', 'C', 'A=-7', 'C=-7', 'A=-8']"
      ]
     },
     "execution_count": 59,
     "metadata": {},
     "output_type": "execute_result"
    }
   ],
   "source": [
    "columns_all = df1.columns.values.tolist() + col_names_minus_7 + col_names_minus_8\n",
    "columns_all"
   ]
  },
  {
   "cell_type": "markdown",
   "metadata": {
    "deletable": false,
    "editable": false,
    "nbgrader": {
     "grade": false,
     "grade_id": "cell-45b989440fdf9692",
     "locked": true,
     "schema_version": 3,
     "solution": false,
     "task": false
    }
   },
   "source": [
    "Using the combined array `arr1_extended` and the complete list of column names `columns_all`, we create the dataframe `df1_t` (where t stands for transformed)."
   ]
  },
  {
   "cell_type": "code",
   "execution_count": 60,
   "metadata": {
    "deletable": false,
    "editable": false,
    "nbgrader": {
     "grade": false,
     "grade_id": "cell-e704815bca918e3f",
     "locked": true,
     "schema_version": 3,
     "solution": false,
     "task": false
    }
   },
   "outputs": [
    {
     "data": {
      "text/html": [
       "<div>\n",
       "<style scoped>\n",
       "    .dataframe tbody tr th:only-of-type {\n",
       "        vertical-align: middle;\n",
       "    }\n",
       "\n",
       "    .dataframe tbody tr th {\n",
       "        vertical-align: top;\n",
       "    }\n",
       "\n",
       "    .dataframe thead th {\n",
       "        text-align: right;\n",
       "    }\n",
       "</style>\n",
       "<table border=\"1\" class=\"dataframe\">\n",
       "  <thead>\n",
       "    <tr style=\"text-align: right;\">\n",
       "      <th></th>\n",
       "      <th>A</th>\n",
       "      <th>B</th>\n",
       "      <th>C</th>\n",
       "      <th>A=-7</th>\n",
       "      <th>C=-7</th>\n",
       "      <th>A=-8</th>\n",
       "    </tr>\n",
       "  </thead>\n",
       "  <tbody>\n",
       "    <tr>\n",
       "      <th>0</th>\n",
       "      <td>-7</td>\n",
       "      <td>1</td>\n",
       "      <td>2</td>\n",
       "      <td>1</td>\n",
       "      <td>0</td>\n",
       "      <td>0</td>\n",
       "    </tr>\n",
       "    <tr>\n",
       "      <th>1</th>\n",
       "      <td>4</td>\n",
       "      <td>0</td>\n",
       "      <td>-7</td>\n",
       "      <td>0</td>\n",
       "      <td>1</td>\n",
       "      <td>0</td>\n",
       "    </tr>\n",
       "    <tr>\n",
       "      <th>2</th>\n",
       "      <td>-8</td>\n",
       "      <td>1</td>\n",
       "      <td>-7</td>\n",
       "      <td>0</td>\n",
       "      <td>1</td>\n",
       "      <td>1</td>\n",
       "    </tr>\n",
       "    <tr>\n",
       "      <th>3</th>\n",
       "      <td>10</td>\n",
       "      <td>20</td>\n",
       "      <td>30</td>\n",
       "      <td>0</td>\n",
       "      <td>0</td>\n",
       "      <td>0</td>\n",
       "    </tr>\n",
       "  </tbody>\n",
       "</table>\n",
       "</div>"
      ],
      "text/plain": [
       "    A   B   C  A=-7  C=-7  A=-8\n",
       "0  -7   1   2     1     0     0\n",
       "1   4   0  -7     0     1     0\n",
       "2  -8   1  -7     0     1     1\n",
       "3  10  20  30     0     0     0"
      ]
     },
     "execution_count": 60,
     "metadata": {},
     "output_type": "execute_result"
    }
   ],
   "source": [
    "df1_t = pd.DataFrame(arr1_extended, columns=columns_all)\n",
    "df1_t"
   ]
  },
  {
   "cell_type": "markdown",
   "metadata": {
    "deletable": false,
    "editable": false,
    "nbgrader": {
     "grade": false,
     "grade_id": "cell-eaa618b90cca84db",
     "locked": true,
     "schema_version": 3,
     "solution": false,
     "task": false
    }
   },
   "source": [
    "Finally, we replace missing values of -7 and -8 with the average values in each column. While a bit convoluted, we do it in two steps, first transforming values of -7 to -8, and then replacing all values of -8 with the mean values. (This is due to a limitation of scikit-learn where `SimpleImputer` only accepts one value as indicating missing values)."
   ]
  },
  {
   "cell_type": "code",
   "execution_count": 61,
   "metadata": {
    "deletable": false,
    "editable": false,
    "nbgrader": {
     "grade": false,
     "grade_id": "cell-9c698afcd1537acf",
     "locked": true,
     "schema_version": 3,
     "solution": false,
     "task": false
    }
   },
   "outputs": [
    {
     "data": {
      "text/plain": [
       "array([[-8,  1,  2,  1,  0,  0],\n",
       "       [ 4,  0, -8,  0,  1,  0],\n",
       "       [-8,  1, -8,  0,  1,  1],\n",
       "       [10, 20, 30,  0,  0,  0]])"
      ]
     },
     "execution_count": 61,
     "metadata": {},
     "output_type": "execute_result"
    }
   ],
   "source": [
    "arr1_t2 = SimpleImputer(missing_values=-7, strategy='constant', fill_value=-8).fit_transform(df1_t)\n",
    "arr1_t2 "
   ]
  },
  {
   "cell_type": "code",
   "execution_count": 62,
   "metadata": {
    "deletable": false,
    "editable": false,
    "nbgrader": {
     "grade": false,
     "grade_id": "cell-f8c8090874c91948",
     "locked": true,
     "schema_version": 3,
     "solution": false,
     "task": false
    }
   },
   "outputs": [
    {
     "data": {
      "text/plain": [
       "array([[ 7.,  1.,  2.,  1.,  0.,  0.],\n",
       "       [ 4.,  0., 16.,  0.,  1.,  0.],\n",
       "       [ 7.,  1., 16.,  0.,  1.,  1.],\n",
       "       [10., 20., 30.,  0.,  0.,  0.]])"
      ]
     },
     "execution_count": 62,
     "metadata": {},
     "output_type": "execute_result"
    }
   ],
   "source": [
    "arr1_t3 = SimpleImputer(missing_values=-8, strategy='mean').fit_transform(arr1_t2)\n",
    "arr1_t3"
   ]
  },
  {
   "cell_type": "markdown",
   "metadata": {
    "deletable": false,
    "editable": false,
    "nbgrader": {
     "grade": false,
     "grade_id": "cell-60d4a0b2ebc5d600",
     "locked": true,
     "schema_version": 3,
     "solution": false,
     "task": false
    }
   },
   "source": [
    "We see that `arr1_t2` is similar to `df1_t` with values of -7 replaced by -8. In `arr1_t3` we further replace -8 with the average value in each column (check for yourself).\n",
    "\n",
    "We write the entire transformation code in the following code cell."
   ]
  },
  {
   "cell_type": "code",
   "execution_count": 63,
   "metadata": {
    "deletable": false,
    "editable": false,
    "nbgrader": {
     "grade": false,
     "grade_id": "cell-7d8d2a7b4ce042a4",
     "locked": true,
     "schema_version": 3,
     "solution": false,
     "task": false
    }
   },
   "outputs": [
    {
     "data": {
      "text/plain": [
       "array([[ 7.,  1.,  2.,  1.,  0.,  0.],\n",
       "       [ 4.,  0., 16.,  0.,  1.,  0.],\n",
       "       [ 7.,  1., 16.,  0.,  1.,  1.],\n",
       "       [10., 20., 30.,  0.,  0.,  0.]])"
      ]
     },
     "execution_count": 63,
     "metadata": {},
     "output_type": "execute_result"
    }
   ],
   "source": [
    "from sklearn.pipeline import Pipeline\n",
    "\n",
    "do_nothing_imputer = ColumnTransformer([(\"Imputer -7 to mean\", SimpleImputer(missing_values=-7, strategy='mean'), [])], remainder='passthrough')\n",
    "\n",
    "feature_expansion = FeatureUnion([(\"do nothing\", do_nothing_imputer),\n",
    "                                  (\"add features for -7\", MissingIndicator(missing_values=-7, features='missing-only')),\n",
    "                                  (\"add features for -8\", MissingIndicator(missing_values=-8, features='missing-only'))])\n",
    " \n",
    "pipe_example = Pipeline([(\"expand features\", feature_expansion), \n",
    "                 (\"replace -7 with -8\", SimpleImputer(missing_values=-7, strategy='constant', fill_value=-8)),\n",
    "                 (\"replace -8 with mean\", SimpleImputer(missing_values=-8, strategy='mean'))])\n",
    "\n",
    "arr1_transformed = pipe_example.fit_transform(df1)\n",
    "arr1_transformed"
   ]
  },
  {
   "cell_type": "markdown",
   "metadata": {
    "deletable": false,
    "editable": false,
    "nbgrader": {
     "grade": false,
     "grade_id": "cell-c1727224713e75a6",
     "locked": true,
     "schema_version": 3,
     "solution": false,
     "task": false
    }
   },
   "source": [
    "Explanation:\n",
    "* do_nothing_imputer: the transformer that returns the exact input\n",
    "* feature_expansion: the transformer that copies its input 3 times and sends each copy to the transformers \"do nothing\", \"add features for -7\", and \"add features for -8\"\n",
    "* pipe: the transformer that first applies \"feature_expansion\" (defined earlier), then applies \"replace -7 with -8\", and finally applies \"replace -8 with mean\". \n",
    "* when we run pipe_example.fit_transform(df1) we perform the transformations in pipe_example on the values in df1\n",
    "* we store the transformed values in `arr1_transformed`\n",
    "\n",
    "\n",
    "Below is the code that produces the column names of the transformed data matrix:"
   ]
  },
  {
   "cell_type": "code",
   "execution_count": 64,
   "metadata": {
    "deletable": false,
    "editable": false,
    "nbgrader": {
     "grade": false,
     "grade_id": "cell-8d75ae26af1310ea",
     "locked": true,
     "schema_version": 3,
     "solution": false,
     "task": false
    }
   },
   "outputs": [
    {
     "data": {
      "text/plain": [
       "['A', 'B', 'C', 'A=-7', 'C=-7', 'A=-8']"
      ]
     },
     "execution_count": 64,
     "metadata": {},
     "output_type": "execute_result"
    }
   ],
   "source": [
    "col_names_minus_7 = df1.columns.values[minus_7_indicator_transformer.features_].tolist() \n",
    "col_names_minus_7 = list(map(lambda s:str(s)+'=-7',col_names_minus_7)) \n",
    "col_names_minus_8 = df1.columns.values[minus_8_indicator_transformer.features_].tolist() \n",
    "col_names_minus_8 = list(map(lambda s:str(s)+'=-8',col_names_minus_8))\n",
    "columns_all = df1.columns.values.tolist() + col_names_minus_7 + col_names_minus_8\n",
    "columns_all"
   ]
  },
  {
   "cell_type": "markdown",
   "metadata": {
    "deletable": false,
    "editable": false,
    "nbgrader": {
     "grade": false,
     "grade_id": "cell-5eb280b9434b9574",
     "locked": true,
     "schema_version": 3,
     "solution": false,
     "task": false
    }
   },
   "source": [
    "And finally, we combine the transformed matrix with the column names."
   ]
  },
  {
   "cell_type": "code",
   "execution_count": 65,
   "metadata": {
    "deletable": false,
    "editable": false,
    "nbgrader": {
     "grade": false,
     "grade_id": "cell-82c0da0d438c4307",
     "locked": true,
     "schema_version": 3,
     "solution": false,
     "task": false
    }
   },
   "outputs": [
    {
     "data": {
      "text/html": [
       "<div>\n",
       "<style scoped>\n",
       "    .dataframe tbody tr th:only-of-type {\n",
       "        vertical-align: middle;\n",
       "    }\n",
       "\n",
       "    .dataframe tbody tr th {\n",
       "        vertical-align: top;\n",
       "    }\n",
       "\n",
       "    .dataframe thead th {\n",
       "        text-align: right;\n",
       "    }\n",
       "</style>\n",
       "<table border=\"1\" class=\"dataframe\">\n",
       "  <thead>\n",
       "    <tr style=\"text-align: right;\">\n",
       "      <th></th>\n",
       "      <th>A</th>\n",
       "      <th>B</th>\n",
       "      <th>C</th>\n",
       "      <th>A=-7</th>\n",
       "      <th>C=-7</th>\n",
       "      <th>A=-8</th>\n",
       "    </tr>\n",
       "  </thead>\n",
       "  <tbody>\n",
       "    <tr>\n",
       "      <th>0</th>\n",
       "      <td>7.0</td>\n",
       "      <td>1.0</td>\n",
       "      <td>2.0</td>\n",
       "      <td>1.0</td>\n",
       "      <td>0.0</td>\n",
       "      <td>0.0</td>\n",
       "    </tr>\n",
       "    <tr>\n",
       "      <th>1</th>\n",
       "      <td>4.0</td>\n",
       "      <td>0.0</td>\n",
       "      <td>16.0</td>\n",
       "      <td>0.0</td>\n",
       "      <td>1.0</td>\n",
       "      <td>0.0</td>\n",
       "    </tr>\n",
       "    <tr>\n",
       "      <th>2</th>\n",
       "      <td>7.0</td>\n",
       "      <td>1.0</td>\n",
       "      <td>16.0</td>\n",
       "      <td>0.0</td>\n",
       "      <td>1.0</td>\n",
       "      <td>1.0</td>\n",
       "    </tr>\n",
       "    <tr>\n",
       "      <th>3</th>\n",
       "      <td>10.0</td>\n",
       "      <td>20.0</td>\n",
       "      <td>30.0</td>\n",
       "      <td>0.0</td>\n",
       "      <td>0.0</td>\n",
       "      <td>0.0</td>\n",
       "    </tr>\n",
       "  </tbody>\n",
       "</table>\n",
       "</div>"
      ],
      "text/plain": [
       "      A     B     C  A=-7  C=-7  A=-8\n",
       "0   7.0   1.0   2.0   1.0   0.0   0.0\n",
       "1   4.0   0.0  16.0   0.0   1.0   0.0\n",
       "2   7.0   1.0  16.0   0.0   1.0   1.0\n",
       "3  10.0  20.0  30.0   0.0   0.0   0.0"
      ]
     },
     "execution_count": 65,
     "metadata": {},
     "output_type": "execute_result"
    }
   ],
   "source": [
    "df1_t = pd.DataFrame(arr1_transformed, columns=columns_all)\n",
    "df1_t"
   ]
  },
  {
   "cell_type": "markdown",
   "metadata": {
    "deletable": false,
    "editable": false,
    "nbgrader": {
     "grade": false,
     "grade_id": "cell-2607a5423fde499d",
     "locked": true,
     "schema_version": 3,
     "solution": false,
     "task": false
    }
   },
   "source": [
    "### (q4)\n",
    "\n",
    "Similarly to the example above, assign to the variable `pipeline` a pipeline that extends `X_train` with binary variables that indicate missing values of -7 and -8 in each of the columns, and replaces the missing values with the average value in each column. Then apply it to transform our training data `X_train` into the array `arr_X_train_t`."
   ]
  },
  {
   "cell_type": "code",
   "execution_count": 66,
   "metadata": {
    "nbgrader": {
     "grade": false,
     "grade_id": "cell-1984a0c61e31c6cc",
     "locked": false,
     "schema_version": 3,
     "solution": true,
     "task": false
    }
   },
   "outputs": [
    {
     "data": {
      "text/plain": [
       "(7888, 34)"
      ]
     },
     "execution_count": 66,
     "metadata": {},
     "output_type": "execute_result"
    }
   ],
   "source": [
    "do_nothing_imputer = ColumnTransformer([(\"Imputer -7 to mean\", SimpleImputer(missing_values=-7, strategy='mean'), [])], remainder='passthrough')\n",
    "\n",
    "feature_expansion = FeatureUnion([(\"do nothing\", do_nothing_imputer),\n",
    "                                   (\"add features for -7\", MissingIndicator(missing_values=-7, features='missing-only')),\n",
    "                                   (\"add features for -8\", MissingIndicator(missing_values=-8, features='missing-only'))])\n",
    " \n",
    "pipeline = Pipeline([(\"expand features\", feature_expansion), \n",
    "                  (\"replace -7 with -8\", SimpleImputer(missing_values=-7, strategy='constant', fill_value=-8)),\n",
    "                  (\"replace -8 with mean\", SimpleImputer(missing_values=-8, strategy='mean'))])\n",
    "\n",
    "arr_X_train_t = pipeline.fit_transform(X_train)\n",
    "arr_X_train_t.shape"
   ]
  },
  {
   "cell_type": "code",
   "execution_count": 67,
   "metadata": {},
   "outputs": [
    {
     "data": {
      "text/plain": [
       "array([68., 60.,  7., 31., 11.,  1.,  0., 92., 27.,  6.,  5., 12.,  3.,\n",
       "       42.,  0.,  1.,  1., 50., 77.,  5.,  2.,  1., 88.,  0.,  0.,  0.,\n",
       "        0.,  0.,  0.,  0.,  0.,  0.,  0.,  0.])"
      ]
     },
     "execution_count": 67,
     "metadata": {},
     "output_type": "execute_result"
    }
   ],
   "source": [
    "arr_X_train_t[0]"
   ]
  },
  {
   "cell_type": "code",
   "execution_count": 68,
   "metadata": {
    "collapsed": true,
    "deletable": false,
    "editable": false,
    "nbgrader": {
     "grade": true,
     "grade_id": "q4a",
     "locked": true,
     "points": 10,
     "schema_version": 3,
     "solution": false,
     "task": false
    }
   },
   "outputs": [],
   "source": [
    "### BEGIN TEST\n",
    "assert(arr_X_train_t.shape == ANSWER_KEY['arr_X_train_t'].shape), 'test if the dimensions of arr_X_train_t are correct'\n",
    "assert(np.isclose(ANSWER_KEY['arr_X_train_t'], arr_X_train_t, rtol=0, atol=0.01).all()), 'testing arr_X_train_t'\n",
    "### END TEST"
   ]
  },
  {
   "cell_type": "code",
   "execution_count": 69,
   "metadata": {
    "deletable": false,
    "editable": false,
    "nbgrader": {
     "grade": false,
     "grade_id": "cell-b02680cbf9d22b9a",
     "locked": true,
     "schema_version": 3,
     "solution": false,
     "task": false
    }
   },
   "outputs": [
    {
     "name": "stdout",
     "output_type": "stream",
     "text": [
      "The dimensions of X_train: (7888, 23)\n",
      "The dimensions of the transformed X_train: (7888, 34)\n"
     ]
    }
   ],
   "source": [
    "print('The dimensions of X_train:',X_train.shape)\n",
    "print('The dimensions of the transformed X_train:',ANSWER_KEY['arr_X_train_t'].shape)"
   ]
  },
  {
   "cell_type": "markdown",
   "metadata": {
    "deletable": false,
    "editable": false,
    "nbgrader": {
     "grade": false,
     "grade_id": "cell-a1e2eece767ab155",
     "locked": true,
     "schema_version": 3,
     "solution": false,
     "task": false
    }
   },
   "source": [
    "Observe that our transformation did not change the number of rows (observations), only the number of features."
   ]
  },
  {
   "cell_type": "markdown",
   "metadata": {
    "deletable": false,
    "editable": false,
    "nbgrader": {
     "grade": false,
     "grade_id": "cell-45eee1d01d58aada",
     "locked": true,
     "schema_version": 3,
     "solution": false,
     "task": false
    }
   },
   "source": [
    "Set the variable `column_names` to hold the list of column names of the transformed dataset."
   ]
  },
  {
   "cell_type": "code",
   "execution_count": 70,
   "metadata": {},
   "outputs": [],
   "source": [
    "#minus 7 transformer\n",
    "minus7_trans = MissingIndicator(missing_values = -7, features = \"missing-only\").fit(X_train)\n",
    "\n",
    "#minus 8 transformer\n",
    "minus8_trans = MissingIndicator(missing_values = -8, features = \"missing-only\").fit(X_train)\n",
    "\n",
    "#col names\n",
    "cols = X_train.columns.values.tolist()\n",
    "\n",
    "#7\n",
    "col_names_min_7 = X_train.columns.values[minus7_trans.features_].tolist() \n",
    "col_names_min_7 = list(map(lambda s:str(s)+'=-7',col_names_min_7)) # we run over the pervious value\n",
    "\n",
    "#8\n",
    "col_names_min_8 = X_train.columns.values[minus8_trans.features_].tolist() \n",
    "col_names_min_8 = list(map(lambda s:str(s)+'=-8',col_names_min_8))\n",
    "\n",
    "#cols\n",
    "column_names = X_train.columns.values.tolist() + col_names_min_7 + col_names_min_8"
   ]
  },
  {
   "cell_type": "code",
   "execution_count": 71,
   "metadata": {
    "deletable": false,
    "editable": false,
    "nbgrader": {
     "grade": false,
     "grade_id": "cell-2ca901030c5fd5f3",
     "locked": true,
     "schema_version": 3,
     "solution": false,
     "task": false
    }
   },
   "outputs": [
    {
     "data": {
      "text/plain": [
       "['ExternalRiskEstimate',\n",
       " 'MSinceOldestTradeOpen',\n",
       " 'MSinceMostRecentTradeOpen',\n",
       " 'AverageMInFile',\n",
       " 'NumSatisfactoryTrades',\n",
       " 'NumTrades60Ever2DerogPubRec',\n",
       " 'NumTrades90Ever2DerogPubRec',\n",
       " 'PercentTradesNeverDelq',\n",
       " 'MSinceMostRecentDelq',\n",
       " 'MaxDelq2PublicRecLast12M',\n",
       " 'MaxDelqEver',\n",
       " 'NumTotalTrades',\n",
       " 'NumTradesOpeninLast12M',\n",
       " 'PercentInstallTrades',\n",
       " 'MSinceMostRecentInqexcl7days',\n",
       " 'NumInqLast6M',\n",
       " 'NumInqLast6Mexcl7days',\n",
       " 'NetFractionRevolvingBurden',\n",
       " 'NetFractionInstallBurden',\n",
       " 'NumRevolvingTradesWBalance',\n",
       " 'NumInstallTradesWBalance',\n",
       " 'NumBank2NatlTradesWHighUtilization',\n",
       " 'PercentTradesWBalance',\n",
       " 'MSinceMostRecentDelq=-7',\n",
       " 'MSinceMostRecentInqexcl7days=-7',\n",
       " 'MSinceOldestTradeOpen=-8',\n",
       " 'MSinceMostRecentDelq=-8',\n",
       " 'MSinceMostRecentInqexcl7days=-8',\n",
       " 'NetFractionRevolvingBurden=-8',\n",
       " 'NetFractionInstallBurden=-8',\n",
       " 'NumRevolvingTradesWBalance=-8',\n",
       " 'NumInstallTradesWBalance=-8',\n",
       " 'NumBank2NatlTradesWHighUtilization=-8',\n",
       " 'PercentTradesWBalance=-8']"
      ]
     },
     "execution_count": 71,
     "metadata": {},
     "output_type": "execute_result"
    }
   ],
   "source": [
    "# expected output\n",
    "ANSWER_KEY['column_names']"
   ]
  },
  {
   "cell_type": "code",
   "execution_count": 72,
   "metadata": {
    "collapsed": true,
    "deletable": false,
    "editable": false,
    "nbgrader": {
     "grade": true,
     "grade_id": "q4b",
     "locked": true,
     "points": 5,
     "schema_version": 3,
     "solution": false,
     "task": false
    }
   },
   "outputs": [],
   "source": [
    "### BEGIN TEST\n",
    "assert(ANSWER_KEY['column_names'] == column_names), 'test column_names'\n",
    "### END TEST"
   ]
  },
  {
   "cell_type": "markdown",
   "metadata": {
    "deletable": false,
    "editable": false,
    "nbgrader": {
     "grade": false,
     "grade_id": "cell-a06e77058f5a32c7",
     "locked": true,
     "schema_version": 3,
     "solution": false,
     "task": false
    }
   },
   "source": [
    "Set the variable `X_train_t` to the dataframe holding the transformed data (similar to arr_X_train_t only with the appropriate column names)."
   ]
  },
  {
   "cell_type": "code",
   "execution_count": 73,
   "metadata": {
    "nbgrader": {
     "grade": false,
     "grade_id": "cell-6e6823b87f0353c4",
     "locked": false,
     "schema_version": 3,
     "solution": true,
     "task": false
    }
   },
   "outputs": [],
   "source": [
    "X_train_t = pd.DataFrame(arr_X_train_t, columns=column_names)\n",
    "###\n",
    "### YOUR CODE HERE\n",
    "###\n"
   ]
  },
  {
   "cell_type": "code",
   "execution_count": 74,
   "metadata": {
    "collapsed": true,
    "deletable": false,
    "editable": false,
    "nbgrader": {
     "grade": true,
     "grade_id": "q4c",
     "locked": true,
     "points": 3,
     "schema_version": 3,
     "solution": false,
     "task": false
    }
   },
   "outputs": [],
   "source": [
    "### BEGIN TEST (DO NOT REMOVE CELL)\n",
    "sol = ANSWER_KEY['X_train_t']\n",
    "diff = sol.compare(X_train_t)\n",
    "assert(len(diff)==0), 'testing X_train_t'\n",
    "### END TEST "
   ]
  },
  {
   "cell_type": "markdown",
   "metadata": {
    "deletable": false,
    "editable": false,
    "nbgrader": {
     "grade": false,
     "grade_id": "cell-c8f684bd0d560b78",
     "locked": true,
     "schema_version": 3,
     "solution": false,
     "task": false
    }
   },
   "source": [
    "Let's look at the transformed dataset"
   ]
  },
  {
   "cell_type": "code",
   "execution_count": 75,
   "metadata": {
    "deletable": false,
    "editable": false,
    "nbgrader": {
     "grade": false,
     "grade_id": "cell-2c5758fda5efc03b",
     "locked": true,
     "schema_version": 3,
     "solution": false,
     "task": false
    }
   },
   "outputs": [
    {
     "data": {
      "text/html": [
       "<div>\n",
       "<style scoped>\n",
       "    .dataframe tbody tr th:only-of-type {\n",
       "        vertical-align: middle;\n",
       "    }\n",
       "\n",
       "    .dataframe tbody tr th {\n",
       "        vertical-align: top;\n",
       "    }\n",
       "\n",
       "    .dataframe thead th {\n",
       "        text-align: right;\n",
       "    }\n",
       "</style>\n",
       "<table border=\"1\" class=\"dataframe\">\n",
       "  <thead>\n",
       "    <tr style=\"text-align: right;\">\n",
       "      <th></th>\n",
       "      <th>ExternalRiskEstimate</th>\n",
       "      <th>MSinceOldestTradeOpen</th>\n",
       "      <th>MSinceMostRecentTradeOpen</th>\n",
       "      <th>AverageMInFile</th>\n",
       "      <th>NumSatisfactoryTrades</th>\n",
       "      <th>NumTrades60Ever2DerogPubRec</th>\n",
       "      <th>NumTrades90Ever2DerogPubRec</th>\n",
       "      <th>PercentTradesNeverDelq</th>\n",
       "      <th>MSinceMostRecentDelq</th>\n",
       "      <th>MaxDelq2PublicRecLast12M</th>\n",
       "      <th>...</th>\n",
       "      <th>MSinceMostRecentInqexcl7days=-7</th>\n",
       "      <th>MSinceOldestTradeOpen=-8</th>\n",
       "      <th>MSinceMostRecentDelq=-8</th>\n",
       "      <th>MSinceMostRecentInqexcl7days=-8</th>\n",
       "      <th>NetFractionRevolvingBurden=-8</th>\n",
       "      <th>NetFractionInstallBurden=-8</th>\n",
       "      <th>NumRevolvingTradesWBalance=-8</th>\n",
       "      <th>NumInstallTradesWBalance=-8</th>\n",
       "      <th>NumBank2NatlTradesWHighUtilization=-8</th>\n",
       "      <th>PercentTradesWBalance=-8</th>\n",
       "    </tr>\n",
       "  </thead>\n",
       "  <tbody>\n",
       "    <tr>\n",
       "      <th>count</th>\n",
       "      <td>7888.000000</td>\n",
       "      <td>7888.000000</td>\n",
       "      <td>7888.000000</td>\n",
       "      <td>7888.000000</td>\n",
       "      <td>7888.000000</td>\n",
       "      <td>7888.000000</td>\n",
       "      <td>7888.000000</td>\n",
       "      <td>7888.000000</td>\n",
       "      <td>7888.000000</td>\n",
       "      <td>7888.000000</td>\n",
       "      <td>...</td>\n",
       "      <td>7888.000000</td>\n",
       "      <td>7888.000000</td>\n",
       "      <td>7888.000000</td>\n",
       "      <td>7888.000000</td>\n",
       "      <td>7888.000000</td>\n",
       "      <td>7888.000000</td>\n",
       "      <td>7888.000000</td>\n",
       "      <td>7888.000000</td>\n",
       "      <td>7888.000000</td>\n",
       "      <td>7888.000000</td>\n",
       "    </tr>\n",
       "    <tr>\n",
       "      <th>mean</th>\n",
       "      <td>72.012170</td>\n",
       "      <td>201.111198</td>\n",
       "      <td>9.539300</td>\n",
       "      <td>78.839630</td>\n",
       "      <td>21.197008</td>\n",
       "      <td>0.585446</td>\n",
       "      <td>0.386029</td>\n",
       "      <td>92.263058</td>\n",
       "      <td>21.751675</td>\n",
       "      <td>5.749366</td>\n",
       "      <td>...</td>\n",
       "      <td>0.185345</td>\n",
       "      <td>0.025228</td>\n",
       "      <td>0.016481</td>\n",
       "      <td>0.047033</td>\n",
       "      <td>0.018002</td>\n",
       "      <td>0.347490</td>\n",
       "      <td>0.015467</td>\n",
       "      <td>0.086968</td>\n",
       "      <td>0.059077</td>\n",
       "      <td>0.000887</td>\n",
       "    </tr>\n",
       "    <tr>\n",
       "      <th>std</th>\n",
       "      <td>9.896349</td>\n",
       "      <td>96.794766</td>\n",
       "      <td>12.498854</td>\n",
       "      <td>33.845501</td>\n",
       "      <td>11.349714</td>\n",
       "      <td>1.234844</td>\n",
       "      <td>0.985603</td>\n",
       "      <td>11.982475</td>\n",
       "      <td>14.729127</td>\n",
       "      <td>1.657175</td>\n",
       "      <td>...</td>\n",
       "      <td>0.388602</td>\n",
       "      <td>0.156827</td>\n",
       "      <td>0.127323</td>\n",
       "      <td>0.211724</td>\n",
       "      <td>0.132967</td>\n",
       "      <td>0.476203</td>\n",
       "      <td>0.123407</td>\n",
       "      <td>0.281805</td>\n",
       "      <td>0.235784</td>\n",
       "      <td>0.029778</td>\n",
       "    </tr>\n",
       "    <tr>\n",
       "      <th>min</th>\n",
       "      <td>34.000000</td>\n",
       "      <td>2.000000</td>\n",
       "      <td>0.000000</td>\n",
       "      <td>4.000000</td>\n",
       "      <td>0.000000</td>\n",
       "      <td>0.000000</td>\n",
       "      <td>0.000000</td>\n",
       "      <td>0.000000</td>\n",
       "      <td>0.000000</td>\n",
       "      <td>0.000000</td>\n",
       "      <td>...</td>\n",
       "      <td>0.000000</td>\n",
       "      <td>0.000000</td>\n",
       "      <td>0.000000</td>\n",
       "      <td>0.000000</td>\n",
       "      <td>0.000000</td>\n",
       "      <td>0.000000</td>\n",
       "      <td>0.000000</td>\n",
       "      <td>0.000000</td>\n",
       "      <td>0.000000</td>\n",
       "      <td>0.000000</td>\n",
       "    </tr>\n",
       "    <tr>\n",
       "      <th>25%</th>\n",
       "      <td>64.000000</td>\n",
       "      <td>137.000000</td>\n",
       "      <td>3.000000</td>\n",
       "      <td>57.000000</td>\n",
       "      <td>13.000000</td>\n",
       "      <td>0.000000</td>\n",
       "      <td>0.000000</td>\n",
       "      <td>89.000000</td>\n",
       "      <td>14.000000</td>\n",
       "      <td>5.000000</td>\n",
       "      <td>...</td>\n",
       "      <td>0.000000</td>\n",
       "      <td>0.000000</td>\n",
       "      <td>0.000000</td>\n",
       "      <td>0.000000</td>\n",
       "      <td>0.000000</td>\n",
       "      <td>0.000000</td>\n",
       "      <td>0.000000</td>\n",
       "      <td>0.000000</td>\n",
       "      <td>0.000000</td>\n",
       "      <td>0.000000</td>\n",
       "    </tr>\n",
       "    <tr>\n",
       "      <th>50%</th>\n",
       "      <td>72.000000</td>\n",
       "      <td>188.000000</td>\n",
       "      <td>6.000000</td>\n",
       "      <td>76.000000</td>\n",
       "      <td>20.000000</td>\n",
       "      <td>0.000000</td>\n",
       "      <td>0.000000</td>\n",
       "      <td>97.000000</td>\n",
       "      <td>21.751675</td>\n",
       "      <td>6.000000</td>\n",
       "      <td>...</td>\n",
       "      <td>0.000000</td>\n",
       "      <td>0.000000</td>\n",
       "      <td>0.000000</td>\n",
       "      <td>0.000000</td>\n",
       "      <td>0.000000</td>\n",
       "      <td>0.000000</td>\n",
       "      <td>0.000000</td>\n",
       "      <td>0.000000</td>\n",
       "      <td>0.000000</td>\n",
       "      <td>0.000000</td>\n",
       "    </tr>\n",
       "    <tr>\n",
       "      <th>75%</th>\n",
       "      <td>80.000000</td>\n",
       "      <td>255.000000</td>\n",
       "      <td>12.000000</td>\n",
       "      <td>96.000000</td>\n",
       "      <td>28.000000</td>\n",
       "      <td>1.000000</td>\n",
       "      <td>0.000000</td>\n",
       "      <td>100.000000</td>\n",
       "      <td>21.751675</td>\n",
       "      <td>7.000000</td>\n",
       "      <td>...</td>\n",
       "      <td>0.000000</td>\n",
       "      <td>0.000000</td>\n",
       "      <td>0.000000</td>\n",
       "      <td>0.000000</td>\n",
       "      <td>0.000000</td>\n",
       "      <td>1.000000</td>\n",
       "      <td>0.000000</td>\n",
       "      <td>0.000000</td>\n",
       "      <td>0.000000</td>\n",
       "      <td>0.000000</td>\n",
       "    </tr>\n",
       "    <tr>\n",
       "      <th>max</th>\n",
       "      <td>94.000000</td>\n",
       "      <td>803.000000</td>\n",
       "      <td>227.000000</td>\n",
       "      <td>322.000000</td>\n",
       "      <td>79.000000</td>\n",
       "      <td>19.000000</td>\n",
       "      <td>19.000000</td>\n",
       "      <td>100.000000</td>\n",
       "      <td>83.000000</td>\n",
       "      <td>9.000000</td>\n",
       "      <td>...</td>\n",
       "      <td>1.000000</td>\n",
       "      <td>1.000000</td>\n",
       "      <td>1.000000</td>\n",
       "      <td>1.000000</td>\n",
       "      <td>1.000000</td>\n",
       "      <td>1.000000</td>\n",
       "      <td>1.000000</td>\n",
       "      <td>1.000000</td>\n",
       "      <td>1.000000</td>\n",
       "      <td>1.000000</td>\n",
       "    </tr>\n",
       "  </tbody>\n",
       "</table>\n",
       "<p>8 rows × 34 columns</p>\n",
       "</div>"
      ],
      "text/plain": [
       "       ExternalRiskEstimate  MSinceOldestTradeOpen  MSinceMostRecentTradeOpen  \\\n",
       "count           7888.000000            7888.000000                7888.000000   \n",
       "mean              72.012170             201.111198                   9.539300   \n",
       "std                9.896349              96.794766                  12.498854   \n",
       "min               34.000000               2.000000                   0.000000   \n",
       "25%               64.000000             137.000000                   3.000000   \n",
       "50%               72.000000             188.000000                   6.000000   \n",
       "75%               80.000000             255.000000                  12.000000   \n",
       "max               94.000000             803.000000                 227.000000   \n",
       "\n",
       "       AverageMInFile  NumSatisfactoryTrades  NumTrades60Ever2DerogPubRec  \\\n",
       "count     7888.000000            7888.000000                  7888.000000   \n",
       "mean        78.839630              21.197008                     0.585446   \n",
       "std         33.845501              11.349714                     1.234844   \n",
       "min          4.000000               0.000000                     0.000000   \n",
       "25%         57.000000              13.000000                     0.000000   \n",
       "50%         76.000000              20.000000                     0.000000   \n",
       "75%         96.000000              28.000000                     1.000000   \n",
       "max        322.000000              79.000000                    19.000000   \n",
       "\n",
       "       NumTrades90Ever2DerogPubRec  PercentTradesNeverDelq  \\\n",
       "count                  7888.000000             7888.000000   \n",
       "mean                      0.386029               92.263058   \n",
       "std                       0.985603               11.982475   \n",
       "min                       0.000000                0.000000   \n",
       "25%                       0.000000               89.000000   \n",
       "50%                       0.000000               97.000000   \n",
       "75%                       0.000000              100.000000   \n",
       "max                      19.000000              100.000000   \n",
       "\n",
       "       MSinceMostRecentDelq  MaxDelq2PublicRecLast12M  ...  \\\n",
       "count           7888.000000               7888.000000  ...   \n",
       "mean              21.751675                  5.749366  ...   \n",
       "std               14.729127                  1.657175  ...   \n",
       "min                0.000000                  0.000000  ...   \n",
       "25%               14.000000                  5.000000  ...   \n",
       "50%               21.751675                  6.000000  ...   \n",
       "75%               21.751675                  7.000000  ...   \n",
       "max               83.000000                  9.000000  ...   \n",
       "\n",
       "       MSinceMostRecentInqexcl7days=-7  MSinceOldestTradeOpen=-8  \\\n",
       "count                      7888.000000               7888.000000   \n",
       "mean                          0.185345                  0.025228   \n",
       "std                           0.388602                  0.156827   \n",
       "min                           0.000000                  0.000000   \n",
       "25%                           0.000000                  0.000000   \n",
       "50%                           0.000000                  0.000000   \n",
       "75%                           0.000000                  0.000000   \n",
       "max                           1.000000                  1.000000   \n",
       "\n",
       "       MSinceMostRecentDelq=-8  MSinceMostRecentInqexcl7days=-8  \\\n",
       "count              7888.000000                      7888.000000   \n",
       "mean                  0.016481                         0.047033   \n",
       "std                   0.127323                         0.211724   \n",
       "min                   0.000000                         0.000000   \n",
       "25%                   0.000000                         0.000000   \n",
       "50%                   0.000000                         0.000000   \n",
       "75%                   0.000000                         0.000000   \n",
       "max                   1.000000                         1.000000   \n",
       "\n",
       "       NetFractionRevolvingBurden=-8  NetFractionInstallBurden=-8  \\\n",
       "count                    7888.000000                  7888.000000   \n",
       "mean                        0.018002                     0.347490   \n",
       "std                         0.132967                     0.476203   \n",
       "min                         0.000000                     0.000000   \n",
       "25%                         0.000000                     0.000000   \n",
       "50%                         0.000000                     0.000000   \n",
       "75%                         0.000000                     1.000000   \n",
       "max                         1.000000                     1.000000   \n",
       "\n",
       "       NumRevolvingTradesWBalance=-8  NumInstallTradesWBalance=-8  \\\n",
       "count                    7888.000000                  7888.000000   \n",
       "mean                        0.015467                     0.086968   \n",
       "std                         0.123407                     0.281805   \n",
       "min                         0.000000                     0.000000   \n",
       "25%                         0.000000                     0.000000   \n",
       "50%                         0.000000                     0.000000   \n",
       "75%                         0.000000                     0.000000   \n",
       "max                         1.000000                     1.000000   \n",
       "\n",
       "       NumBank2NatlTradesWHighUtilization=-8  PercentTradesWBalance=-8  \n",
       "count                            7888.000000               7888.000000  \n",
       "mean                                0.059077                  0.000887  \n",
       "std                                 0.235784                  0.029778  \n",
       "min                                 0.000000                  0.000000  \n",
       "25%                                 0.000000                  0.000000  \n",
       "50%                                 0.000000                  0.000000  \n",
       "75%                                 0.000000                  0.000000  \n",
       "max                                 1.000000                  1.000000  \n",
       "\n",
       "[8 rows x 34 columns]"
      ]
     },
     "execution_count": 75,
     "metadata": {},
     "output_type": "execute_result"
    }
   ],
   "source": [
    "ANSWER_KEY['X_train_t'].describe()"
   ]
  },
  {
   "cell_type": "markdown",
   "metadata": {
    "deletable": false,
    "editable": false,
    "nbgrader": {
     "grade": false,
     "grade_id": "cell-c455c8395a44e21e",
     "locked": true,
     "schema_version": 3,
     "solution": false,
     "task": false
    }
   },
   "source": [
    "We observe that \n",
    "* There are now 34 features (in comparison to the original 23)\n",
    "* Missing values were transformed (the minimal value in each column is no longer -7 or -8)"
   ]
  },
  {
   "cell_type": "markdown",
   "metadata": {
    "deletable": false,
    "editable": false,
    "nbgrader": {
     "grade": false,
     "grade_id": "cell-42dc26f969976da3",
     "locked": true,
     "schema_version": 3,
     "solution": false,
     "task": false
    }
   },
   "source": [
    "We can conveniently see the list of features using the function `.info()`"
   ]
  },
  {
   "cell_type": "code",
   "execution_count": 76,
   "metadata": {
    "deletable": false,
    "editable": false,
    "nbgrader": {
     "grade": false,
     "grade_id": "cell-91f931d6c3ed8a24",
     "locked": true,
     "schema_version": 3,
     "solution": false,
     "task": false
    }
   },
   "outputs": [
    {
     "name": "stdout",
     "output_type": "stream",
     "text": [
      "<class 'pandas.core.frame.DataFrame'>\n",
      "RangeIndex: 7888 entries, 0 to 7887\n",
      "Data columns (total 34 columns):\n",
      " #   Column                                 Non-Null Count  Dtype  \n",
      "---  ------                                 --------------  -----  \n",
      " 0   ExternalRiskEstimate                   7888 non-null   float64\n",
      " 1   MSinceOldestTradeOpen                  7888 non-null   float64\n",
      " 2   MSinceMostRecentTradeOpen              7888 non-null   float64\n",
      " 3   AverageMInFile                         7888 non-null   float64\n",
      " 4   NumSatisfactoryTrades                  7888 non-null   float64\n",
      " 5   NumTrades60Ever2DerogPubRec            7888 non-null   float64\n",
      " 6   NumTrades90Ever2DerogPubRec            7888 non-null   float64\n",
      " 7   PercentTradesNeverDelq                 7888 non-null   float64\n",
      " 8   MSinceMostRecentDelq                   7888 non-null   float64\n",
      " 9   MaxDelq2PublicRecLast12M               7888 non-null   float64\n",
      " 10  MaxDelqEver                            7888 non-null   float64\n",
      " 11  NumTotalTrades                         7888 non-null   float64\n",
      " 12  NumTradesOpeninLast12M                 7888 non-null   float64\n",
      " 13  PercentInstallTrades                   7888 non-null   float64\n",
      " 14  MSinceMostRecentInqexcl7days           7888 non-null   float64\n",
      " 15  NumInqLast6M                           7888 non-null   float64\n",
      " 16  NumInqLast6Mexcl7days                  7888 non-null   float64\n",
      " 17  NetFractionRevolvingBurden             7888 non-null   float64\n",
      " 18  NetFractionInstallBurden               7888 non-null   float64\n",
      " 19  NumRevolvingTradesWBalance             7888 non-null   float64\n",
      " 20  NumInstallTradesWBalance               7888 non-null   float64\n",
      " 21  NumBank2NatlTradesWHighUtilization     7888 non-null   float64\n",
      " 22  PercentTradesWBalance                  7888 non-null   float64\n",
      " 23  MSinceMostRecentDelq=-7                7888 non-null   float64\n",
      " 24  MSinceMostRecentInqexcl7days=-7        7888 non-null   float64\n",
      " 25  MSinceOldestTradeOpen=-8               7888 non-null   float64\n",
      " 26  MSinceMostRecentDelq=-8                7888 non-null   float64\n",
      " 27  MSinceMostRecentInqexcl7days=-8        7888 non-null   float64\n",
      " 28  NetFractionRevolvingBurden=-8          7888 non-null   float64\n",
      " 29  NetFractionInstallBurden=-8            7888 non-null   float64\n",
      " 30  NumRevolvingTradesWBalance=-8          7888 non-null   float64\n",
      " 31  NumInstallTradesWBalance=-8            7888 non-null   float64\n",
      " 32  NumBank2NatlTradesWHighUtilization=-8  7888 non-null   float64\n",
      " 33  PercentTradesWBalance=-8               7888 non-null   float64\n",
      "dtypes: float64(34)\n",
      "memory usage: 2.0 MB\n"
     ]
    }
   ],
   "source": [
    "X_train_t.info()"
   ]
  },
  {
   "cell_type": "markdown",
   "metadata": {
    "deletable": false,
    "editable": false,
    "nbgrader": {
     "grade": false,
     "grade_id": "cell-bed79c59ac70bbb1",
     "locked": true,
     "schema_version": 3,
     "solution": false,
     "task": false
    }
   },
   "source": [
    "Let's stop for a second and think. Why did we create this pipeline? Why not simply use pandas function, Python for loop, etc.? \n",
    "\n",
    "The reason is that we are going to train a model on the transformed dataset. That is, the model will expect 34 features (rather than the original 23 features). What if we need to make prediction about a new observation? This new observation is likely to be formatted in the original features space (from which there are 23 features). We must therefore transform it before making prediction. If we do it in pandas and Python, we need to duplicate the entire transformation code to do just that. \n",
    "\n",
    "This is how we do it in scikit-learn once we define pipelines. Suppose that our new data consists of observations 3 and 7 in the test set."
   ]
  },
  {
   "cell_type": "code",
   "execution_count": 77,
   "metadata": {
    "deletable": false,
    "editable": false,
    "nbgrader": {
     "grade": false,
     "grade_id": "cell-8ba4867de83a6389",
     "locked": true,
     "schema_version": 3,
     "solution": false,
     "task": false
    }
   },
   "outputs": [
    {
     "data": {
      "text/html": [
       "<div>\n",
       "<style scoped>\n",
       "    .dataframe tbody tr th:only-of-type {\n",
       "        vertical-align: middle;\n",
       "    }\n",
       "\n",
       "    .dataframe tbody tr th {\n",
       "        vertical-align: top;\n",
       "    }\n",
       "\n",
       "    .dataframe thead th {\n",
       "        text-align: right;\n",
       "    }\n",
       "</style>\n",
       "<table border=\"1\" class=\"dataframe\">\n",
       "  <thead>\n",
       "    <tr style=\"text-align: right;\">\n",
       "      <th></th>\n",
       "      <th>ExternalRiskEstimate</th>\n",
       "      <th>MSinceOldestTradeOpen</th>\n",
       "      <th>MSinceMostRecentTradeOpen</th>\n",
       "      <th>AverageMInFile</th>\n",
       "      <th>NumSatisfactoryTrades</th>\n",
       "      <th>NumTrades60Ever2DerogPubRec</th>\n",
       "      <th>NumTrades90Ever2DerogPubRec</th>\n",
       "      <th>PercentTradesNeverDelq</th>\n",
       "      <th>MSinceMostRecentDelq</th>\n",
       "      <th>MaxDelq2PublicRecLast12M</th>\n",
       "      <th>...</th>\n",
       "      <th>PercentInstallTrades</th>\n",
       "      <th>MSinceMostRecentInqexcl7days</th>\n",
       "      <th>NumInqLast6M</th>\n",
       "      <th>NumInqLast6Mexcl7days</th>\n",
       "      <th>NetFractionRevolvingBurden</th>\n",
       "      <th>NetFractionInstallBurden</th>\n",
       "      <th>NumRevolvingTradesWBalance</th>\n",
       "      <th>NumInstallTradesWBalance</th>\n",
       "      <th>NumBank2NatlTradesWHighUtilization</th>\n",
       "      <th>PercentTradesWBalance</th>\n",
       "    </tr>\n",
       "  </thead>\n",
       "  <tbody>\n",
       "    <tr>\n",
       "      <th>5880</th>\n",
       "      <td>73</td>\n",
       "      <td>445</td>\n",
       "      <td>15</td>\n",
       "      <td>125</td>\n",
       "      <td>12</td>\n",
       "      <td>0</td>\n",
       "      <td>0</td>\n",
       "      <td>83</td>\n",
       "      <td>21</td>\n",
       "      <td>6</td>\n",
       "      <td>...</td>\n",
       "      <td>42</td>\n",
       "      <td>0</td>\n",
       "      <td>1</td>\n",
       "      <td>1</td>\n",
       "      <td>55</td>\n",
       "      <td>-8</td>\n",
       "      <td>4</td>\n",
       "      <td>1</td>\n",
       "      <td>1</td>\n",
       "      <td>100</td>\n",
       "    </tr>\n",
       "    <tr>\n",
       "      <th>8533</th>\n",
       "      <td>60</td>\n",
       "      <td>198</td>\n",
       "      <td>19</td>\n",
       "      <td>57</td>\n",
       "      <td>19</td>\n",
       "      <td>0</td>\n",
       "      <td>0</td>\n",
       "      <td>90</td>\n",
       "      <td>6</td>\n",
       "      <td>4</td>\n",
       "      <td>...</td>\n",
       "      <td>62</td>\n",
       "      <td>-7</td>\n",
       "      <td>0</td>\n",
       "      <td>0</td>\n",
       "      <td>71</td>\n",
       "      <td>71</td>\n",
       "      <td>6</td>\n",
       "      <td>3</td>\n",
       "      <td>1</td>\n",
       "      <td>100</td>\n",
       "    </tr>\n",
       "  </tbody>\n",
       "</table>\n",
       "<p>2 rows × 23 columns</p>\n",
       "</div>"
      ],
      "text/plain": [
       "      ExternalRiskEstimate  MSinceOldestTradeOpen  MSinceMostRecentTradeOpen  \\\n",
       "5880                    73                    445                         15   \n",
       "8533                    60                    198                         19   \n",
       "\n",
       "      AverageMInFile  NumSatisfactoryTrades  NumTrades60Ever2DerogPubRec  \\\n",
       "5880             125                     12                            0   \n",
       "8533              57                     19                            0   \n",
       "\n",
       "      NumTrades90Ever2DerogPubRec  PercentTradesNeverDelq  \\\n",
       "5880                            0                      83   \n",
       "8533                            0                      90   \n",
       "\n",
       "      MSinceMostRecentDelq  MaxDelq2PublicRecLast12M  ...  \\\n",
       "5880                    21                         6  ...   \n",
       "8533                     6                         4  ...   \n",
       "\n",
       "      PercentInstallTrades  MSinceMostRecentInqexcl7days  NumInqLast6M  \\\n",
       "5880                    42                             0             1   \n",
       "8533                    62                            -7             0   \n",
       "\n",
       "      NumInqLast6Mexcl7days  NetFractionRevolvingBurden  \\\n",
       "5880                      1                          55   \n",
       "8533                      0                          71   \n",
       "\n",
       "      NetFractionInstallBurden  NumRevolvingTradesWBalance  \\\n",
       "5880                        -8                           4   \n",
       "8533                        71                           6   \n",
       "\n",
       "      NumInstallTradesWBalance  NumBank2NatlTradesWHighUtilization  \\\n",
       "5880                         1                                   1   \n",
       "8533                         3                                   1   \n",
       "\n",
       "      PercentTradesWBalance  \n",
       "5880                    100  \n",
       "8533                    100  \n",
       "\n",
       "[2 rows x 23 columns]"
      ]
     },
     "execution_count": 77,
     "metadata": {},
     "output_type": "execute_result"
    }
   ],
   "source": [
    "new_data =  X_test.iloc[[3,7],:]\n",
    "new_data"
   ]
  },
  {
   "cell_type": "code",
   "execution_count": 78,
   "metadata": {
    "deletable": false,
    "editable": false,
    "nbgrader": {
     "grade": false,
     "grade_id": "cell-eacd49c4e7f8c3b1",
     "locked": true,
     "schema_version": 3,
     "solution": false,
     "task": false
    }
   },
   "outputs": [
    {
     "data": {
      "text/html": [
       "<div>\n",
       "<style scoped>\n",
       "    .dataframe tbody tr th:only-of-type {\n",
       "        vertical-align: middle;\n",
       "    }\n",
       "\n",
       "    .dataframe tbody tr th {\n",
       "        vertical-align: top;\n",
       "    }\n",
       "\n",
       "    .dataframe thead th {\n",
       "        text-align: right;\n",
       "    }\n",
       "</style>\n",
       "<table border=\"1\" class=\"dataframe\">\n",
       "  <thead>\n",
       "    <tr style=\"text-align: right;\">\n",
       "      <th></th>\n",
       "      <th>ExternalRiskEstimate</th>\n",
       "      <th>MSinceOldestTradeOpen</th>\n",
       "      <th>MSinceMostRecentTradeOpen</th>\n",
       "      <th>AverageMInFile</th>\n",
       "      <th>NumSatisfactoryTrades</th>\n",
       "      <th>NumTrades60Ever2DerogPubRec</th>\n",
       "      <th>NumTrades90Ever2DerogPubRec</th>\n",
       "      <th>PercentTradesNeverDelq</th>\n",
       "      <th>MSinceMostRecentDelq</th>\n",
       "      <th>MaxDelq2PublicRecLast12M</th>\n",
       "      <th>...</th>\n",
       "      <th>MSinceMostRecentInqexcl7days=-7</th>\n",
       "      <th>MSinceOldestTradeOpen=-8</th>\n",
       "      <th>MSinceMostRecentDelq=-8</th>\n",
       "      <th>MSinceMostRecentInqexcl7days=-8</th>\n",
       "      <th>NetFractionRevolvingBurden=-8</th>\n",
       "      <th>NetFractionInstallBurden=-8</th>\n",
       "      <th>NumRevolvingTradesWBalance=-8</th>\n",
       "      <th>NumInstallTradesWBalance=-8</th>\n",
       "      <th>NumBank2NatlTradesWHighUtilization=-8</th>\n",
       "      <th>PercentTradesWBalance=-8</th>\n",
       "    </tr>\n",
       "  </thead>\n",
       "  <tbody>\n",
       "    <tr>\n",
       "      <th>0</th>\n",
       "      <td>73.0</td>\n",
       "      <td>445.0</td>\n",
       "      <td>15.0</td>\n",
       "      <td>125.0</td>\n",
       "      <td>12.0</td>\n",
       "      <td>0.0</td>\n",
       "      <td>0.0</td>\n",
       "      <td>83.0</td>\n",
       "      <td>21.0</td>\n",
       "      <td>6.0</td>\n",
       "      <td>...</td>\n",
       "      <td>0.0</td>\n",
       "      <td>0.0</td>\n",
       "      <td>0.0</td>\n",
       "      <td>0.0</td>\n",
       "      <td>0.0</td>\n",
       "      <td>1.0</td>\n",
       "      <td>0.0</td>\n",
       "      <td>0.0</td>\n",
       "      <td>0.0</td>\n",
       "      <td>0.0</td>\n",
       "    </tr>\n",
       "    <tr>\n",
       "      <th>1</th>\n",
       "      <td>60.0</td>\n",
       "      <td>198.0</td>\n",
       "      <td>19.0</td>\n",
       "      <td>57.0</td>\n",
       "      <td>19.0</td>\n",
       "      <td>0.0</td>\n",
       "      <td>0.0</td>\n",
       "      <td>90.0</td>\n",
       "      <td>6.0</td>\n",
       "      <td>4.0</td>\n",
       "      <td>...</td>\n",
       "      <td>1.0</td>\n",
       "      <td>0.0</td>\n",
       "      <td>0.0</td>\n",
       "      <td>0.0</td>\n",
       "      <td>0.0</td>\n",
       "      <td>0.0</td>\n",
       "      <td>0.0</td>\n",
       "      <td>0.0</td>\n",
       "      <td>0.0</td>\n",
       "      <td>0.0</td>\n",
       "    </tr>\n",
       "  </tbody>\n",
       "</table>\n",
       "<p>2 rows × 34 columns</p>\n",
       "</div>"
      ],
      "text/plain": [
       "   ExternalRiskEstimate  MSinceOldestTradeOpen  MSinceMostRecentTradeOpen  \\\n",
       "0                  73.0                  445.0                       15.0   \n",
       "1                  60.0                  198.0                       19.0   \n",
       "\n",
       "   AverageMInFile  NumSatisfactoryTrades  NumTrades60Ever2DerogPubRec  \\\n",
       "0           125.0                   12.0                          0.0   \n",
       "1            57.0                   19.0                          0.0   \n",
       "\n",
       "   NumTrades90Ever2DerogPubRec  PercentTradesNeverDelq  MSinceMostRecentDelq  \\\n",
       "0                          0.0                    83.0                  21.0   \n",
       "1                          0.0                    90.0                   6.0   \n",
       "\n",
       "   MaxDelq2PublicRecLast12M  ...  MSinceMostRecentInqexcl7days=-7  \\\n",
       "0                       6.0  ...                              0.0   \n",
       "1                       4.0  ...                              1.0   \n",
       "\n",
       "   MSinceOldestTradeOpen=-8  MSinceMostRecentDelq=-8  \\\n",
       "0                       0.0                      0.0   \n",
       "1                       0.0                      0.0   \n",
       "\n",
       "   MSinceMostRecentInqexcl7days=-8  NetFractionRevolvingBurden=-8  \\\n",
       "0                              0.0                            0.0   \n",
       "1                              0.0                            0.0   \n",
       "\n",
       "   NetFractionInstallBurden=-8  NumRevolvingTradesWBalance=-8  \\\n",
       "0                          1.0                            0.0   \n",
       "1                          0.0                            0.0   \n",
       "\n",
       "   NumInstallTradesWBalance=-8  NumBank2NatlTradesWHighUtilization=-8  \\\n",
       "0                          0.0                                    0.0   \n",
       "1                          0.0                                    0.0   \n",
       "\n",
       "   PercentTradesWBalance=-8  \n",
       "0                       0.0  \n",
       "1                       0.0  \n",
       "\n",
       "[2 rows x 34 columns]"
      ]
     },
     "execution_count": 78,
     "metadata": {},
     "output_type": "execute_result"
    }
   ],
   "source": [
    "new_data_t = pipeline.transform(new_data) # Notice that we run transform() and not fit_transform()!\n",
    "new_data_t = pd.DataFrame(new_data_t, columns=column_names)\n",
    "new_data_t"
   ]
  },
  {
   "cell_type": "markdown",
   "metadata": {
    "deletable": false,
    "editable": false,
    "nbgrader": {
     "grade": false,
     "grade_id": "cell-ded21018bb002e17",
     "locked": true,
     "schema_version": 3,
     "solution": false,
     "task": false
    }
   },
   "source": [
    "That's all. The dataframe `new_data_t`  contains the transformed (expanded and imputed) data. This was done using 2 lines of code!"
   ]
  },
  {
   "cell_type": "markdown",
   "metadata": {
    "deletable": false,
    "editable": false,
    "nbgrader": {
     "grade": false,
     "grade_id": "cell-ed1ab455cdd55b7e",
     "locked": true,
     "schema_version": 3,
     "solution": false,
     "task": false
    }
   },
   "source": [
    "Transform the test set `X_test` using the pipeline and create the data frame `X_test_t` which contains the transformed data and the column names. "
   ]
  },
  {
   "cell_type": "code",
   "execution_count": 79,
   "metadata": {
    "nbgrader": {
     "grade": false,
     "grade_id": "cell-6e6823b87f0353cx",
     "locked": false,
     "schema_version": 3,
     "solution": true,
     "task": false
    }
   },
   "outputs": [
    {
     "data": {
      "text/html": [
       "<div>\n",
       "<style scoped>\n",
       "    .dataframe tbody tr th:only-of-type {\n",
       "        vertical-align: middle;\n",
       "    }\n",
       "\n",
       "    .dataframe tbody tr th {\n",
       "        vertical-align: top;\n",
       "    }\n",
       "\n",
       "    .dataframe thead th {\n",
       "        text-align: right;\n",
       "    }\n",
       "</style>\n",
       "<table border=\"1\" class=\"dataframe\">\n",
       "  <thead>\n",
       "    <tr style=\"text-align: right;\">\n",
       "      <th></th>\n",
       "      <th>ExternalRiskEstimate</th>\n",
       "      <th>MSinceOldestTradeOpen</th>\n",
       "      <th>MSinceMostRecentTradeOpen</th>\n",
       "      <th>AverageMInFile</th>\n",
       "      <th>NumSatisfactoryTrades</th>\n",
       "      <th>NumTrades60Ever2DerogPubRec</th>\n",
       "      <th>NumTrades90Ever2DerogPubRec</th>\n",
       "      <th>PercentTradesNeverDelq</th>\n",
       "      <th>MSinceMostRecentDelq</th>\n",
       "      <th>MaxDelq2PublicRecLast12M</th>\n",
       "      <th>...</th>\n",
       "      <th>MSinceMostRecentInqexcl7days=-7</th>\n",
       "      <th>MSinceOldestTradeOpen=-8</th>\n",
       "      <th>MSinceMostRecentDelq=-8</th>\n",
       "      <th>MSinceMostRecentInqexcl7days=-8</th>\n",
       "      <th>NetFractionRevolvingBurden=-8</th>\n",
       "      <th>NetFractionInstallBurden=-8</th>\n",
       "      <th>NumRevolvingTradesWBalance=-8</th>\n",
       "      <th>NumInstallTradesWBalance=-8</th>\n",
       "      <th>NumBank2NatlTradesWHighUtilization=-8</th>\n",
       "      <th>PercentTradesWBalance=-8</th>\n",
       "    </tr>\n",
       "  </thead>\n",
       "  <tbody>\n",
       "    <tr>\n",
       "      <th>0</th>\n",
       "      <td>70.0</td>\n",
       "      <td>206.0</td>\n",
       "      <td>3.0</td>\n",
       "      <td>96.0</td>\n",
       "      <td>18.0</td>\n",
       "      <td>3.0</td>\n",
       "      <td>0.0</td>\n",
       "      <td>59.0</td>\n",
       "      <td>11.0</td>\n",
       "      <td>4.0</td>\n",
       "      <td>...</td>\n",
       "      <td>0.0</td>\n",
       "      <td>0.0</td>\n",
       "      <td>0.0</td>\n",
       "      <td>0.0</td>\n",
       "      <td>0.0</td>\n",
       "      <td>0.0</td>\n",
       "      <td>0.0</td>\n",
       "      <td>0.0</td>\n",
       "      <td>0.0</td>\n",
       "      <td>0.0</td>\n",
       "    </tr>\n",
       "    <tr>\n",
       "      <th>1</th>\n",
       "      <td>42.0</td>\n",
       "      <td>179.0</td>\n",
       "      <td>1.0</td>\n",
       "      <td>72.0</td>\n",
       "      <td>50.0</td>\n",
       "      <td>9.0</td>\n",
       "      <td>6.0</td>\n",
       "      <td>69.0</td>\n",
       "      <td>0.0</td>\n",
       "      <td>0.0</td>\n",
       "      <td>...</td>\n",
       "      <td>1.0</td>\n",
       "      <td>0.0</td>\n",
       "      <td>0.0</td>\n",
       "      <td>0.0</td>\n",
       "      <td>0.0</td>\n",
       "      <td>0.0</td>\n",
       "      <td>0.0</td>\n",
       "      <td>0.0</td>\n",
       "      <td>0.0</td>\n",
       "      <td>0.0</td>\n",
       "    </tr>\n",
       "  </tbody>\n",
       "</table>\n",
       "<p>2 rows × 34 columns</p>\n",
       "</div>"
      ],
      "text/plain": [
       "   ExternalRiskEstimate  MSinceOldestTradeOpen  MSinceMostRecentTradeOpen  \\\n",
       "0                  70.0                  206.0                        3.0   \n",
       "1                  42.0                  179.0                        1.0   \n",
       "\n",
       "   AverageMInFile  NumSatisfactoryTrades  NumTrades60Ever2DerogPubRec  \\\n",
       "0            96.0                   18.0                          3.0   \n",
       "1            72.0                   50.0                          9.0   \n",
       "\n",
       "   NumTrades90Ever2DerogPubRec  PercentTradesNeverDelq  MSinceMostRecentDelq  \\\n",
       "0                          0.0                    59.0                  11.0   \n",
       "1                          6.0                    69.0                   0.0   \n",
       "\n",
       "   MaxDelq2PublicRecLast12M  ...  MSinceMostRecentInqexcl7days=-7  \\\n",
       "0                       4.0  ...                              0.0   \n",
       "1                       0.0  ...                              1.0   \n",
       "\n",
       "   MSinceOldestTradeOpen=-8  MSinceMostRecentDelq=-8  \\\n",
       "0                       0.0                      0.0   \n",
       "1                       0.0                      0.0   \n",
       "\n",
       "   MSinceMostRecentInqexcl7days=-8  NetFractionRevolvingBurden=-8  \\\n",
       "0                              0.0                            0.0   \n",
       "1                              0.0                            0.0   \n",
       "\n",
       "   NetFractionInstallBurden=-8  NumRevolvingTradesWBalance=-8  \\\n",
       "0                          0.0                            0.0   \n",
       "1                          0.0                            0.0   \n",
       "\n",
       "   NumInstallTradesWBalance=-8  NumBank2NatlTradesWHighUtilization=-8  \\\n",
       "0                          0.0                                    0.0   \n",
       "1                          0.0                                    0.0   \n",
       "\n",
       "   PercentTradesWBalance=-8  \n",
       "0                       0.0  \n",
       "1                       0.0  \n",
       "\n",
       "[2 rows x 34 columns]"
      ]
     },
     "execution_count": 79,
     "metadata": {},
     "output_type": "execute_result"
    }
   ],
   "source": [
    "X_test_t = pipeline.transform(X_test) # Notice that we run transform() and not fit_transform()!\n",
    "X_test_t = pd.DataFrame(X_test_t, columns=column_names)\n",
    "X_test_t.head(2)\n",
    "###\n",
    "### YOUR CODE HERE\n",
    "###\n"
   ]
  },
  {
   "cell_type": "code",
   "execution_count": 80,
   "metadata": {
    "deletable": false,
    "editable": false,
    "nbgrader": {
     "grade": true,
     "grade_id": "q4d",
     "locked": true,
     "points": 5,
     "schema_version": 3,
     "solution": false,
     "task": false
    }
   },
   "outputs": [],
   "source": [
    "### BEGIN TEST (DO NOT REMOVE CELL)\n",
    "sol = ANSWER_KEY['X_test_t']\n",
    "diff = sol.compare(X_test_t)\n",
    "assert(len(diff)==0), 'testing X_test_t'\n",
    "### END TEST "
   ]
  },
  {
   "cell_type": "code",
   "execution_count": 81,
   "metadata": {
    "deletable": false,
    "editable": false,
    "nbgrader": {
     "grade": false,
     "grade_id": "cell-c938062a8abf4407",
     "locked": true,
     "schema_version": 3,
     "solution": false,
     "task": false
    }
   },
   "outputs": [
    {
     "data": {
      "text/html": [
       "<div>\n",
       "<style scoped>\n",
       "    .dataframe tbody tr th:only-of-type {\n",
       "        vertical-align: middle;\n",
       "    }\n",
       "\n",
       "    .dataframe tbody tr th {\n",
       "        vertical-align: top;\n",
       "    }\n",
       "\n",
       "    .dataframe thead th {\n",
       "        text-align: right;\n",
       "    }\n",
       "</style>\n",
       "<table border=\"1\" class=\"dataframe\">\n",
       "  <thead>\n",
       "    <tr style=\"text-align: right;\">\n",
       "      <th></th>\n",
       "      <th>ExternalRiskEstimate</th>\n",
       "      <th>MSinceOldestTradeOpen</th>\n",
       "      <th>MSinceMostRecentTradeOpen</th>\n",
       "      <th>AverageMInFile</th>\n",
       "      <th>NumSatisfactoryTrades</th>\n",
       "      <th>NumTrades60Ever2DerogPubRec</th>\n",
       "      <th>NumTrades90Ever2DerogPubRec</th>\n",
       "      <th>PercentTradesNeverDelq</th>\n",
       "      <th>MSinceMostRecentDelq</th>\n",
       "      <th>MaxDelq2PublicRecLast12M</th>\n",
       "      <th>...</th>\n",
       "      <th>MSinceMostRecentInqexcl7days=-7</th>\n",
       "      <th>MSinceOldestTradeOpen=-8</th>\n",
       "      <th>MSinceMostRecentDelq=-8</th>\n",
       "      <th>MSinceMostRecentInqexcl7days=-8</th>\n",
       "      <th>NetFractionRevolvingBurden=-8</th>\n",
       "      <th>NetFractionInstallBurden=-8</th>\n",
       "      <th>NumRevolvingTradesWBalance=-8</th>\n",
       "      <th>NumInstallTradesWBalance=-8</th>\n",
       "      <th>NumBank2NatlTradesWHighUtilization=-8</th>\n",
       "      <th>PercentTradesWBalance=-8</th>\n",
       "    </tr>\n",
       "  </thead>\n",
       "  <tbody>\n",
       "    <tr>\n",
       "      <th>0</th>\n",
       "      <td>70.0</td>\n",
       "      <td>206.0</td>\n",
       "      <td>3.0</td>\n",
       "      <td>96.0</td>\n",
       "      <td>18.0</td>\n",
       "      <td>3.0</td>\n",
       "      <td>0.0</td>\n",
       "      <td>59.0</td>\n",
       "      <td>11.0</td>\n",
       "      <td>4.0</td>\n",
       "      <td>...</td>\n",
       "      <td>0.0</td>\n",
       "      <td>0.0</td>\n",
       "      <td>0.0</td>\n",
       "      <td>0.0</td>\n",
       "      <td>0.0</td>\n",
       "      <td>0.0</td>\n",
       "      <td>0.0</td>\n",
       "      <td>0.0</td>\n",
       "      <td>0.0</td>\n",
       "      <td>0.0</td>\n",
       "    </tr>\n",
       "    <tr>\n",
       "      <th>1</th>\n",
       "      <td>42.0</td>\n",
       "      <td>179.0</td>\n",
       "      <td>1.0</td>\n",
       "      <td>72.0</td>\n",
       "      <td>50.0</td>\n",
       "      <td>9.0</td>\n",
       "      <td>6.0</td>\n",
       "      <td>69.0</td>\n",
       "      <td>0.0</td>\n",
       "      <td>0.0</td>\n",
       "      <td>...</td>\n",
       "      <td>1.0</td>\n",
       "      <td>0.0</td>\n",
       "      <td>0.0</td>\n",
       "      <td>0.0</td>\n",
       "      <td>0.0</td>\n",
       "      <td>0.0</td>\n",
       "      <td>0.0</td>\n",
       "      <td>0.0</td>\n",
       "      <td>0.0</td>\n",
       "      <td>0.0</td>\n",
       "    </tr>\n",
       "  </tbody>\n",
       "</table>\n",
       "<p>2 rows × 34 columns</p>\n",
       "</div>"
      ],
      "text/plain": [
       "   ExternalRiskEstimate  MSinceOldestTradeOpen  MSinceMostRecentTradeOpen  \\\n",
       "0                  70.0                  206.0                        3.0   \n",
       "1                  42.0                  179.0                        1.0   \n",
       "\n",
       "   AverageMInFile  NumSatisfactoryTrades  NumTrades60Ever2DerogPubRec  \\\n",
       "0            96.0                   18.0                          3.0   \n",
       "1            72.0                   50.0                          9.0   \n",
       "\n",
       "   NumTrades90Ever2DerogPubRec  PercentTradesNeverDelq  MSinceMostRecentDelq  \\\n",
       "0                          0.0                    59.0                  11.0   \n",
       "1                          6.0                    69.0                   0.0   \n",
       "\n",
       "   MaxDelq2PublicRecLast12M  ...  MSinceMostRecentInqexcl7days=-7  \\\n",
       "0                       4.0  ...                              0.0   \n",
       "1                       0.0  ...                              1.0   \n",
       "\n",
       "   MSinceOldestTradeOpen=-8  MSinceMostRecentDelq=-8  \\\n",
       "0                       0.0                      0.0   \n",
       "1                       0.0                      0.0   \n",
       "\n",
       "   MSinceMostRecentInqexcl7days=-8  NetFractionRevolvingBurden=-8  \\\n",
       "0                              0.0                            0.0   \n",
       "1                              0.0                            0.0   \n",
       "\n",
       "   NetFractionInstallBurden=-8  NumRevolvingTradesWBalance=-8  \\\n",
       "0                          0.0                            0.0   \n",
       "1                          0.0                            0.0   \n",
       "\n",
       "   NumInstallTradesWBalance=-8  NumBank2NatlTradesWHighUtilization=-8  \\\n",
       "0                          0.0                                    0.0   \n",
       "1                          0.0                                    0.0   \n",
       "\n",
       "   PercentTradesWBalance=-8  \n",
       "0                       0.0  \n",
       "1                       0.0  \n",
       "\n",
       "[2 rows x 34 columns]"
      ]
     },
     "execution_count": 81,
     "metadata": {},
     "output_type": "execute_result"
    }
   ],
   "source": [
    "# expected output\n",
    "ANSWER_KEY['X_test_t'].head(2)"
   ]
  },
  {
   "cell_type": "markdown",
   "metadata": {
    "deletable": false,
    "editable": false,
    "nbgrader": {
     "grade": false,
     "grade_id": "cell-30384b089a087b70",
     "locked": true,
     "schema_version": 3,
     "solution": false,
     "task": false
    }
   },
   "source": [
    "If you got the answer right, you noticed the difference in applying transformers to the train and test sets\n",
    "- train: pipeline.fit_transform(X_train)\n",
    "- test: pipeline.transform(X_test)\n",
    "\n",
    "When we run `.fit()` or `.fit_transform()` the transformer learns from the data given to it. For example, in the command\n",
    "\n",
    "    SimpleImputer(missing_values=-8, strategy='mean').fit_transform(arr1_t2)\n",
    "    \n",
    "we learned the mean values in each column of `arr1_t2` so we could use it to impute missing values. The function `fit` learns how to impute missing values using the given data, the function `transform` performs the transformation, and the function `fit_transform` does both. To avoid data leakage between the test and train sets, it is important that we only learn from training data and not from the test data prior to evaluating our models using the test data."
   ]
  },
  {
   "cell_type": "markdown",
   "metadata": {
    "deletable": false,
    "editable": false,
    "nbgrader": {
     "grade": false,
     "grade_id": "cell-3029fa7182027c1a",
     "locked": true,
     "schema_version": 3,
     "solution": false,
     "task": false
    }
   },
   "source": [
    "# Part 3: Model training and evaluation\n",
    "\n",
    "Now that we have a pipeline that preprocessed the data, we can start training models. We will train 3 models: classification tree, logistic regression, and K-nearest neighbors. \n",
    "\n",
    "We will use two methods for evaluation: validation set (simple cross validation) and cross-validation\n",
    "\n"
   ]
  },
  {
   "cell_type": "markdown",
   "metadata": {},
   "source": [
    "## Validation set\n",
    "\n",
    "Let' further split the train data to train and validation sets."
   ]
  },
  {
   "cell_type": "markdown",
   "metadata": {
    "deletable": false,
    "editable": false,
    "nbgrader": {
     "grade": false,
     "grade_id": "cell-c9007daf35f7b7ax",
     "locked": true,
     "schema_version": 3,
     "solution": false,
     "task": false
    }
   },
   "source": [
    "### (q5) \n",
    "\n",
    "Use the function `train_test_split` to split `X_train_t` into train and validation sets called. Allocate 25% of the train data  to the validation set (`test_size=0.25`), and set the parameter `random_state` to 1234. Initialize the following variables `X_train_t_tr, X_train_t_val, Y_train_t_tr, Y_train_t_val` according to their names (whether they hold the train or validation set, of the data matrix `X` or the labels `Y`)."
   ]
  },
  {
   "cell_type": "code",
   "execution_count": 82,
   "metadata": {
    "nbgrader": {
     "grade": false,
     "grade_id": "cell-81ad5020e7326ddx",
     "locked": false,
     "schema_version": 3,
     "solution": true,
     "task": false
    }
   },
   "outputs": [],
   "source": [
    "X_train_t_tr, X_train_t_val, Y_train_t_tr, Y_train_t_val = train_test_split(X_train_t, Y_train, test_size=0.25, random_state=1234)\n",
    "###\n",
    "### YOUR CODE HERE\n",
    "###\n"
   ]
  },
  {
   "cell_type": "code",
   "execution_count": 83,
   "metadata": {
    "collapsed": true,
    "deletable": false,
    "editable": false,
    "nbgrader": {
     "grade": true,
     "grade_id": "q5a_",
     "locked": true,
     "points": 3,
     "schema_version": 3,
     "solution": false,
     "task": false
    }
   },
   "outputs": [],
   "source": [
    "### BEGIN TEST (DO NOT REMOVE CELL)\n",
    "sol = ANSWER_KEY['X_train_t_tr']\n",
    "diff = sol.compare(X_train_t_tr, keep_equal=False, align_axis=0)\n",
    "assert(len(diff)==0), 'testing X_train_t_tr'\n",
    "### END TEST "
   ]
  },
  {
   "cell_type": "code",
   "execution_count": 84,
   "metadata": {
    "collapsed": true,
    "deletable": false,
    "editable": false,
    "nbgrader": {
     "grade": true,
     "grade_id": "q5b_",
     "locked": true,
     "points": 3,
     "schema_version": 3,
     "solution": false,
     "task": false
    }
   },
   "outputs": [],
   "source": [
    "### BEGIN TEST (DO NOT REMOVE CELL)\n",
    "sol = ANSWER_KEY['X_train_t_val']\n",
    "diff = sol.compare(X_train_t_val, keep_equal=False, align_axis=0)\n",
    "assert(len(diff)==0), 'testing X_train_t_val'\n",
    "### END TEST "
   ]
  },
  {
   "cell_type": "code",
   "execution_count": 85,
   "metadata": {
    "collapsed": true,
    "deletable": false,
    "editable": false,
    "nbgrader": {
     "grade": true,
     "grade_id": "q5c_",
     "locked": true,
     "points": 3,
     "schema_version": 3,
     "solution": false,
     "task": false
    }
   },
   "outputs": [],
   "source": [
    "### BEGIN TEST (DO NOT REMOVE CELL)\n",
    "sol = ANSWER_KEY['Y_train_t_tr']\n",
    "diff = sol.compare(Y_train_t_tr, keep_equal=False, align_axis=0)\n",
    "assert(len(diff)==0), 'testing Y_train_t_tr'\n",
    "### END TEST "
   ]
  },
  {
   "cell_type": "code",
   "execution_count": 86,
   "metadata": {
    "collapsed": true,
    "deletable": false,
    "editable": false,
    "nbgrader": {
     "grade": true,
     "grade_id": "q5d_",
     "locked": true,
     "points": 3,
     "schema_version": 3,
     "solution": false,
     "task": false
    }
   },
   "outputs": [],
   "source": [
    "### BEGIN TEST (DO NOT REMOVE CELL)\n",
    "sol = ANSWER_KEY['Y_train_t_val']\n",
    "diff = sol.compare(Y_train_t_val, keep_equal=False, align_axis=0)\n",
    "assert(len(diff)==0), 'testing Y_train_t_val'\n",
    "### END TEST "
   ]
  },
  {
   "cell_type": "code",
   "execution_count": 87,
   "metadata": {
    "deletable": false,
    "editable": false,
    "nbgrader": {
     "grade": false,
     "grade_id": "cell-5ebb550b59e2cf9fx",
     "locked": true,
     "schema_version": 3,
     "solution": false,
     "task": false
    }
   },
   "outputs": [
    {
     "name": "stdout",
     "output_type": "stream",
     "text": [
      "The shape of X: (9871, 23)\n",
      "The shape of X_test_t: (1973, 34)\n",
      "The shape of X_train_t: (7888, 34)\n",
      "The shapes of X_train_t_tr, X_train_t_val, Y_train_t_tr, Y_train_t_val: (5916, 34) (1972, 34) (5916,) (1972,)\n"
     ]
    }
   ],
   "source": [
    "print('The shape of X:', X.shape)\n",
    "print('The shape of X_test_t:', X_test_t.shape)\n",
    "print('The shape of X_train_t:', X_train_t.shape)\n",
    "print('The shapes of X_train_t_tr, X_train_t_val, Y_train_t_tr, Y_train_t_val:', ANSWER_KEY['X_train_t_tr'].shape, ANSWER_KEY['X_train_t_val'].shape, ANSWER_KEY['Y_train_t_tr'].shape, ANSWER_KEY['Y_train_t_val'].shape)"
   ]
  },
  {
   "cell_type": "code",
   "execution_count": 88,
   "metadata": {
    "deletable": false,
    "editable": false,
    "nbgrader": {
     "grade": false,
     "grade_id": "cell-6cefcb2808a05e1d",
     "locked": true,
     "schema_version": 3,
     "solution": false,
     "task": false
    }
   },
   "outputs": [
    {
     "name": "stdout",
     "output_type": "stream",
     "text": [
      "The proportion of train:validation:test data is 0.6:0.2:0.2\n"
     ]
    }
   ],
   "source": [
    "print('The proportion of train:validation:test data is %.1f:%.1f:%.1f'%(len(Y_train_t_tr)/len(Y), len(Y_train_t_val)/len(Y), len(Y_test)/len(Y)))"
   ]
  },
  {
   "cell_type": "markdown",
   "metadata": {
    "deletable": false,
    "editable": false,
    "nbgrader": {
     "grade": false,
     "grade_id": "cell-c447fc5896466a6f",
     "locked": true,
     "schema_version": 3,
     "solution": false,
     "task": false
    }
   },
   "source": [
    "When we use the validation set approach, we use 60% of the data to train models (`X_train_t_tr`,`Y_train_t_tr`), we use 20% of the data for model selection (`X_train_t_val`,`Y_train_t_val`), and the remaining 20% for final evaluation (`X_test_t_tr`,`Y_test`)"
   ]
  },
  {
   "cell_type": "markdown",
   "metadata": {
    "deletable": false,
    "editable": false,
    "nbgrader": {
     "grade": false,
     "grade_id": "cell-fd2ced76714dbb2d",
     "locked": true,
     "schema_version": 3,
     "solution": false,
     "task": false
    }
   },
   "source": [
    "Let's train models!"
   ]
  },
  {
   "cell_type": "code",
   "execution_count": 89,
   "metadata": {
    "collapsed": true,
    "deletable": false,
    "editable": false,
    "nbgrader": {
     "grade": false,
     "grade_id": "cell-a960c2853f230ff3",
     "locked": true,
     "schema_version": 3,
     "solution": false,
     "task": false
    }
   },
   "outputs": [],
   "source": [
    "from sklearn import tree, linear_model, neighbors            \n",
    "clf_tree    = tree.DecisionTreeClassifier().fit(X_train_t_tr, Y_train_t_tr)\n",
    "clf_log_reg = linear_model.LogisticRegression(max_iter=10000).fit(X_train_t_tr, Y_train_t_tr) \n",
    "clf_knn     = neighbors.KNeighborsClassifier().fit(X_train_t_tr, Y_train_t_tr)"
   ]
  },
  {
   "cell_type": "markdown",
   "metadata": {
    "deletable": false,
    "editable": false,
    "nbgrader": {
     "grade": false,
     "grade_id": "cell-3c729cf49263f4f6",
     "locked": true,
     "schema_version": 3,
     "solution": false,
     "task": false
    }
   },
   "source": [
    "The parameter `max_iter` was set to 10000 in the logistic regression model to ensure that the algorithm converges, that is,  the estimation process reached steady parameter values as part of its execution. \n",
    "\n",
    "Next, we evaluate the performance of the models on the validation set."
   ]
  },
  {
   "cell_type": "code",
   "execution_count": 90,
   "metadata": {
    "deletable": false,
    "editable": false,
    "nbgrader": {
     "grade": false,
     "grade_id": "cell-88b0dea82cdce2aa",
     "locked": true,
     "schema_version": 3,
     "solution": false,
     "task": false
    }
   },
   "outputs": [
    {
     "name": "stdout",
     "output_type": "stream",
     "text": [
      "Decision tree accuracy: 0.611\n",
      "Logistic regression accuracy: 0.731\n",
      "KNN accuracy: 0.669\n"
     ]
    }
   ],
   "source": [
    "from sklearn.metrics import accuracy_score\n",
    "print('Decision tree accuracy: %.3f'%accuracy_score(Y_train_t_val, clf_tree.predict(X_train_t_val)))\n",
    "print('Logistic regression accuracy: %.3f'%accuracy_score(Y_train_t_val, clf_log_reg.predict(X_train_t_val)))\n",
    "print('KNN accuracy: %.3f'%accuracy_score(Y_train_t_val, clf_knn.predict(X_train_t_val)))"
   ]
  },
  {
   "cell_type": "markdown",
   "metadata": {
    "deletable": false,
    "editable": false,
    "nbgrader": {
     "grade": false,
     "grade_id": "cell-dc7b4a213e43b636",
     "locked": true,
     "schema_version": 3,
     "solution": false,
     "task": false
    }
   },
   "source": [
    "Observe that models can be controlled by various hyper-parameters that could have big impact over their behavior: \n",
    "\n",
    "    DecisionTreeClassifier(*, criterion='gini', splitter='best', max_depth=None, min_samples_split=2, min_samples_leaf=1, min_weight_fraction_leaf=0.0, max_features=None, random_state=None, max_leaf_nodes=None, min_impurity_decrease=0.0, min_impurity_split=None, class_weight=None, ccp_alpha=0.0)    \n",
    "    \n",
    "    LogisticRegression(penalty='l2', *, dual=False, tol=0.0001, C=1.0, fit_intercept=True, intercept_scaling=1, class_weight=None, random_state=None, solver='lbfgs', max_iter=100, multi_class='auto', verbose=0, warm_start=False, n_jobs=None, l1_ratio=None)\n",
    "    \n",
    "    KNeighborsClassifier(n_neighbors=5, *, weights='uniform', algorithm='auto', leaf_size=30, p=2, metric='minkowski', metric_params=None, n_jobs=None, **kwargs)\n",
    "    \n",
    "\n",
    "Understanding how each model works is important to tune the hyper-parameters. Additionally, scikit-learn offers some functions to automate this process. We'll get back to this later."
   ]
  },
  {
   "cell_type": "markdown",
   "metadata": {
    "deletable": false,
    "editable": false,
    "nbgrader": {
     "grade": false,
     "grade_id": "cell-7842417bceef973c",
     "locked": true,
     "schema_version": 3,
     "solution": false,
     "task": false
    }
   },
   "source": [
    "### (q6)\n",
    "\n",
    "Let's use cross-validation to evaluate models."
   ]
  },
  {
   "cell_type": "code",
   "execution_count": 91,
   "metadata": {
    "collapsed": true,
    "deletable": false,
    "editable": false,
    "nbgrader": {
     "grade": false,
     "grade_id": "cell-61079a207e628f6d",
     "locked": true,
     "schema_version": 3,
     "solution": false,
     "task": false
    }
   },
   "outputs": [],
   "source": [
    "clf_tree    = tree.DecisionTreeClassifier().fit(X_train_t_tr, Y_train_t_tr)\n",
    "clf_log_reg = linear_model.LogisticRegression(max_iter=10000).fit(X_train_t_tr, Y_train_t_tr) \n",
    "clf_knn     = neighbors.KNeighborsClassifier().fit(X_train_t_tr, Y_train_t_tr)"
   ]
  },
  {
   "cell_type": "code",
   "execution_count": 92,
   "metadata": {
    "collapsed": true,
    "deletable": false,
    "editable": false,
    "nbgrader": {
     "grade": false,
     "grade_id": "cell-1a082268758d5519",
     "locked": true,
     "schema_version": 3,
     "solution": false,
     "task": false
    }
   },
   "outputs": [],
   "source": [
    "from sklearn.model_selection import cross_validate\n",
    "cv_results_tree = cross_validate(tree.DecisionTreeClassifier(), X_train_t, Y_train, cv=5, return_estimator=True)\n",
    "cv_results_log_reg = cross_validate(linear_model.LogisticRegression(max_iter=10000), X_train_t, Y_train, cv=5, return_estimator=True)\n",
    "cv_results_knn = cross_validate(neighbors.KNeighborsClassifier(), X_train_t, Y_train, cv=5, return_estimator=True)"
   ]
  },
  {
   "cell_type": "markdown",
   "metadata": {
    "deletable": false,
    "editable": false,
    "nbgrader": {
     "grade": false,
     "grade_id": "cell-b9e80c6fe0a57509",
     "locked": true,
     "schema_version": 3,
     "solution": false,
     "task": false
    }
   },
   "source": [
    "Notice that we run the cross validation on the entire training data `X_train_t` (which includes the previously separated validation set). The cross-validation assures that we evaluate model performance on data that was not used in its training. Note that the running time is 5 times longer.\n",
    "\n",
    "Let's inspect the returned object."
   ]
  },
  {
   "cell_type": "code",
   "execution_count": 93,
   "metadata": {
    "deletable": false,
    "editable": false,
    "nbgrader": {
     "grade": false,
     "grade_id": "cell-8ce20b86898fd9c2",
     "locked": true,
     "schema_version": 3,
     "solution": false,
     "task": false
    }
   },
   "outputs": [
    {
     "data": {
      "text/plain": [
       "{'fit_time': array([0.12222385, 0.09951878, 0.09521246, 0.09860826, 0.09030557]),\n",
       " 'score_time': array([0.00363231, 0.00232792, 0.00362802, 0.00349641, 0.00260043]),\n",
       " 'estimator': [DecisionTreeClassifier(),\n",
       "  DecisionTreeClassifier(),\n",
       "  DecisionTreeClassifier(),\n",
       "  DecisionTreeClassifier(),\n",
       "  DecisionTreeClassifier()],\n",
       " 'test_score': array([0.6400507 , 0.63434728, 0.64195184, 0.65377299, 0.63094483])}"
      ]
     },
     "execution_count": 93,
     "metadata": {},
     "output_type": "execute_result"
    }
   ],
   "source": [
    "cv_results_tree"
   ]
  },
  {
   "cell_type": "code",
   "execution_count": 94,
   "metadata": {
    "deletable": false,
    "editable": false,
    "nbgrader": {
     "grade": false,
     "grade_id": "cell-a6250d2ce080259b",
     "locked": true,
     "schema_version": 3,
     "solution": false,
     "task": false
    }
   },
   "outputs": [
    {
     "data": {
      "text/plain": [
       "array([0.6400507 , 0.63434728, 0.64195184, 0.65377299, 0.63094483])"
      ]
     },
     "execution_count": 94,
     "metadata": {},
     "output_type": "execute_result"
    }
   ],
   "source": [
    "cv_results_tree['test_score'] # these are 5 evaluations (since we specified cv=5)"
   ]
  },
  {
   "cell_type": "code",
   "execution_count": 95,
   "metadata": {
    "deletable": false,
    "editable": false,
    "nbgrader": {
     "grade": false,
     "grade_id": "cell-6f74f0bc2192a22c",
     "locked": true,
     "schema_version": 3,
     "solution": false,
     "task": false
    }
   },
   "outputs": [
    {
     "name": "stdout",
     "output_type": "stream",
     "text": [
      "Classification tree - CV accuracy score 0.640\n",
      "Logistic regresion - CV accuracy score 0.740\n",
      "KNN - CV accuracy score 0.675\n"
     ]
    }
   ],
   "source": [
    "print('Classification tree - CV accuracy score %.3f'%cv_results_tree['test_score'].mean()) # this is their average value\n",
    "print('Logistic regresion - CV accuracy score %.3f'%cv_results_log_reg['test_score'].mean()) # this is their average value\n",
    "print('KNN - CV accuracy score %.3f'%cv_results_knn['test_score'].mean()) # this is their average value"
   ]
  },
  {
   "cell_type": "markdown",
   "metadata": {
    "deletable": false,
    "editable": false,
    "nbgrader": {
     "grade": false,
     "grade_id": "cell-7413c361496e7106",
     "locked": true,
     "schema_version": 3,
     "solution": false,
     "task": false
    }
   },
   "source": [
    "Reminder: these are the validation set scores"
   ]
  },
  {
   "cell_type": "code",
   "execution_count": 96,
   "metadata": {
    "deletable": false,
    "editable": false,
    "nbgrader": {
     "grade": false,
     "grade_id": "cell-83ad1ed74f4f5e3a",
     "locked": true,
     "schema_version": 3,
     "solution": false,
     "task": false
    }
   },
   "outputs": [
    {
     "name": "stdout",
     "output_type": "stream",
     "text": [
      "Classification tree - validation accuracy score: 0.615\n",
      "Logistic regresion - validation accuracy score: 0.731\n",
      "KNN - validation accuracy score: 0.669\n"
     ]
    }
   ],
   "source": [
    "print('Classification tree - validation accuracy score: %.3f'%accuracy_score(Y_train_t_val, clf_tree.predict(X_train_t_val)))\n",
    "print('Logistic regresion - validation accuracy score: %.3f'%accuracy_score(Y_train_t_val, clf_log_reg.predict(X_train_t_val)))\n",
    "print('KNN - validation accuracy score: %.3f'%accuracy_score(Y_train_t_val, clf_knn.predict(X_train_t_val)))"
   ]
  },
  {
   "cell_type": "markdown",
   "metadata": {
    "deletable": false,
    "editable": false,
    "nbgrader": {
     "grade": false,
     "grade_id": "cell-4cbd55b83d904d4d",
     "locked": true,
     "schema_version": 3,
     "solution": false,
     "task": false
    }
   },
   "source": [
    "CV tends to be more accurate but slower compared to validation set. If we have a large dataset, validation set would typically be sufficient.\n",
    "\n",
    "Typically, we would explore more models at this point, and try to narrow down the list to a few promising models. Next we would perform hyper-parameter tuning to try improve their performance. Here, we will focus only on the logistic regression model. We will use `GridSearchCV` to perform hyperparameter tuning."
   ]
  },
  {
   "cell_type": "code",
   "execution_count": 97,
   "metadata": {
    "deletable": false,
    "editable": false,
    "nbgrader": {
     "grade": false,
     "grade_id": "cell-f96e4d90e6f7cf98",
     "locked": true,
     "schema_version": 3,
     "solution": false,
     "task": false
    },
    "scrolled": true
   },
   "outputs": [
    {
     "data": {
      "text/plain": [
       "GridSearchCV(cv=3, estimator=DecisionTreeClassifier(),\n",
       "             param_grid=[{'criterion': ['gini', 'entropy'],\n",
       "                          'max_depth': [1, 2, 3, 4, 5],\n",
       "                          'min_samples_leaf': [10, 20, 30],\n",
       "                          'min_samples_split': [2, 5, 10]}],\n",
       "             scoring='accuracy')"
      ]
     },
     "execution_count": 97,
     "metadata": {},
     "output_type": "execute_result"
    }
   ],
   "source": [
    "from sklearn.model_selection import GridSearchCV\n",
    "param_grid = [{'max_depth':[1,2,3,4,5],  \n",
    "               'criterion':[\"gini\", \"entropy\"],            \n",
    "               'min_samples_split':[2,5,10],              \n",
    "               'min_samples_leaf':[10,20,30]}]\n",
    "clf_tree = tree.DecisionTreeClassifier()\n",
    "grid_search = GridSearchCV(clf_tree, param_grid, cv=3, scoring='accuracy')\n",
    "grid_search.fit(X_train_t,Y_train)"
   ]
  },
  {
   "cell_type": "code",
   "execution_count": 98,
   "metadata": {
    "deletable": false,
    "editable": false,
    "nbgrader": {
     "grade": false,
     "grade_id": "cell-23b8aa75ace597ea",
     "locked": true,
     "schema_version": 3,
     "solution": false,
     "task": false
    },
    "scrolled": true
   },
   "outputs": [
    {
     "name": "stdout",
     "output_type": "stream",
     "text": [
      "0.7122206200606379 {'criterion': 'gini', 'max_depth': 1, 'min_samples_leaf': 10, 'min_samples_split': 2}\n",
      "0.7122206200606379 {'criterion': 'gini', 'max_depth': 1, 'min_samples_leaf': 10, 'min_samples_split': 5}\n",
      "0.7122206200606379 {'criterion': 'gini', 'max_depth': 1, 'min_samples_leaf': 10, 'min_samples_split': 10}\n",
      "0.7122206200606379 {'criterion': 'gini', 'max_depth': 1, 'min_samples_leaf': 20, 'min_samples_split': 2}\n",
      "0.7122206200606379 {'criterion': 'gini', 'max_depth': 1, 'min_samples_leaf': 20, 'min_samples_split': 5}\n",
      "0.7122206200606379 {'criterion': 'gini', 'max_depth': 1, 'min_samples_leaf': 20, 'min_samples_split': 10}\n",
      "0.7122206200606379 {'criterion': 'gini', 'max_depth': 1, 'min_samples_leaf': 30, 'min_samples_split': 2}\n",
      "0.7122206200606379 {'criterion': 'gini', 'max_depth': 1, 'min_samples_leaf': 30, 'min_samples_split': 5}\n",
      "0.7122206200606379 {'criterion': 'gini', 'max_depth': 1, 'min_samples_leaf': 30, 'min_samples_split': 10}\n",
      "0.7122206200606379 {'criterion': 'gini', 'max_depth': 2, 'min_samples_leaf': 10, 'min_samples_split': 2}\n",
      "0.7122206200606379 {'criterion': 'gini', 'max_depth': 2, 'min_samples_leaf': 10, 'min_samples_split': 5}\n",
      "0.7122206200606379 {'criterion': 'gini', 'max_depth': 2, 'min_samples_leaf': 10, 'min_samples_split': 10}\n",
      "0.7122206200606379 {'criterion': 'gini', 'max_depth': 2, 'min_samples_leaf': 20, 'min_samples_split': 2}\n",
      "0.7122206200606379 {'criterion': 'gini', 'max_depth': 2, 'min_samples_leaf': 20, 'min_samples_split': 5}\n",
      "0.7122206200606379 {'criterion': 'gini', 'max_depth': 2, 'min_samples_leaf': 20, 'min_samples_split': 10}\n",
      "0.7122206200606379 {'criterion': 'gini', 'max_depth': 2, 'min_samples_leaf': 30, 'min_samples_split': 2}\n",
      "0.7122206200606379 {'criterion': 'gini', 'max_depth': 2, 'min_samples_leaf': 30, 'min_samples_split': 5}\n",
      "0.7122206200606379 {'criterion': 'gini', 'max_depth': 2, 'min_samples_leaf': 30, 'min_samples_split': 10}\n",
      "0.7055020992816305 {'criterion': 'gini', 'max_depth': 3, 'min_samples_leaf': 10, 'min_samples_split': 2}\n",
      "0.7055020992816305 {'criterion': 'gini', 'max_depth': 3, 'min_samples_leaf': 10, 'min_samples_split': 5}\n",
      "0.7055020992816305 {'criterion': 'gini', 'max_depth': 3, 'min_samples_leaf': 10, 'min_samples_split': 10}\n",
      "0.7055020992816305 {'criterion': 'gini', 'max_depth': 3, 'min_samples_leaf': 20, 'min_samples_split': 2}\n",
      "0.7055020992816305 {'criterion': 'gini', 'max_depth': 3, 'min_samples_leaf': 20, 'min_samples_split': 5}\n",
      "0.7055020992816305 {'criterion': 'gini', 'max_depth': 3, 'min_samples_leaf': 20, 'min_samples_split': 10}\n",
      "0.7055020992816305 {'criterion': 'gini', 'max_depth': 3, 'min_samples_leaf': 30, 'min_samples_split': 2}\n",
      "0.7055020992816305 {'criterion': 'gini', 'max_depth': 3, 'min_samples_leaf': 30, 'min_samples_split': 5}\n",
      "0.7055020992816305 {'criterion': 'gini', 'max_depth': 3, 'min_samples_leaf': 30, 'min_samples_split': 10}\n",
      "0.7207150815149924 {'criterion': 'gini', 'max_depth': 4, 'min_samples_leaf': 10, 'min_samples_split': 2}\n",
      "0.7207150815149924 {'criterion': 'gini', 'max_depth': 4, 'min_samples_leaf': 10, 'min_samples_split': 5}\n",
      "0.7207150815149924 {'criterion': 'gini', 'max_depth': 4, 'min_samples_leaf': 10, 'min_samples_split': 10}\n",
      "0.7208418724367625 {'criterion': 'gini', 'max_depth': 4, 'min_samples_leaf': 20, 'min_samples_split': 2}\n",
      "0.7208418724367625 {'criterion': 'gini', 'max_depth': 4, 'min_samples_leaf': 20, 'min_samples_split': 5}\n",
      "0.7208418724367625 {'criterion': 'gini', 'max_depth': 4, 'min_samples_leaf': 20, 'min_samples_split': 10}\n",
      "0.7174185175489723 {'criterion': 'gini', 'max_depth': 4, 'min_samples_leaf': 30, 'min_samples_split': 2}\n",
      "0.7174185175489723 {'criterion': 'gini', 'max_depth': 4, 'min_samples_leaf': 30, 'min_samples_split': 5}\n",
      "0.7174185175489723 {'criterion': 'gini', 'max_depth': 4, 'min_samples_leaf': 30, 'min_samples_split': 10}\n",
      "0.7161513796828877 {'criterion': 'gini', 'max_depth': 5, 'min_samples_leaf': 10, 'min_samples_split': 2}\n",
      "0.7161513796828877 {'criterion': 'gini', 'max_depth': 5, 'min_samples_leaf': 10, 'min_samples_split': 5}\n",
      "0.7161513796828877 {'criterion': 'gini', 'max_depth': 5, 'min_samples_leaf': 10, 'min_samples_split': 10}\n",
      "0.7175459351939298 {'criterion': 'gini', 'max_depth': 5, 'min_samples_leaf': 20, 'min_samples_split': 2}\n",
      "0.7172923533503898 {'criterion': 'gini', 'max_depth': 5, 'min_samples_leaf': 20, 'min_samples_split': 5}\n",
      "0.7175459351939298 {'criterion': 'gini', 'max_depth': 5, 'min_samples_leaf': 20, 'min_samples_split': 10}\n",
      "0.716404624060096 {'criterion': 'gini', 'max_depth': 5, 'min_samples_leaf': 30, 'min_samples_split': 2}\n",
      "0.716404624060096 {'criterion': 'gini', 'max_depth': 5, 'min_samples_leaf': 30, 'min_samples_split': 5}\n",
      "0.716404624060096 {'criterion': 'gini', 'max_depth': 5, 'min_samples_leaf': 30, 'min_samples_split': 10}\n",
      "0.7122206200606379 {'criterion': 'entropy', 'max_depth': 1, 'min_samples_leaf': 10, 'min_samples_split': 2}\n",
      "0.7122206200606379 {'criterion': 'entropy', 'max_depth': 1, 'min_samples_leaf': 10, 'min_samples_split': 5}\n",
      "0.7122206200606379 {'criterion': 'entropy', 'max_depth': 1, 'min_samples_leaf': 10, 'min_samples_split': 10}\n",
      "0.7122206200606379 {'criterion': 'entropy', 'max_depth': 1, 'min_samples_leaf': 20, 'min_samples_split': 2}\n",
      "0.7122206200606379 {'criterion': 'entropy', 'max_depth': 1, 'min_samples_leaf': 20, 'min_samples_split': 5}\n",
      "0.7122206200606379 {'criterion': 'entropy', 'max_depth': 1, 'min_samples_leaf': 20, 'min_samples_split': 10}\n",
      "0.7122206200606379 {'criterion': 'entropy', 'max_depth': 1, 'min_samples_leaf': 30, 'min_samples_split': 2}\n",
      "0.7122206200606379 {'criterion': 'entropy', 'max_depth': 1, 'min_samples_leaf': 30, 'min_samples_split': 5}\n",
      "0.7122206200606379 {'criterion': 'entropy', 'max_depth': 1, 'min_samples_leaf': 30, 'min_samples_split': 10}\n",
      "0.7122206200606379 {'criterion': 'entropy', 'max_depth': 2, 'min_samples_leaf': 10, 'min_samples_split': 2}\n",
      "0.7122206200606379 {'criterion': 'entropy', 'max_depth': 2, 'min_samples_leaf': 10, 'min_samples_split': 5}\n",
      "0.7122206200606379 {'criterion': 'entropy', 'max_depth': 2, 'min_samples_leaf': 10, 'min_samples_split': 10}\n",
      "0.7122206200606379 {'criterion': 'entropy', 'max_depth': 2, 'min_samples_leaf': 20, 'min_samples_split': 2}\n",
      "0.7122206200606379 {'criterion': 'entropy', 'max_depth': 2, 'min_samples_leaf': 20, 'min_samples_split': 5}\n",
      "0.7122206200606379 {'criterion': 'entropy', 'max_depth': 2, 'min_samples_leaf': 20, 'min_samples_split': 10}\n",
      "0.7122206200606379 {'criterion': 'entropy', 'max_depth': 2, 'min_samples_leaf': 30, 'min_samples_split': 2}\n",
      "0.7122206200606379 {'criterion': 'entropy', 'max_depth': 2, 'min_samples_leaf': 30, 'min_samples_split': 5}\n",
      "0.7122206200606379 {'criterion': 'entropy', 'max_depth': 2, 'min_samples_leaf': 30, 'min_samples_split': 10}\n",
      "0.7091776379381578 {'criterion': 'entropy', 'max_depth': 3, 'min_samples_leaf': 10, 'min_samples_split': 2}\n",
      "0.7091776379381578 {'criterion': 'entropy', 'max_depth': 3, 'min_samples_leaf': 10, 'min_samples_split': 5}\n",
      "0.7091776379381578 {'criterion': 'entropy', 'max_depth': 3, 'min_samples_leaf': 10, 'min_samples_split': 10}\n",
      "0.7091776379381578 {'criterion': 'entropy', 'max_depth': 3, 'min_samples_leaf': 20, 'min_samples_split': 2}\n",
      "0.7091776379381578 {'criterion': 'entropy', 'max_depth': 3, 'min_samples_leaf': 20, 'min_samples_split': 5}\n",
      "0.7091776379381578 {'criterion': 'entropy', 'max_depth': 3, 'min_samples_leaf': 20, 'min_samples_split': 10}\n",
      "0.7091776379381578 {'criterion': 'entropy', 'max_depth': 3, 'min_samples_leaf': 30, 'min_samples_split': 2}\n",
      "0.7091776379381578 {'criterion': 'entropy', 'max_depth': 3, 'min_samples_leaf': 30, 'min_samples_split': 5}\n",
      "0.7091776379381578 {'criterion': 'entropy', 'max_depth': 3, 'min_samples_leaf': 30, 'min_samples_split': 10}\n",
      "0.7197013808640199 {'criterion': 'entropy', 'max_depth': 4, 'min_samples_leaf': 10, 'min_samples_split': 2}\n",
      "0.7197013808640199 {'criterion': 'entropy', 'max_depth': 4, 'min_samples_leaf': 10, 'min_samples_split': 5}\n",
      "0.7197013808640199 {'criterion': 'entropy', 'max_depth': 4, 'min_samples_leaf': 10, 'min_samples_split': 10}\n",
      "0.717166574827615 {'criterion': 'entropy', 'max_depth': 4, 'min_samples_leaf': 20, 'min_samples_split': 2}\n",
      "0.717166574827615 {'criterion': 'entropy', 'max_depth': 4, 'min_samples_leaf': 20, 'min_samples_split': 5}\n",
      "0.717166574827615 {'criterion': 'entropy', 'max_depth': 4, 'min_samples_leaf': 20, 'min_samples_split': 10}\n",
      "0.7147575473139849 {'criterion': 'entropy', 'max_depth': 4, 'min_samples_leaf': 30, 'min_samples_split': 2}\n",
      "0.7147575473139849 {'criterion': 'entropy', 'max_depth': 4, 'min_samples_leaf': 30, 'min_samples_split': 5}\n",
      "0.7147575473139849 {'criterion': 'entropy', 'max_depth': 4, 'min_samples_leaf': 30, 'min_samples_split': 10}\n",
      "0.7160254565316849 {'criterion': 'entropy', 'max_depth': 5, 'min_samples_leaf': 10, 'min_samples_split': 2}\n",
      "0.7160254565316849 {'criterion': 'entropy', 'max_depth': 5, 'min_samples_leaf': 10, 'min_samples_split': 5}\n",
      "0.7165324273808612 {'criterion': 'entropy', 'max_depth': 5, 'min_samples_leaf': 10, 'min_samples_split': 10}\n",
      "0.7169126073082673 {'criterion': 'entropy', 'max_depth': 5, 'min_samples_leaf': 20, 'min_samples_split': 2}\n",
      "0.7169126073082673 {'criterion': 'entropy', 'max_depth': 5, 'min_samples_leaf': 20, 'min_samples_split': 5}\n",
      "0.7169126073082673 {'criterion': 'entropy', 'max_depth': 5, 'min_samples_leaf': 20, 'min_samples_split': 10}\n",
      "0.7160249744369254 {'criterion': 'entropy', 'max_depth': 5, 'min_samples_leaf': 30, 'min_samples_split': 2}\n",
      "0.7160249744369254 {'criterion': 'entropy', 'max_depth': 5, 'min_samples_leaf': 30, 'min_samples_split': 5}\n",
      "0.7160249744369254 {'criterion': 'entropy', 'max_depth': 5, 'min_samples_leaf': 30, 'min_samples_split': 10}\n"
     ]
    }
   ],
   "source": [
    "cvres = grid_search.cv_results_ # the variable that stores the grid search results\n",
    "for mean_score, params in zip(cvres[\"mean_test_score\"], cvres[\"params\"]):  # iterate over the tested configurations\n",
    "    print(mean_score, params)"
   ]
  },
  {
   "cell_type": "markdown",
   "metadata": {
    "deletable": false,
    "editable": false,
    "nbgrader": {
     "grade": false,
     "grade_id": "cell-3c807ec4fe921def",
     "locked": true,
     "schema_version": 3,
     "solution": false,
     "task": false
    }
   },
   "source": [
    "With some effort we improved the accuracy of decision trees from 64% to 71%. \n",
    "\n",
    "These are the best hyper-parameters we found so far"
   ]
  },
  {
   "cell_type": "code",
   "execution_count": 99,
   "metadata": {
    "deletable": false,
    "editable": false,
    "nbgrader": {
     "grade": false,
     "grade_id": "cell-5fa01e701dc2c4e8",
     "locked": true,
     "schema_version": 3,
     "solution": false,
     "task": false
    }
   },
   "outputs": [
    {
     "data": {
      "text/plain": [
       "{'criterion': 'gini',\n",
       " 'max_depth': 4,\n",
       " 'min_samples_leaf': 20,\n",
       " 'min_samples_split': 2}"
      ]
     },
     "execution_count": 99,
     "metadata": {},
     "output_type": "execute_result"
    }
   ],
   "source": [
    "grid_search.best_params_"
   ]
  },
  {
   "cell_type": "markdown",
   "metadata": {
    "deletable": false,
    "editable": false,
    "nbgrader": {
     "grade": false,
     "grade_id": "cell-b7d40bb5daae6aaa",
     "locked": true,
     "schema_version": 3,
     "solution": false,
     "task": false
    }
   },
   "source": [
    "And this is the classifier that was trained on the entire train data after completing the cross validation and choosing the best configuration:"
   ]
  },
  {
   "cell_type": "code",
   "execution_count": 100,
   "metadata": {
    "deletable": false,
    "editable": false,
    "nbgrader": {
     "grade": false,
     "grade_id": "cell-86bb3839e6b10fbc",
     "locked": true,
     "schema_version": 3,
     "solution": false,
     "task": false
    }
   },
   "outputs": [
    {
     "data": {
      "text/plain": [
       "DecisionTreeClassifier(max_depth=4, min_samples_leaf=20)"
      ]
     },
     "execution_count": 100,
     "metadata": {},
     "output_type": "execute_result"
    }
   ],
   "source": [
    "grid_search.best_estimator_ # variable holding the best classifier (fitted on the entire dataset)"
   ]
  },
  {
   "cell_type": "markdown",
   "metadata": {
    "deletable": false,
    "editable": false,
    "nbgrader": {
     "grade": false,
     "grade_id": "cell-f75eb287616fefd3",
     "locked": true,
     "schema_version": 3,
     "solution": false,
     "task": false
    }
   },
   "source": [
    "In the validation set approach, we would typically do something similar. Once we selected the best model and hyper parameters, we would train a model on the entire train data (train+validation)."
   ]
  },
  {
   "cell_type": "markdown",
   "metadata": {
    "deletable": false,
    "editable": false,
    "nbgrader": {
     "grade": false,
     "grade_id": "cell-f2b8accc494787de",
     "locked": true,
     "schema_version": 3,
     "solution": false,
     "task": false
    }
   },
   "source": [
    "Note that while we used accuracy for model selection (recall using `scoring='accuracy'` in `GridSearchCV`), this need not be our only or even our main criterion. Let's compute a few other metrics that are commonly used in practice. \n",
    "\n",
    "Let's train a model on the train set which we can evaluate on the validation set."
   ]
  },
  {
   "cell_type": "code",
   "execution_count": 101,
   "metadata": {
    "collapsed": true
   },
   "outputs": [],
   "source": [
    "clf_tree = tree.DecisionTreeClassifier(max_depth=4,min_samples_leaf=20).fit(X_train_t_tr, Y_train_t_tr)"
   ]
  },
  {
   "cell_type": "markdown",
   "metadata": {
    "deletable": false,
    "editable": false,
    "nbgrader": {
     "grade": false,
     "grade_id": "cell-f2b8accc494787dx",
     "locked": true,
     "schema_version": 3,
     "solution": false,
     "task": false
    }
   },
   "source": [
    "Note that while we used accuracy for model selection (recall using `scoring='accuracy'` in `GridSearchCV`), this need not be our only or even main criterion. Let's compute a few other metrics that are commonly used in practice. \n",
    "\n",
    "In the following questions initialize the variables to their respective values. You may use the lecture notes on \"The mechanics of ML\", Wikipedia (https://en.wikipedia.org/wiki/Precision_and_recall), and scikit-learn documentation (https://scikit-learn.org/stable/modules/model_evaluation.html).\n",
    "\n",
    "* conf_matrix: the confusion matrix where columns represent predictions (0,1) and rows the true labels (0,1). Note that this is opposite to the convention in the Wikipedia webpage above (but is consistent with scikit-learn).\n"
   ]
  },
  {
   "cell_type": "code",
   "execution_count": 102,
   "metadata": {
    "nbgrader": {
     "grade": false,
     "grade_id": "cell-e7517bf1af3073e1",
     "locked": false,
     "schema_version": 3,
     "solution": true,
     "task": false
    }
   },
   "outputs": [
    {
     "data": {
      "text/plain": [
       "array([[598, 354],\n",
       "       [240, 780]])"
      ]
     },
     "execution_count": 102,
     "metadata": {},
     "output_type": "execute_result"
    }
   ],
   "source": [
    "from sklearn.metrics import confusion_matrix\n",
    "\n",
    "conf_matrix = confusion_matrix(Y_train_t_val, clf_tree.predict(X_train_t_val)) #we get this from running the tree before\n",
    "conf_matrix\n",
    "###\n",
    "### YOUR CODE HERE\n",
    "###\n"
   ]
  },
  {
   "cell_type": "code",
   "execution_count": 103,
   "metadata": {
    "deletable": false,
    "editable": false,
    "nbgrader": {
     "grade": false,
     "grade_id": "cell-02017d37247f9d71",
     "locked": true,
     "schema_version": 3,
     "solution": false,
     "task": false
    }
   },
   "outputs": [
    {
     "name": "stdout",
     "output_type": "stream",
     "text": [
      "[[598 354]\n",
      " [240 780]]\n"
     ]
    }
   ],
   "source": [
    "# expected output\n",
    "print(ANSWER_KEY['conf_matrix'])"
   ]
  },
  {
   "cell_type": "code",
   "execution_count": 104,
   "metadata": {
    "collapsed": true,
    "deletable": false,
    "editable": false,
    "nbgrader": {
     "grade": true,
     "grade_id": "q6a",
     "locked": true,
     "points": 2,
     "schema_version": 3,
     "solution": false,
     "task": false
    }
   },
   "outputs": [],
   "source": [
    "### BEGIN TEST\n",
    "assert(np.isclose(ANSWER_KEY['conf_matrix'], conf_matrix, rtol=0, atol=0.01).all()), 'testing conf_matrix'\n",
    "### END TEST"
   ]
  },
  {
   "cell_type": "code",
   "execution_count": 105,
   "metadata": {
    "collapsed": true,
    "nbgrader": {
     "grade": false,
     "grade_id": "cell-586a32e800fcb590",
     "locked": false,
     "schema_version": 3,
     "solution": true,
     "task": false
    }
   },
   "outputs": [],
   "source": [
    "accuracy = accuracy_score(Y_train_t_val, clf_tree.predict(X_train_t_val))\n",
    "tn = 598\n",
    "fp = 354\n",
    "fn = 240\n",
    "tp = 780\n",
    "tpr = tp/(tp+fn)\n",
    "fpr = fp/(fp+tn)\n",
    "tnr = tn/(fp+tn)\n",
    "fnr = fn/(tp+fn)\n",
    "recall = tp/(tp+fn)\n",
    "precision = tp/(tp+fp)\n",
    "# ###\n",
    "# ### YOUR CODE HERE\n",
    "# ###\n"
   ]
  },
  {
   "cell_type": "code",
   "execution_count": 106,
   "metadata": {},
   "outputs": [
    {
     "name": "stdout",
     "output_type": "stream",
     "text": [
      "Accuracy: 0.70, Recall: 0.76, Precision: 0.69 \n",
      "\n",
      "Put differently, our predictions are correct 70% of the time, the model catches 76% of the defaulting customers, and the model is correct 69% of times it predicts 'Bad'.\n"
     ]
    }
   ],
   "source": [
    "print(\"Accuracy: %.2f, Recall: %.2f, Precision: %.2f\"%(ANSWER_KEY['accuracy'], ANSWER_KEY['recall'], ANSWER_KEY['precision']),'\\n')\n",
    "print(\"Put differently, our predictions are correct %.0f%% of the time, the model catches %.0f%% of the defaulting customers, and the model is correct %.0f%% of times it predicts 'Bad'.\"%(ANSWER_KEY['accuracy']*100, ANSWER_KEY['recall']*100, ANSWER_KEY['precision']*100))"
   ]
  },
  {
   "cell_type": "code",
   "execution_count": 107,
   "metadata": {
    "collapsed": true,
    "deletable": false,
    "editable": false,
    "nbgrader": {
     "grade": true,
     "grade_id": "q6b1",
     "locked": true,
     "points": 2,
     "schema_version": 3,
     "solution": false,
     "task": false
    }
   },
   "outputs": [],
   "source": [
    "### BEGIN TEST\n",
    "assert(np.isclose(ANSWER_KEY['accuracy'], accuracy, rtol=0, atol=0.01).all()), 'testing accuracy'\n",
    "### END TEST"
   ]
  },
  {
   "cell_type": "code",
   "execution_count": 108,
   "metadata": {
    "deletable": false,
    "editable": false,
    "nbgrader": {
     "grade": true,
     "grade_id": "q6b2",
     "locked": true,
     "points": 2,
     "schema_version": 3,
     "solution": false,
     "task": false
    }
   },
   "outputs": [],
   "source": [
    "### BEGIN TEST\n",
    "assert(np.isclose(ANSWER_KEY['tn'], tn, rtol=0, atol=0.01).all()), 'testing tn'\n",
    "### END TEST"
   ]
  },
  {
   "cell_type": "code",
   "execution_count": 109,
   "metadata": {
    "deletable": false,
    "editable": false,
    "nbgrader": {
     "grade": true,
     "grade_id": "q6b3",
     "locked": true,
     "points": 2,
     "schema_version": 3,
     "solution": false,
     "task": false
    }
   },
   "outputs": [],
   "source": [
    "### BEGIN TEST\n",
    "assert(np.isclose(ANSWER_KEY['fp'], fp, rtol=0, atol=0.01).all()), 'testing fp'\n",
    "### END TEST"
   ]
  },
  {
   "cell_type": "code",
   "execution_count": 110,
   "metadata": {
    "collapsed": true,
    "deletable": false,
    "editable": false,
    "nbgrader": {
     "grade": true,
     "grade_id": "q6b4",
     "locked": true,
     "points": 2,
     "schema_version": 3,
     "solution": false,
     "task": false
    }
   },
   "outputs": [],
   "source": [
    "### BEGIN TEST\n",
    "assert(np.isclose(ANSWER_KEY['fn'], fn, rtol=0, atol=0.01).all()), 'testing fn'\n",
    "### END TEST"
   ]
  },
  {
   "cell_type": "code",
   "execution_count": 111,
   "metadata": {
    "collapsed": true,
    "deletable": false,
    "editable": false,
    "nbgrader": {
     "grade": true,
     "grade_id": "q6b5",
     "locked": true,
     "points": 2,
     "schema_version": 3,
     "solution": false,
     "task": false
    }
   },
   "outputs": [],
   "source": [
    "### BEGIN TEST\n",
    "assert(np.isclose(ANSWER_KEY['tp'], tp, rtol=0, atol=0.01).all()), 'testing tp'\n",
    "### END TEST"
   ]
  },
  {
   "cell_type": "code",
   "execution_count": 112,
   "metadata": {
    "deletable": false,
    "editable": false,
    "nbgrader": {
     "grade": true,
     "grade_id": "q6b6",
     "locked": true,
     "points": 2,
     "schema_version": 3,
     "solution": false,
     "task": false
    }
   },
   "outputs": [],
   "source": [
    "### BEGIN TEST\n",
    "assert(np.isclose(ANSWER_KEY['fpr'], fpr, rtol=0, atol=0.01).all()), 'testing fpr'\n",
    "### END TEST"
   ]
  },
  {
   "cell_type": "code",
   "execution_count": 113,
   "metadata": {
    "collapsed": true,
    "deletable": false,
    "editable": false,
    "nbgrader": {
     "grade": true,
     "grade_id": "q6b7",
     "locked": true,
     "points": 2,
     "schema_version": 3,
     "solution": false,
     "task": false
    }
   },
   "outputs": [],
   "source": [
    "### BEGIN TEST\n",
    "assert(np.isclose(ANSWER_KEY['tpr'], tpr, rtol=0, atol=0.01).all()), 'testing tpr'\n",
    "### END TEST"
   ]
  },
  {
   "cell_type": "code",
   "execution_count": 114,
   "metadata": {
    "collapsed": true,
    "deletable": false,
    "editable": false,
    "nbgrader": {
     "grade": true,
     "grade_id": "q6b8",
     "locked": true,
     "points": 2,
     "schema_version": 3,
     "solution": false,
     "task": false
    }
   },
   "outputs": [],
   "source": [
    "### BEGIN TEST\n",
    "assert(np.isclose(ANSWER_KEY['tnr'], tnr, rtol=0, atol=0.01).all()), 'testing tnr'\n",
    "### END TEST"
   ]
  },
  {
   "cell_type": "code",
   "execution_count": 115,
   "metadata": {
    "collapsed": true,
    "deletable": false,
    "editable": false,
    "nbgrader": {
     "grade": true,
     "grade_id": "q6b9",
     "locked": true,
     "points": 2,
     "schema_version": 3,
     "solution": false,
     "task": false
    }
   },
   "outputs": [],
   "source": [
    "### BEGIN TEST\n",
    "assert(np.isclose(ANSWER_KEY['fnr'], fnr, rtol=0, atol=0.01).all()), 'testing fnr'\n",
    "### END TEST"
   ]
  },
  {
   "cell_type": "code",
   "execution_count": 116,
   "metadata": {
    "collapsed": true,
    "deletable": false,
    "editable": false,
    "nbgrader": {
     "grade": true,
     "grade_id": "q6b10",
     "locked": true,
     "points": 2,
     "schema_version": 3,
     "solution": false,
     "task": false
    }
   },
   "outputs": [],
   "source": [
    "### BEGIN TEST\n",
    "assert(np.isclose(ANSWER_KEY['recall'], recall, rtol=0, atol=0.01).all()), 'testing recall'\n",
    "### END TEST"
   ]
  },
  {
   "cell_type": "code",
   "execution_count": 117,
   "metadata": {
    "collapsed": true,
    "deletable": false,
    "editable": false,
    "nbgrader": {
     "grade": true,
     "grade_id": "q6b11",
     "locked": true,
     "points": 2,
     "schema_version": 3,
     "solution": false,
     "task": false
    }
   },
   "outputs": [],
   "source": [
    "### BEGIN TEST\n",
    "assert(np.isclose(ANSWER_KEY['precision'], precision, rtol=0, atol=0.01).all()), 'testing precision'\n",
    "### END TEST"
   ]
  },
  {
   "cell_type": "markdown",
   "metadata": {
    "deletable": false,
    "editable": false,
    "nbgrader": {
     "grade": false,
     "grade_id": "cell-7b8f3b6e0b0c7e93",
     "locked": true,
     "schema_version": 3,
     "solution": false,
     "task": false
    }
   },
   "source": [
    "Finally, let's draw the ROC curve for our model `clf_tree`"
   ]
  },
  {
   "cell_type": "code",
   "execution_count": 118,
   "metadata": {
    "deletable": false,
    "editable": false,
    "nbgrader": {
     "grade": false,
     "grade_id": "cell-74f6393a223b7a47",
     "locked": true,
     "schema_version": 3,
     "solution": false,
     "task": false
    }
   },
   "outputs": [
    {
     "data": {
      "image/png": "[encoded data removed]",
      "text/plain": [
       "<Figure size 360x360 with 1 Axes>"
      ]
     },
     "metadata": {
      "needs_background": "light"
     },
     "output_type": "display_data"
    }
   ],
   "source": [
    "from sklearn import metrics\n",
    "scores = clf_tree.predict_proba(X_train_t_val)[:,1]\n",
    "fpr, tpr, thresholds = metrics.roc_curve(Y_train_t_val, scores)\n",
    "auc = metrics.auc(fpr, tpr)\n",
    "plt.figure(figsize=(5,5))\n",
    "lw = 2\n",
    "plt.plot(fpr, tpr, color='darkorange', lw=lw, label='ROC curve (area = %0.2f)' % auc)\n",
    "plt.plot([0, 1], [0, 1], color='navy', lw=lw, linestyle='--')\n",
    "plt.xlim([0.0, 1.0])\n",
    "plt.ylim([0.0, 1.05])\n",
    "plt.xlabel('False Positive Rate')\n",
    "plt.ylabel('True Positive Rate (Recall)')\n",
    "plt.title('Receiver operating characteristic example')\n",
    "plt.legend(loc=\"lower right\");\n",
    "plt.plot([ANSWER_KEY['fpr']], [ANSWER_KEY['recall']], marker=\"x\", markeredgewidth=5, markersize=12);"
   ]
  },
  {
   "cell_type": "markdown",
   "metadata": {
    "deletable": false,
    "editable": false,
    "nbgrader": {
     "grade": false,
     "grade_id": "cell-311e3712e58335d1",
     "locked": true,
     "schema_version": 3,
     "solution": false,
     "task": false
    }
   },
   "source": [
    "The ROC curve simultaneously shows a series of models that differ by a certain threshold value (often on the probability for predicting 1 vs. 0). The 'x' marks the trained model `clf_tree`. Note that by slightly modifying the threshold we could move along the ROC curve to find a better tradeoff between Recall and FPR. "
   ]
  },
  {
   "cell_type": "markdown",
   "metadata": {
    "deletable": false,
    "editable": false,
    "nbgrader": {
     "grade": false,
     "grade_id": "cell-a31e421e4a6b064f",
     "locked": true,
     "schema_version": 3,
     "solution": false,
     "task": false
    }
   },
   "source": [
    "# Summary\n",
    "\n",
    "\n",
    "In this homework assignment, we practiced the mechanics of training and evaluating predictive models. By now, you should be familiar with the following concepts: \n",
    "* Preprocessing, imputers, and pipelines\n",
    "* Model training, Hyper-parameter tuning, grid search, and prediction\n",
    "* Validation set and cross validation\n",
    "* Confusion matrix\n",
    "* Performance metrics\n",
    "\n",
    "While this exercise illustrated the main steps of training and evaluating predictive models, in practice you will face other issues such as: \n",
    "* How to formulate the prediction problem? What exactly should you predict? \n",
    "* How to extract data from your company database and transform it into standard form?\n",
    "* Which preprocessing method to use? (you could have many alternatives)\n",
    "* Which models to use? (and which shouldn't you use?) \n",
    "* How to evaluate the model? Which of the various metrics we discussed is most appropriate? \n",
    "* Is the result good enough? Is 80% accuracy satisfactory? Is 90%? or 95%? \n",
    "\n",
    "In most cases there is no universal answer to these questions which greatly depend on the business context. It is important to understand who will be using your model,  what is their background, and what is the implication of making different types of errors in prediction. \n",
    "\n",
    "Nevertheless, the techniques (and code examples) that we covered here will be useful for any project."
   ]
  },
  {
   "cell_type": "code",
   "execution_count": 119,
   "metadata": {
    "collapsed": true,
    "deletable": false,
    "editable": false,
    "nbgrader": {
     "grade": true,
     "grade_id": "cell-56a7f83815146078",
     "locked": true,
     "points": 0,
     "schema_version": 3,
     "solution": false,
     "task": false
    }
   },
   "outputs": [],
   "source": [
    "### BEGIN TEST (DO NOT REMOVE CELL)\n",
    "if GENERATE_ANSWER_KEY: \n",
    "    with open(ANSWER_KEY_FILE_NAME, \"wb\") as f:\n",
    "        pickle.dump( ANSWER_KEY,  f)\n",
    "### END TEST "
   ]
  },
  {
   "cell_type": "markdown",
   "metadata": {
    "deletable": false,
    "editable": false,
    "nbgrader": {
     "grade": false,
     "grade_id": "cell-de4459e60753beb5",
     "locked": true,
     "schema_version": 3,
     "solution": false,
     "task": false
    }
   },
   "source": []
  }
 ],
 "metadata": {
  "celltoolbar": "Create Assignment",
  "kernelspec": {
   "display_name": "Python 3 [3.7]",
   "language": "python",
   "name": "python3"
  },
  "language_info": {
   "codemirror_mode": {
    "name": "ipython",
    "version": 3
   },
   "file_extension": ".py",
   "mimetype": "text/x-python",
   "name": "python",
   "nbconvert_exporter": "python",
   "pygments_lexer": "ipython3",
   "version": "3.7.5"
  },
  "latex_envs": {
   "LaTeX_envs_menu_present": true,
   "autoclose": false,
   "autocomplete": true,
   "bibliofile": "biblio.bib",
   "cite_by": "apalike",
   "current_citInitial": 1,
   "eqLabelWithNumbers": true,
   "eqNumInitial": 1,
   "hotkeys": {
    "equation": "Ctrl-E",
    "itemize": "Ctrl-I"
   },
   "labels_anchors": false,
   "latex_user_defs": false,
   "report_style_numbering": false,
   "user_envs_cfg": false
  },
  "toc": {
   "base_numbering": 1,
   "nav_menu": [],
   "number_sections": false,
   "sideBar": true,
   "skip_h1_title": false,
   "title_cell": "Table of Contents",
   "title_sidebar": "Contents",
   "toc_cell": false,
   "toc_position": {
    "height": "calc(100% - 180px)",
    "left": "10px",
    "top": "150px",
    "width": "165px"
   },
   "toc_section_display": true,
   "toc_window_display": true
  }
 },
 "nbformat": 4,
 "nbformat_minor": 4
}
